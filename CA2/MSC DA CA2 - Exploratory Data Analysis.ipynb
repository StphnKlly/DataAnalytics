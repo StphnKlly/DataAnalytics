{
 "cells": [
  {
   "cell_type": "markdown",
   "id": "2e67b243",
   "metadata": {},
   "source": [
    "# Data Preparation & Visualisation Tasks"
   ]
  },
  {
   "cell_type": "markdown",
   "id": "2eb550f5",
   "metadata": {},
   "source": [
    "Discuss in detail the process of acquiring your raw data, detailing the positive and/or negative aspects of your research and acquisition. This should include the relevance and implications of any and all licensing/permissions associated with the data. "
   ]
  },
  {
   "cell_type": "markdown",
   "id": "c7813968",
   "metadata": {},
   "source": [
    "Input Files One & Two Source: [Irish Data](https://data.gov.ie/organization/transport-infrastructure-ireland)"
   ]
  },
  {
   "cell_type": "code",
   "execution_count": 1,
   "id": "f618af36",
   "metadata": {},
   "outputs": [
    {
     "data": {
      "image/jpeg": "[encoded data removed]",
      "text/plain": [
       "<IPython.core.display.Image object>"
      ]
     },
     "execution_count": 1,
     "metadata": {
      "image/jpeg": {
       "height": 200,
       "width": 200
      }
     },
     "output_type": "execute_result"
    }
   ],
   "source": [
    "from IPython.display import Image\n",
    "Image(filename =r'data_gov_ie.JPG', width = 200, height = 200)"
   ]
  },
  {
   "cell_type": "markdown",
   "id": "b55cacaa",
   "metadata": {},
   "source": [
    "Irish data is available under the [Creative Commons Attribution 4.0](https://creativecommons.org/licenses/by/4.0/)"
   ]
  },
  {
   "cell_type": "code",
   "execution_count": 2,
   "id": "3fe718d0",
   "metadata": {},
   "outputs": [
    {
     "data": {
      "image/jpeg": "[encoded data removed]",
      "text/plain": [
       "<IPython.core.display.Image object>"
      ]
     },
     "execution_count": 2,
     "metadata": {
      "image/jpeg": {
       "height": 100,
       "width": 100
      }
     },
     "output_type": "execute_result"
    }
   ],
   "source": [
    "# Creative Commons Attribution Logo\n",
    "Image(filename =r'creative_commons.JPG', width = 100, height = 100)"
   ]
  },
  {
   "cell_type": "markdown",
   "id": "676f48ed",
   "metadata": {},
   "source": [
    "Input File Three's Source: [UK Data](https://www.codecademy.com/pages/contribute-docs)"
   ]
  },
  {
   "cell_type": "code",
   "execution_count": 3,
   "id": "619cb5ea",
   "metadata": {},
   "outputs": [
    {
     "data": {
      "image/jpeg": "[encoded data removed]",
      "text/plain": [
       "<IPython.core.display.Image object>"
      ]
     },
     "execution_count": 3,
     "metadata": {
      "image/jpeg": {
       "height": 200,
       "width": 200
      }
     },
     "output_type": "execute_result"
    }
   ],
   "source": [
    "# Source for UK data\n",
    "Image(filename =r'crown_copyright.JPG', width = 200, height = 200)"
   ]
  },
  {
   "cell_type": "markdown",
   "id": "2a2ddbb9",
   "metadata": {},
   "source": [
    "UK data is available under the [Open Government Licence v3.0](https://www.nationalarchives.gov.uk/doc/open-government-licence/version/3/)"
   ]
  },
  {
   "cell_type": "code",
   "execution_count": 4,
   "id": "f81a3a50",
   "metadata": {},
   "outputs": [
    {
     "data": {
      "image/jpeg": "[encoded data removed]",
      "text/plain": [
       "<IPython.core.display.Image object>"
      ]
     },
     "execution_count": 4,
     "metadata": {
      "image/jpeg": {
       "height": 100,
       "width": 100
      }
     },
     "output_type": "execute_result"
    }
   ],
   "source": [
    "# Open Government Licence Logo\n",
    "Image(filename =r'open_government_licence.JPG', width = 100, height = 100)"
   ]
  },
  {
   "cell_type": "markdown",
   "id": "28755ac4",
   "metadata": {},
   "source": [
    "Exploratory Data Analysis helps to identify patterns, inconsistencies, anomalies, missing data, and other attributes and issues in data sets so problems can be addressed. Evaluate your raw data and detail, in depth, the various attributes and issues that you find. Your evaluation should reference evidence to support your  chosen methodology and use visualizations to illustrate your findings."
   ]
  },
  {
   "cell_type": "markdown",
   "id": "09e89d66",
   "metadata": {},
   "source": [
    "### Steps Taken for Successful Exploratory Data Analysis\n",
    "\n",
    "###### EDA Step 1. Importing the required libraries for EDA\n",
    "###### EDA Step 2. Loading the data into the data frame.\n",
    "###### EDA Step 3. Checking the types of data\n",
    "###### EDA Step 4. Dropping irrelevant columns\n",
    "###### EDA Step 5. Renaming the columns\n",
    "###### EDA Step 6. Dropping the duplicate rows\n",
    "###### EDA Step 7. Dropping the missing or null values.\n",
    "###### EDA Step 8. Detecting Outliers\n",
    "###### EDA Step 9. Plot different features against one another"
   ]
  },
  {
   "cell_type": "code",
   "execution_count": 5,
   "id": "f07a35c7",
   "metadata": {},
   "outputs": [],
   "source": [
    "# EDA Step 1. Importing the required libraries for EDA\n",
    "import pandas as pd\n",
    "import numpy as np\n",
    "import seaborn as sns #visualisation\n",
    "import matplotlib.pyplot as plt #visualisation\n",
    "%matplotlib inline\n",
    "sns.set(color_codes=True)"
   ]
  },
  {
   "cell_type": "markdown",
   "id": "ec2f171c",
   "metadata": {},
   "source": [
    "## Programming for DA Tasks\n",
    "\n",
    "#### 2.\tData structures\n",
    "\n",
    "###### You are required to gather and process data that has been stored in at least two distinct formats. For example, this can be data in a CSV file, from a MySQL database or from a web API in JSON format. \n",
    "\n",
    "###### File One: Luas total passengers by week\n",
    "###### File One Type: csv\n",
    "###### File Two: Luas total passengers by month\n",
    "###### File Two Type: json\n",
    "###### File Three: Passenger journeys on light rail, trams and undergrounds by system: Great Britain (GB)\n",
    "###### File Three Type: ods"
   ]
  },
  {
   "cell_type": "code",
   "execution_count": 6,
   "id": "5be70bda",
   "metadata": {},
   "outputs": [],
   "source": [
    "# EDA Step 2. Loading the data into the data frame.\n",
    "df_luas_totals_all_data = pd.read_csv(r\"C:\\Users\\stphn\\Documents\\CCT\\Assessment\\CA2\\TII03.20240108183001.csv\")"
   ]
  },
  {
   "cell_type": "code",
   "execution_count": 7,
   "id": "3f875a81",
   "metadata": {},
   "outputs": [
    {
     "data": {
      "text/html": [
       "<div>\n",
       "<style scoped>\n",
       "    .dataframe tbody tr th:only-of-type {\n",
       "        vertical-align: middle;\n",
       "    }\n",
       "\n",
       "    .dataframe tbody tr th {\n",
       "        vertical-align: top;\n",
       "    }\n",
       "\n",
       "    .dataframe thead th {\n",
       "        text-align: right;\n",
       "    }\n",
       "</style>\n",
       "<table border=\"1\" class=\"dataframe\">\n",
       "  <thead>\n",
       "    <tr style=\"text-align: right;\">\n",
       "      <th></th>\n",
       "      <th>STATISTIC</th>\n",
       "      <th>Statistic Label</th>\n",
       "      <th>TLIST(W1)</th>\n",
       "      <th>Week</th>\n",
       "      <th>C03132V03784</th>\n",
       "      <th>Luas Line</th>\n",
       "      <th>UNIT</th>\n",
       "      <th>VALUE</th>\n",
       "    </tr>\n",
       "  </thead>\n",
       "  <tbody>\n",
       "    <tr>\n",
       "      <th>0</th>\n",
       "      <td>TII03C01</td>\n",
       "      <td>Passenger Journeys</td>\n",
       "      <td>2019W01</td>\n",
       "      <td>2019 Week 01</td>\n",
       "      <td>-</td>\n",
       "      <td>All Luas lines</td>\n",
       "      <td>Number</td>\n",
       "      <td>549533.0</td>\n",
       "    </tr>\n",
       "    <tr>\n",
       "      <th>1</th>\n",
       "      <td>TII03C01</td>\n",
       "      <td>Passenger Journeys</td>\n",
       "      <td>2019W01</td>\n",
       "      <td>2019 Week 01</td>\n",
       "      <td>1</td>\n",
       "      <td>Red line</td>\n",
       "      <td>Number</td>\n",
       "      <td>274139.0</td>\n",
       "    </tr>\n",
       "    <tr>\n",
       "      <th>2</th>\n",
       "      <td>TII03C01</td>\n",
       "      <td>Passenger Journeys</td>\n",
       "      <td>2019W01</td>\n",
       "      <td>2019 Week 01</td>\n",
       "      <td>2</td>\n",
       "      <td>Green line</td>\n",
       "      <td>Number</td>\n",
       "      <td>275394.0</td>\n",
       "    </tr>\n",
       "    <tr>\n",
       "      <th>3</th>\n",
       "      <td>TII03C01</td>\n",
       "      <td>Passenger Journeys</td>\n",
       "      <td>2019W02</td>\n",
       "      <td>2019 Week 02</td>\n",
       "      <td>-</td>\n",
       "      <td>All Luas lines</td>\n",
       "      <td>Number</td>\n",
       "      <td>839022.0</td>\n",
       "    </tr>\n",
       "    <tr>\n",
       "      <th>4</th>\n",
       "      <td>TII03C01</td>\n",
       "      <td>Passenger Journeys</td>\n",
       "      <td>2019W02</td>\n",
       "      <td>2019 Week 02</td>\n",
       "      <td>1</td>\n",
       "      <td>Red line</td>\n",
       "      <td>Number</td>\n",
       "      <td>408199.0</td>\n",
       "    </tr>\n",
       "  </tbody>\n",
       "</table>\n",
       "</div>"
      ],
      "text/plain": [
       "  STATISTIC     Statistic Label TLIST(W1)          Week C03132V03784  \\\n",
       "0  TII03C01  Passenger Journeys   2019W01  2019 Week 01            -   \n",
       "1  TII03C01  Passenger Journeys   2019W01  2019 Week 01            1   \n",
       "2  TII03C01  Passenger Journeys   2019W01  2019 Week 01            2   \n",
       "3  TII03C01  Passenger Journeys   2019W02  2019 Week 02            -   \n",
       "4  TII03C01  Passenger Journeys   2019W02  2019 Week 02            1   \n",
       "\n",
       "        Luas Line    UNIT     VALUE  \n",
       "0  All Luas lines  Number  549533.0  \n",
       "1        Red line  Number  274139.0  \n",
       "2      Green line  Number  275394.0  \n",
       "3  All Luas lines  Number  839022.0  \n",
       "4        Red line  Number  408199.0  "
      ]
     },
     "execution_count": 7,
     "metadata": {},
     "output_type": "execute_result"
    }
   ],
   "source": [
    "# display the first 5 rows of the dataframe\n",
    "df_luas_totals_all_data.head(5)"
   ]
  },
  {
   "cell_type": "code",
   "execution_count": 8,
   "id": "0ebbd7c1",
   "metadata": {},
   "outputs": [
    {
     "data": {
      "text/html": [
       "<div>\n",
       "<style scoped>\n",
       "    .dataframe tbody tr th:only-of-type {\n",
       "        vertical-align: middle;\n",
       "    }\n",
       "\n",
       "    .dataframe tbody tr th {\n",
       "        vertical-align: top;\n",
       "    }\n",
       "\n",
       "    .dataframe thead th {\n",
       "        text-align: right;\n",
       "    }\n",
       "</style>\n",
       "<table border=\"1\" class=\"dataframe\">\n",
       "  <thead>\n",
       "    <tr style=\"text-align: right;\">\n",
       "      <th></th>\n",
       "      <th>STATISTIC</th>\n",
       "      <th>Statistic Label</th>\n",
       "      <th>TLIST(W1)</th>\n",
       "      <th>Week</th>\n",
       "      <th>C03132V03784</th>\n",
       "      <th>Luas Line</th>\n",
       "      <th>UNIT</th>\n",
       "      <th>VALUE</th>\n",
       "    </tr>\n",
       "  </thead>\n",
       "  <tbody>\n",
       "    <tr>\n",
       "      <th>775</th>\n",
       "      <td>TII03C01</td>\n",
       "      <td>Passenger Journeys</td>\n",
       "      <td>2023W47</td>\n",
       "      <td>2023 Week 47</td>\n",
       "      <td>1</td>\n",
       "      <td>Red line</td>\n",
       "      <td>Number</td>\n",
       "      <td>465137.0</td>\n",
       "    </tr>\n",
       "    <tr>\n",
       "      <th>776</th>\n",
       "      <td>TII03C01</td>\n",
       "      <td>Passenger Journeys</td>\n",
       "      <td>2023W47</td>\n",
       "      <td>2023 Week 47</td>\n",
       "      <td>2</td>\n",
       "      <td>Green line</td>\n",
       "      <td>Number</td>\n",
       "      <td>452163.0</td>\n",
       "    </tr>\n",
       "    <tr>\n",
       "      <th>777</th>\n",
       "      <td>TII03C01</td>\n",
       "      <td>Passenger Journeys</td>\n",
       "      <td>2023W48</td>\n",
       "      <td>2023 Week 48</td>\n",
       "      <td>-</td>\n",
       "      <td>All Luas lines</td>\n",
       "      <td>Number</td>\n",
       "      <td>1084541.0</td>\n",
       "    </tr>\n",
       "    <tr>\n",
       "      <th>778</th>\n",
       "      <td>TII03C01</td>\n",
       "      <td>Passenger Journeys</td>\n",
       "      <td>2023W48</td>\n",
       "      <td>2023 Week 48</td>\n",
       "      <td>1</td>\n",
       "      <td>Red line</td>\n",
       "      <td>Number</td>\n",
       "      <td>556742.0</td>\n",
       "    </tr>\n",
       "    <tr>\n",
       "      <th>779</th>\n",
       "      <td>TII03C01</td>\n",
       "      <td>Passenger Journeys</td>\n",
       "      <td>2023W48</td>\n",
       "      <td>2023 Week 48</td>\n",
       "      <td>2</td>\n",
       "      <td>Green line</td>\n",
       "      <td>Number</td>\n",
       "      <td>527799.0</td>\n",
       "    </tr>\n",
       "  </tbody>\n",
       "</table>\n",
       "</div>"
      ],
      "text/plain": [
       "    STATISTIC     Statistic Label TLIST(W1)          Week C03132V03784  \\\n",
       "775  TII03C01  Passenger Journeys   2023W47  2023 Week 47            1   \n",
       "776  TII03C01  Passenger Journeys   2023W47  2023 Week 47            2   \n",
       "777  TII03C01  Passenger Journeys   2023W48  2023 Week 48            -   \n",
       "778  TII03C01  Passenger Journeys   2023W48  2023 Week 48            1   \n",
       "779  TII03C01  Passenger Journeys   2023W48  2023 Week 48            2   \n",
       "\n",
       "          Luas Line    UNIT      VALUE  \n",
       "775        Red line  Number   465137.0  \n",
       "776      Green line  Number   452163.0  \n",
       "777  All Luas lines  Number  1084541.0  \n",
       "778        Red line  Number   556742.0  \n",
       "779      Green line  Number   527799.0  "
      ]
     },
     "execution_count": 8,
     "metadata": {},
     "output_type": "execute_result"
    }
   ],
   "source": [
    "# display the last 5 rows\n",
    "df_luas_totals_all_data.tail(5)"
   ]
  },
  {
   "cell_type": "code",
   "execution_count": 9,
   "id": "e847aa26",
   "metadata": {},
   "outputs": [
    {
     "data": {
      "text/plain": [
       "STATISTIC           object\n",
       "Statistic Label     object\n",
       "TLIST(W1)           object\n",
       "Week                object\n",
       "C03132V03784        object\n",
       "Luas Line           object\n",
       "UNIT                object\n",
       "VALUE              float64\n",
       "dtype: object"
      ]
     },
     "execution_count": 9,
     "metadata": {},
     "output_type": "execute_result"
    }
   ],
   "source": [
    "# EDA Step 3. Checking the types of data\n",
    "df_luas_totals_all_data.dtypes"
   ]
  },
  {
   "cell_type": "code",
   "execution_count": 10,
   "id": "07316546",
   "metadata": {},
   "outputs": [
    {
     "data": {
      "text/plain": [
       "(780, 8)"
      ]
     },
     "execution_count": 10,
     "metadata": {},
     "output_type": "execute_result"
    }
   ],
   "source": [
    "df_luas_totals_all_data.shape"
   ]
  },
  {
   "cell_type": "code",
   "execution_count": 11,
   "id": "a4e70df2",
   "metadata": {},
   "outputs": [
    {
     "data": {
      "text/html": [
       "<div>\n",
       "<style scoped>\n",
       "    .dataframe tbody tr th:only-of-type {\n",
       "        vertical-align: middle;\n",
       "    }\n",
       "\n",
       "    .dataframe tbody tr th {\n",
       "        vertical-align: top;\n",
       "    }\n",
       "\n",
       "    .dataframe thead th {\n",
       "        text-align: right;\n",
       "    }\n",
       "</style>\n",
       "<table border=\"1\" class=\"dataframe\">\n",
       "  <thead>\n",
       "    <tr style=\"text-align: right;\">\n",
       "      <th></th>\n",
       "      <th>TLIST(W1)</th>\n",
       "      <th>Week</th>\n",
       "      <th>C03132V03784</th>\n",
       "      <th>Luas Line</th>\n",
       "      <th>VALUE</th>\n",
       "    </tr>\n",
       "  </thead>\n",
       "  <tbody>\n",
       "    <tr>\n",
       "      <th>0</th>\n",
       "      <td>2019W01</td>\n",
       "      <td>2019 Week 01</td>\n",
       "      <td>-</td>\n",
       "      <td>All Luas lines</td>\n",
       "      <td>549533.0</td>\n",
       "    </tr>\n",
       "    <tr>\n",
       "      <th>1</th>\n",
       "      <td>2019W01</td>\n",
       "      <td>2019 Week 01</td>\n",
       "      <td>1</td>\n",
       "      <td>Red line</td>\n",
       "      <td>274139.0</td>\n",
       "    </tr>\n",
       "    <tr>\n",
       "      <th>2</th>\n",
       "      <td>2019W01</td>\n",
       "      <td>2019 Week 01</td>\n",
       "      <td>2</td>\n",
       "      <td>Green line</td>\n",
       "      <td>275394.0</td>\n",
       "    </tr>\n",
       "    <tr>\n",
       "      <th>3</th>\n",
       "      <td>2019W02</td>\n",
       "      <td>2019 Week 02</td>\n",
       "      <td>-</td>\n",
       "      <td>All Luas lines</td>\n",
       "      <td>839022.0</td>\n",
       "    </tr>\n",
       "    <tr>\n",
       "      <th>4</th>\n",
       "      <td>2019W02</td>\n",
       "      <td>2019 Week 02</td>\n",
       "      <td>1</td>\n",
       "      <td>Red line</td>\n",
       "      <td>408199.0</td>\n",
       "    </tr>\n",
       "  </tbody>\n",
       "</table>\n",
       "</div>"
      ],
      "text/plain": [
       "  TLIST(W1)          Week C03132V03784       Luas Line     VALUE\n",
       "0   2019W01  2019 Week 01            -  All Luas lines  549533.0\n",
       "1   2019W01  2019 Week 01            1        Red line  274139.0\n",
       "2   2019W01  2019 Week 01            2      Green line  275394.0\n",
       "3   2019W02  2019 Week 02            -  All Luas lines  839022.0\n",
       "4   2019W02  2019 Week 02            1        Red line  408199.0"
      ]
     },
     "execution_count": 11,
     "metadata": {},
     "output_type": "execute_result"
    }
   ],
   "source": [
    "# EDA Step 4. Dropping irrelevant columns\n",
    "df_luas_totals = df_luas_totals_all_data.drop(['STATISTIC', 'Statistic Label', 'UNIT'], axis=1)\n",
    "df_luas_totals.head(5)"
   ]
  },
  {
   "cell_type": "code",
   "execution_count": 12,
   "id": "6c369c7c",
   "metadata": {
    "scrolled": true
   },
   "outputs": [
    {
     "data": {
      "text/html": [
       "<div>\n",
       "<style scoped>\n",
       "    .dataframe tbody tr th:only-of-type {\n",
       "        vertical-align: middle;\n",
       "    }\n",
       "\n",
       "    .dataframe tbody tr th {\n",
       "        vertical-align: top;\n",
       "    }\n",
       "\n",
       "    .dataframe thead th {\n",
       "        text-align: right;\n",
       "    }\n",
       "</style>\n",
       "<table border=\"1\" class=\"dataframe\">\n",
       "  <thead>\n",
       "    <tr style=\"text-align: right;\">\n",
       "      <th></th>\n",
       "      <th>TLIST</th>\n",
       "      <th>Week</th>\n",
       "      <th>ID</th>\n",
       "      <th>Luas Line</th>\n",
       "      <th>VALUE</th>\n",
       "    </tr>\n",
       "  </thead>\n",
       "  <tbody>\n",
       "    <tr>\n",
       "      <th>0</th>\n",
       "      <td>2019W01</td>\n",
       "      <td>2019 Week 01</td>\n",
       "      <td>-</td>\n",
       "      <td>All Luas lines</td>\n",
       "      <td>549533.0</td>\n",
       "    </tr>\n",
       "    <tr>\n",
       "      <th>1</th>\n",
       "      <td>2019W01</td>\n",
       "      <td>2019 Week 01</td>\n",
       "      <td>1</td>\n",
       "      <td>Red line</td>\n",
       "      <td>274139.0</td>\n",
       "    </tr>\n",
       "    <tr>\n",
       "      <th>2</th>\n",
       "      <td>2019W01</td>\n",
       "      <td>2019 Week 01</td>\n",
       "      <td>2</td>\n",
       "      <td>Green line</td>\n",
       "      <td>275394.0</td>\n",
       "    </tr>\n",
       "    <tr>\n",
       "      <th>3</th>\n",
       "      <td>2019W02</td>\n",
       "      <td>2019 Week 02</td>\n",
       "      <td>-</td>\n",
       "      <td>All Luas lines</td>\n",
       "      <td>839022.0</td>\n",
       "    </tr>\n",
       "    <tr>\n",
       "      <th>4</th>\n",
       "      <td>2019W02</td>\n",
       "      <td>2019 Week 02</td>\n",
       "      <td>1</td>\n",
       "      <td>Red line</td>\n",
       "      <td>408199.0</td>\n",
       "    </tr>\n",
       "  </tbody>\n",
       "</table>\n",
       "</div>"
      ],
      "text/plain": [
       "     TLIST          Week ID       Luas Line     VALUE\n",
       "0  2019W01  2019 Week 01  -  All Luas lines  549533.0\n",
       "1  2019W01  2019 Week 01  1        Red line  274139.0\n",
       "2  2019W01  2019 Week 01  2      Green line  275394.0\n",
       "3  2019W02  2019 Week 02  -  All Luas lines  839022.0\n",
       "4  2019W02  2019 Week 02  1        Red line  408199.0"
      ]
     },
     "execution_count": 12,
     "metadata": {},
     "output_type": "execute_result"
    }
   ],
   "source": [
    "# EDA Step 5. Renaming the column names\n",
    "df_luas_totals = df_luas_totals.rename(columns={\"TLIST(W1)\": \"TLIST\", \"C03132V03784\": \"ID\"})\n",
    "df_luas_totals.head(5)"
   ]
  },
  {
   "cell_type": "code",
   "execution_count": 13,
   "id": "ae96a993",
   "metadata": {},
   "outputs": [
    {
     "data": {
      "text/plain": [
       "(780, 5)"
      ]
     },
     "execution_count": 13,
     "metadata": {},
     "output_type": "execute_result"
    }
   ],
   "source": [
    "# EDA Step 6. Dropping the duplicate rows\n",
    "df_luas_totals.shape # Returns total number of rows and columns"
   ]
  },
  {
   "cell_type": "code",
   "execution_count": 14,
   "id": "cf9503b2",
   "metadata": {},
   "outputs": [
    {
     "name": "stdout",
     "output_type": "stream",
     "text": [
      "number of duplicate rows:  (0, 5)\n"
     ]
    }
   ],
   "source": [
    "# find number of rows containing duplicate data\n",
    "duplicate_rows_df = df_luas_totals[df_luas_totals.duplicated()]\n",
    "print(\"number of duplicate rows: \", duplicate_rows_df.shape)"
   ]
  },
  {
   "cell_type": "code",
   "execution_count": 15,
   "id": "7f60c70c",
   "metadata": {},
   "outputs": [
    {
     "data": {
      "text/plain": [
       "TLIST        780\n",
       "Week         780\n",
       "ID           780\n",
       "Luas Line    780\n",
       "VALUE        771\n",
       "dtype: int64"
      ]
     },
     "execution_count": 15,
     "metadata": {},
     "output_type": "execute_result"
    }
   ],
   "source": [
    "# count the number of rows before removing the data\n",
    "df_luas_totals.count()"
   ]
  },
  {
   "cell_type": "code",
   "execution_count": 16,
   "id": "d4421676",
   "metadata": {},
   "outputs": [
    {
     "data": {
      "text/html": [
       "<div>\n",
       "<style scoped>\n",
       "    .dataframe tbody tr th:only-of-type {\n",
       "        vertical-align: middle;\n",
       "    }\n",
       "\n",
       "    .dataframe tbody tr th {\n",
       "        vertical-align: top;\n",
       "    }\n",
       "\n",
       "    .dataframe thead th {\n",
       "        text-align: right;\n",
       "    }\n",
       "</style>\n",
       "<table border=\"1\" class=\"dataframe\">\n",
       "  <thead>\n",
       "    <tr style=\"text-align: right;\">\n",
       "      <th></th>\n",
       "      <th>TLIST</th>\n",
       "      <th>Week</th>\n",
       "      <th>ID</th>\n",
       "      <th>Luas Line</th>\n",
       "      <th>VALUE</th>\n",
       "    </tr>\n",
       "  </thead>\n",
       "  <tbody>\n",
       "    <tr>\n",
       "      <th>0</th>\n",
       "      <td>2019W01</td>\n",
       "      <td>2019 Week 01</td>\n",
       "      <td>-</td>\n",
       "      <td>All Luas lines</td>\n",
       "      <td>549533.0</td>\n",
       "    </tr>\n",
       "    <tr>\n",
       "      <th>1</th>\n",
       "      <td>2019W01</td>\n",
       "      <td>2019 Week 01</td>\n",
       "      <td>1</td>\n",
       "      <td>Red line</td>\n",
       "      <td>274139.0</td>\n",
       "    </tr>\n",
       "    <tr>\n",
       "      <th>2</th>\n",
       "      <td>2019W01</td>\n",
       "      <td>2019 Week 01</td>\n",
       "      <td>2</td>\n",
       "      <td>Green line</td>\n",
       "      <td>275394.0</td>\n",
       "    </tr>\n",
       "    <tr>\n",
       "      <th>3</th>\n",
       "      <td>2019W02</td>\n",
       "      <td>2019 Week 02</td>\n",
       "      <td>-</td>\n",
       "      <td>All Luas lines</td>\n",
       "      <td>839022.0</td>\n",
       "    </tr>\n",
       "    <tr>\n",
       "      <th>4</th>\n",
       "      <td>2019W02</td>\n",
       "      <td>2019 Week 02</td>\n",
       "      <td>1</td>\n",
       "      <td>Red line</td>\n",
       "      <td>408199.0</td>\n",
       "    </tr>\n",
       "  </tbody>\n",
       "</table>\n",
       "</div>"
      ],
      "text/plain": [
       "     TLIST          Week ID       Luas Line     VALUE\n",
       "0  2019W01  2019 Week 01  -  All Luas lines  549533.0\n",
       "1  2019W01  2019 Week 01  1        Red line  274139.0\n",
       "2  2019W01  2019 Week 01  2      Green line  275394.0\n",
       "3  2019W02  2019 Week 02  -  All Luas lines  839022.0\n",
       "4  2019W02  2019 Week 02  1        Red line  408199.0"
      ]
     },
     "execution_count": 16,
     "metadata": {},
     "output_type": "execute_result"
    }
   ],
   "source": [
    "# drop duplicates\n",
    "df_luas_totals = df_luas_totals.drop_duplicates()\n",
    "df_luas_totals.head(5)"
   ]
  },
  {
   "cell_type": "code",
   "execution_count": 17,
   "id": "00284481",
   "metadata": {},
   "outputs": [
    {
     "data": {
      "text/plain": [
       "TLIST        780\n",
       "Week         780\n",
       "ID           780\n",
       "Luas Line    780\n",
       "VALUE        771\n",
       "dtype: int64"
      ]
     },
     "execution_count": 17,
     "metadata": {},
     "output_type": "execute_result"
    }
   ],
   "source": [
    "# count the number of rows after removing duplicate data\n",
    "df_luas_totals.count()"
   ]
  },
  {
   "cell_type": "code",
   "execution_count": 18,
   "id": "6e5c3f97",
   "metadata": {},
   "outputs": [
    {
     "name": "stdout",
     "output_type": "stream",
     "text": [
      "TLIST        0\n",
      "Week         0\n",
      "ID           0\n",
      "Luas Line    0\n",
      "VALUE        9\n",
      "dtype: int64\n"
     ]
    }
   ],
   "source": [
    "# EDA Step 7. Dropping the missing or null values.\n",
    "print(df_luas_totals.isnull().sum()) # count nulls before dropping"
   ]
  },
  {
   "cell_type": "code",
   "execution_count": 19,
   "id": "12407b43",
   "metadata": {},
   "outputs": [
    {
     "data": {
      "text/plain": [
       "TLIST        771\n",
       "Week         771\n",
       "ID           771\n",
       "Luas Line    771\n",
       "VALUE        771\n",
       "dtype: int64"
      ]
     },
     "execution_count": 19,
     "metadata": {},
     "output_type": "execute_result"
    }
   ],
   "source": [
    "# drop null values\n",
    "df_luas_totals = df_luas_totals.dropna()\n",
    "df_luas_totals.count()"
   ]
  },
  {
   "cell_type": "code",
   "execution_count": 20,
   "id": "0416966c",
   "metadata": {},
   "outputs": [
    {
     "name": "stdout",
     "output_type": "stream",
     "text": [
      "TLIST        0\n",
      "Week         0\n",
      "ID           0\n",
      "Luas Line    0\n",
      "VALUE        0\n",
      "dtype: int64\n"
     ]
    }
   ],
   "source": [
    "print(df_luas_totals.isnull().sum()) # count nulls after being dropped"
   ]
  },
  {
   "cell_type": "code",
   "execution_count": 21,
   "id": "6cd0255e",
   "metadata": {},
   "outputs": [
    {
     "data": {
      "text/plain": [
       "Text(0.5, 1.0, 'Detecting Outliers From VALUE Column')"
      ]
     },
     "execution_count": 21,
     "metadata": {},
     "output_type": "execute_result"
    },
    {
     "data": {
      "image/png": "[encoded data removed]",
      "text/plain": [
       "<Figure size 640x480 with 1 Axes>"
      ]
     },
     "metadata": {},
     "output_type": "display_data"
    }
   ],
   "source": [
    "# EDA Step 8. Detecting Outliers\n",
    "# the seaborn boxplot is a very basic plot. \n",
    "# boxplots are used to visualize distributions.\n",
    "sns.boxplot(x=df_luas_totals['VALUE'])\n",
    "plt.title(\"Detecting Outliers From VALUE Column\")"
   ]
  },
  {
   "cell_type": "code",
   "execution_count": 22,
   "id": "63159323",
   "metadata": {},
   "outputs": [
    {
     "data": {
      "text/html": [
       "<div>\n",
       "<style scoped>\n",
       "    .dataframe tbody tr th:only-of-type {\n",
       "        vertical-align: middle;\n",
       "    }\n",
       "\n",
       "    .dataframe tbody tr th {\n",
       "        vertical-align: top;\n",
       "    }\n",
       "\n",
       "    .dataframe thead th {\n",
       "        text-align: right;\n",
       "    }\n",
       "</style>\n",
       "<table border=\"1\" class=\"dataframe\">\n",
       "  <thead>\n",
       "    <tr style=\"text-align: right;\">\n",
       "      <th></th>\n",
       "      <th>Week</th>\n",
       "      <th>ID</th>\n",
       "      <th>VALUE</th>\n",
       "    </tr>\n",
       "  </thead>\n",
       "  <tbody>\n",
       "    <tr>\n",
       "      <th>0</th>\n",
       "      <td>2019 Week 01</td>\n",
       "      <td>-</td>\n",
       "      <td>549533.0</td>\n",
       "    </tr>\n",
       "    <tr>\n",
       "      <th>1</th>\n",
       "      <td>2019 Week 01</td>\n",
       "      <td>1</td>\n",
       "      <td>274139.0</td>\n",
       "    </tr>\n",
       "    <tr>\n",
       "      <th>2</th>\n",
       "      <td>2019 Week 01</td>\n",
       "      <td>2</td>\n",
       "      <td>275394.0</td>\n",
       "    </tr>\n",
       "    <tr>\n",
       "      <th>3</th>\n",
       "      <td>2019 Week 02</td>\n",
       "      <td>-</td>\n",
       "      <td>839022.0</td>\n",
       "    </tr>\n",
       "    <tr>\n",
       "      <th>4</th>\n",
       "      <td>2019 Week 02</td>\n",
       "      <td>1</td>\n",
       "      <td>408199.0</td>\n",
       "    </tr>\n",
       "  </tbody>\n",
       "</table>\n",
       "</div>"
      ],
      "text/plain": [
       "           Week ID     VALUE\n",
       "0  2019 Week 01  -  549533.0\n",
       "1  2019 Week 01  1  274139.0\n",
       "2  2019 Week 01  2  275394.0\n",
       "3  2019 Week 02  -  839022.0\n",
       "4  2019 Week 02  1  408199.0"
      ]
     },
     "execution_count": 22,
     "metadata": {},
     "output_type": "execute_result"
    }
   ],
   "source": [
    "# the interquartile range needs text values dropped from datafrane to remove error warning \n",
    "df_luas_totals = df_luas_totals.drop([\"TLIST\", \"Luas Line\"], axis=1)\n",
    "df_luas_totals.head()"
   ]
  },
  {
   "cell_type": "code",
   "execution_count": 23,
   "id": "22de43d3",
   "metadata": {},
   "outputs": [
    {
     "name": "stdout",
     "output_type": "stream",
     "text": [
      "\n",
      " After adding two new columns : \n",
      "              Week ID      VALUE  Year Week2 WeekNo\n",
      "0    2019 Week 01  -   549533.0  2019  Week     01\n",
      "1    2019 Week 01  1   274139.0  2019  Week     01\n",
      "2    2019 Week 01  2   275394.0  2019  Week     01\n",
      "3    2019 Week 02  -   839022.0  2019  Week     02\n",
      "4    2019 Week 02  1   408199.0  2019  Week     02\n",
      "..            ... ..        ...   ...   ...    ...\n",
      "775  2023 Week 47  1   465137.0  2023  Week     47\n",
      "776  2023 Week 47  2   452163.0  2023  Week     47\n",
      "777  2023 Week 48  -  1084541.0  2023  Week     48\n",
      "778  2023 Week 48  1   556742.0  2023  Week     48\n",
      "779  2023 Week 48  2   527799.0  2023  Week     48\n",
      "\n",
      "[771 rows x 6 columns]\n"
     ]
    }
   ],
   "source": [
    "# the column Week has three values per row. we need to split these values into three columns\n",
    "# https://www.geeksforgeeks.org/split-a-text-column-into-two-columns-in-pandas-dataframe/   \n",
    "df_luas_totals[['Year','Week2','WeekNo']] = df_luas_totals.Week.str.split(expand=True) # Adding three new columns to the existing dataframe. \n",
    "  \n",
    "print(\"\\n After adding two new columns : \\n\", df_luas_totals) # print the dataframe to see newly added columns"
   ]
  },
  {
   "cell_type": "code",
   "execution_count": 24,
   "id": "eab1dab1",
   "metadata": {
    "scrolled": true
   },
   "outputs": [
    {
     "data": {
      "text/html": [
       "<div>\n",
       "<style scoped>\n",
       "    .dataframe tbody tr th:only-of-type {\n",
       "        vertical-align: middle;\n",
       "    }\n",
       "\n",
       "    .dataframe tbody tr th {\n",
       "        vertical-align: top;\n",
       "    }\n",
       "\n",
       "    .dataframe thead th {\n",
       "        text-align: right;\n",
       "    }\n",
       "</style>\n",
       "<table border=\"1\" class=\"dataframe\">\n",
       "  <thead>\n",
       "    <tr style=\"text-align: right;\">\n",
       "      <th></th>\n",
       "      <th>Week</th>\n",
       "      <th>ID</th>\n",
       "      <th>VALUE</th>\n",
       "      <th>Year</th>\n",
       "      <th>Week2</th>\n",
       "      <th>WeekNo</th>\n",
       "    </tr>\n",
       "  </thead>\n",
       "  <tbody>\n",
       "    <tr>\n",
       "      <th>0</th>\n",
       "      <td>2019 Week 01</td>\n",
       "      <td>-</td>\n",
       "      <td>549533.0</td>\n",
       "      <td>2019</td>\n",
       "      <td>Week</td>\n",
       "      <td>01</td>\n",
       "    </tr>\n",
       "    <tr>\n",
       "      <th>1</th>\n",
       "      <td>2019 Week 01</td>\n",
       "      <td>1</td>\n",
       "      <td>274139.0</td>\n",
       "      <td>2019</td>\n",
       "      <td>Week</td>\n",
       "      <td>01</td>\n",
       "    </tr>\n",
       "    <tr>\n",
       "      <th>2</th>\n",
       "      <td>2019 Week 01</td>\n",
       "      <td>2</td>\n",
       "      <td>275394.0</td>\n",
       "      <td>2019</td>\n",
       "      <td>Week</td>\n",
       "      <td>01</td>\n",
       "    </tr>\n",
       "    <tr>\n",
       "      <th>3</th>\n",
       "      <td>2019 Week 02</td>\n",
       "      <td>-</td>\n",
       "      <td>839022.0</td>\n",
       "      <td>2019</td>\n",
       "      <td>Week</td>\n",
       "      <td>02</td>\n",
       "    </tr>\n",
       "    <tr>\n",
       "      <th>4</th>\n",
       "      <td>2019 Week 02</td>\n",
       "      <td>1</td>\n",
       "      <td>408199.0</td>\n",
       "      <td>2019</td>\n",
       "      <td>Week</td>\n",
       "      <td>02</td>\n",
       "    </tr>\n",
       "  </tbody>\n",
       "</table>\n",
       "</div>"
      ],
      "text/plain": [
       "           Week ID     VALUE  Year Week2 WeekNo\n",
       "0  2019 Week 01  -  549533.0  2019  Week     01\n",
       "1  2019 Week 01  1  274139.0  2019  Week     01\n",
       "2  2019 Week 01  2  275394.0  2019  Week     01\n",
       "3  2019 Week 02  -  839022.0  2019  Week     02\n",
       "4  2019 Week 02  1  408199.0  2019  Week     02"
      ]
     },
     "execution_count": 24,
     "metadata": {},
     "output_type": "execute_result"
    }
   ],
   "source": [
    "df_luas_totals.head()"
   ]
  },
  {
   "cell_type": "code",
   "execution_count": 25,
   "id": "072d0445",
   "metadata": {},
   "outputs": [
    {
     "data": {
      "text/html": [
       "<div>\n",
       "<style scoped>\n",
       "    .dataframe tbody tr th:only-of-type {\n",
       "        vertical-align: middle;\n",
       "    }\n",
       "\n",
       "    .dataframe tbody tr th {\n",
       "        vertical-align: top;\n",
       "    }\n",
       "\n",
       "    .dataframe thead th {\n",
       "        text-align: right;\n",
       "    }\n",
       "</style>\n",
       "<table border=\"1\" class=\"dataframe\">\n",
       "  <thead>\n",
       "    <tr style=\"text-align: right;\">\n",
       "      <th></th>\n",
       "      <th>ID</th>\n",
       "      <th>VALUE</th>\n",
       "      <th>Year</th>\n",
       "      <th>WeekNo</th>\n",
       "    </tr>\n",
       "  </thead>\n",
       "  <tbody>\n",
       "    <tr>\n",
       "      <th>0</th>\n",
       "      <td>-</td>\n",
       "      <td>549533.0</td>\n",
       "      <td>2019</td>\n",
       "      <td>01</td>\n",
       "    </tr>\n",
       "    <tr>\n",
       "      <th>1</th>\n",
       "      <td>1</td>\n",
       "      <td>274139.0</td>\n",
       "      <td>2019</td>\n",
       "      <td>01</td>\n",
       "    </tr>\n",
       "    <tr>\n",
       "      <th>2</th>\n",
       "      <td>2</td>\n",
       "      <td>275394.0</td>\n",
       "      <td>2019</td>\n",
       "      <td>01</td>\n",
       "    </tr>\n",
       "    <tr>\n",
       "      <th>3</th>\n",
       "      <td>-</td>\n",
       "      <td>839022.0</td>\n",
       "      <td>2019</td>\n",
       "      <td>02</td>\n",
       "    </tr>\n",
       "    <tr>\n",
       "      <th>4</th>\n",
       "      <td>1</td>\n",
       "      <td>408199.0</td>\n",
       "      <td>2019</td>\n",
       "      <td>02</td>\n",
       "    </tr>\n",
       "  </tbody>\n",
       "</table>\n",
       "</div>"
      ],
      "text/plain": [
       "  ID     VALUE  Year WeekNo\n",
       "0  -  549533.0  2019     01\n",
       "1  1  274139.0  2019     01\n",
       "2  2  275394.0  2019     01\n",
       "3  -  839022.0  2019     02\n",
       "4  1  408199.0  2019     02"
      ]
     },
     "execution_count": 25,
     "metadata": {},
     "output_type": "execute_result"
    }
   ],
   "source": [
    "# for the interquartile range to run without error warning the dataframe values need to be numeric\n",
    "df_luas_totals = df_luas_totals.drop([\"Week\", \"Week2\"], axis=1) # drop columns containg text only\n",
    "df_luas_totals.head()"
   ]
  },
  {
   "cell_type": "code",
   "execution_count": 26,
   "id": "0a50213f",
   "metadata": {},
   "outputs": [
    {
     "data": {
      "text/html": [
       "<div>\n",
       "<style scoped>\n",
       "    .dataframe tbody tr th:only-of-type {\n",
       "        vertical-align: middle;\n",
       "    }\n",
       "\n",
       "    .dataframe tbody tr th {\n",
       "        vertical-align: top;\n",
       "    }\n",
       "\n",
       "    .dataframe thead th {\n",
       "        text-align: right;\n",
       "    }\n",
       "</style>\n",
       "<table border=\"1\" class=\"dataframe\">\n",
       "  <thead>\n",
       "    <tr style=\"text-align: right;\">\n",
       "      <th></th>\n",
       "      <th>ID</th>\n",
       "      <th>VALUE</th>\n",
       "      <th>Year</th>\n",
       "      <th>WeekNo</th>\n",
       "    </tr>\n",
       "  </thead>\n",
       "  <tbody>\n",
       "    <tr>\n",
       "      <th>0</th>\n",
       "      <td>0</td>\n",
       "      <td>549533.0</td>\n",
       "      <td>2019</td>\n",
       "      <td>01</td>\n",
       "    </tr>\n",
       "    <tr>\n",
       "      <th>1</th>\n",
       "      <td>1</td>\n",
       "      <td>274139.0</td>\n",
       "      <td>2019</td>\n",
       "      <td>01</td>\n",
       "    </tr>\n",
       "    <tr>\n",
       "      <th>2</th>\n",
       "      <td>2</td>\n",
       "      <td>275394.0</td>\n",
       "      <td>2019</td>\n",
       "      <td>01</td>\n",
       "    </tr>\n",
       "    <tr>\n",
       "      <th>3</th>\n",
       "      <td>0</td>\n",
       "      <td>839022.0</td>\n",
       "      <td>2019</td>\n",
       "      <td>02</td>\n",
       "    </tr>\n",
       "    <tr>\n",
       "      <th>4</th>\n",
       "      <td>1</td>\n",
       "      <td>408199.0</td>\n",
       "      <td>2019</td>\n",
       "      <td>02</td>\n",
       "    </tr>\n",
       "  </tbody>\n",
       "</table>\n",
       "</div>"
      ],
      "text/plain": [
       "  ID     VALUE  Year WeekNo\n",
       "0  0  549533.0  2019     01\n",
       "1  1  274139.0  2019     01\n",
       "2  2  275394.0  2019     01\n",
       "3  0  839022.0  2019     02\n",
       "4  1  408199.0  2019     02"
      ]
     },
     "execution_count": 26,
     "metadata": {},
     "output_type": "execute_result"
    }
   ],
   "source": [
    "# replace dash in ID column for zero\n",
    "# https://www.geeksforgeeks.org/python-pandas-dataframe-replace/\n",
    "# zero all lines\n",
    "# one red line\n",
    "# two green line\n",
    "df_luas_totals = df_luas_totals.replace('-', 0)\n",
    "df_luas_totals.head()"
   ]
  },
  {
   "cell_type": "code",
   "execution_count": 27,
   "id": "07768f94",
   "metadata": {},
   "outputs": [
    {
     "data": {
      "text/html": [
       "<div>\n",
       "<style scoped>\n",
       "    .dataframe tbody tr th:only-of-type {\n",
       "        vertical-align: middle;\n",
       "    }\n",
       "\n",
       "    .dataframe tbody tr th {\n",
       "        vertical-align: top;\n",
       "    }\n",
       "\n",
       "    .dataframe thead th {\n",
       "        text-align: right;\n",
       "    }\n",
       "</style>\n",
       "<table border=\"1\" class=\"dataframe\">\n",
       "  <thead>\n",
       "    <tr style=\"text-align: right;\">\n",
       "      <th></th>\n",
       "      <th>Year</th>\n",
       "      <th>WeekNo</th>\n",
       "      <th>ID</th>\n",
       "      <th>VALUE</th>\n",
       "    </tr>\n",
       "  </thead>\n",
       "  <tbody>\n",
       "    <tr>\n",
       "      <th>0</th>\n",
       "      <td>2019</td>\n",
       "      <td>01</td>\n",
       "      <td>0</td>\n",
       "      <td>549533.0</td>\n",
       "    </tr>\n",
       "    <tr>\n",
       "      <th>1</th>\n",
       "      <td>2019</td>\n",
       "      <td>01</td>\n",
       "      <td>1</td>\n",
       "      <td>274139.0</td>\n",
       "    </tr>\n",
       "    <tr>\n",
       "      <th>2</th>\n",
       "      <td>2019</td>\n",
       "      <td>01</td>\n",
       "      <td>2</td>\n",
       "      <td>275394.0</td>\n",
       "    </tr>\n",
       "    <tr>\n",
       "      <th>3</th>\n",
       "      <td>2019</td>\n",
       "      <td>02</td>\n",
       "      <td>0</td>\n",
       "      <td>839022.0</td>\n",
       "    </tr>\n",
       "    <tr>\n",
       "      <th>4</th>\n",
       "      <td>2019</td>\n",
       "      <td>02</td>\n",
       "      <td>1</td>\n",
       "      <td>408199.0</td>\n",
       "    </tr>\n",
       "  </tbody>\n",
       "</table>\n",
       "</div>"
      ],
      "text/plain": [
       "   Year WeekNo ID     VALUE\n",
       "0  2019     01  0  549533.0\n",
       "1  2019     01  1  274139.0\n",
       "2  2019     01  2  275394.0\n",
       "3  2019     02  0  839022.0\n",
       "4  2019     02  1  408199.0"
      ]
     },
     "execution_count": 27,
     "metadata": {},
     "output_type": "execute_result"
    }
   ],
   "source": [
    "# change the order of dataFrame columns\n",
    "# https://www.geeksforgeeks.org/change-the-order-of-a-pandas-dataframe-columns-in-python/\n",
    "df_luas_totals = df_luas_totals.iloc[:,[2,3,0,1]]\n",
    "df_luas_totals.head()"
   ]
  },
  {
   "cell_type": "code",
   "execution_count": 28,
   "id": "efb5e177",
   "metadata": {},
   "outputs": [
    {
     "name": "stdout",
     "output_type": "stream",
     "text": [
      "Year      int32\n",
      "WeekNo    int32\n",
      "ID        int32\n",
      "VALUE     int32\n",
      "dtype: object\n"
     ]
    }
   ],
   "source": [
    "# change Data Type of columns\n",
    "# https://www.geeksforgeeks.org/change-data-type-for-one-or-more-columns-in-pandas-dataframe/\n",
    "# using dictionary to convert specific columns\n",
    "convert_dict = {'Year': int,\n",
    "                'WeekNo': int,\n",
    "                'ID': int,\n",
    "                'VALUE': int,\n",
    "                }\n",
    " \n",
    "df_luas_totals = df_luas_totals.astype(convert_dict)\n",
    "print(df_luas_totals.dtypes)"
   ]
  },
  {
   "cell_type": "code",
   "execution_count": 29,
   "id": "a112c3e0",
   "metadata": {},
   "outputs": [
    {
     "data": {
      "image/png": "[encoded data removed]",
      "text/plain": [
       "<IPython.core.display.Image object>"
      ]
     },
     "execution_count": 29,
     "metadata": {
      "image/png": {
       "height": 300,
       "width": 500
      }
     },
     "output_type": "execute_result"
    }
   ],
   "source": [
    "Image(filename =r'Boxplot-WebG.png', width = 500, height = 300)"
   ]
  },
  {
   "cell_type": "code",
   "execution_count": 30,
   "id": "6f00d1a2",
   "metadata": {},
   "outputs": [
    {
     "name": "stdout",
     "output_type": "stream",
     "text": [
      "Year           2.0\n",
      "WeekNo        26.0\n",
      "ID             2.0\n",
      "VALUE     300446.5\n",
      "dtype: float64\n"
     ]
    }
   ],
   "source": [
    "# the IQR is the value of Q3 - Q1. The IQR tells us the range of the middle 50% of the data.\n",
    "Q1 = df_luas_totals.quantile(0.25)\n",
    "Q3 = df_luas_totals.quantile(0.75)\n",
    "IQR = Q3-Q1\n",
    "print(IQR)"
   ]
  },
  {
   "cell_type": "code",
   "execution_count": 31,
   "id": "f4956bb8",
   "metadata": {},
   "outputs": [
    {
     "data": {
      "text/plain": [
       "(771, 4)"
      ]
     },
     "execution_count": 31,
     "metadata": {},
     "output_type": "execute_result"
    }
   ],
   "source": [
    "# perform count before running code for the interquartile range\n",
    "df_luas_totals.shape # (771, 4)"
   ]
  },
  {
   "cell_type": "code",
   "execution_count": 32,
   "id": "8fbea2eb",
   "metadata": {},
   "outputs": [
    {
     "data": {
      "text/plain": [
       "(771, 4)"
      ]
     },
     "execution_count": 32,
     "metadata": {},
     "output_type": "execute_result"
    }
   ],
   "source": [
    "# the program will use these values to remove our outliers. \n",
    "# the code is commented out as the outliers are actual passenger numbers and accurate\n",
    "# it's just important to know how to use this technique.\n",
    "#df_just_values = df_just_values[~((df_just_values < (Q1-1.5 * IQR)) |(df_just_values > (Q3 + 1.5 * IQR))).any(axis=1)]\n",
    "df_luas_totals.shape # (771, 4)"
   ]
  },
  {
   "cell_type": "code",
   "execution_count": 33,
   "id": "0bde76a2",
   "metadata": {},
   "outputs": [
    {
     "data": {
      "text/html": [
       "<div>\n",
       "<style scoped>\n",
       "    .dataframe tbody tr th:only-of-type {\n",
       "        vertical-align: middle;\n",
       "    }\n",
       "\n",
       "    .dataframe tbody tr th {\n",
       "        vertical-align: top;\n",
       "    }\n",
       "\n",
       "    .dataframe thead th {\n",
       "        text-align: right;\n",
       "    }\n",
       "</style>\n",
       "<table border=\"1\" class=\"dataframe\">\n",
       "  <thead>\n",
       "    <tr style=\"text-align: right;\">\n",
       "      <th></th>\n",
       "      <th>Year</th>\n",
       "      <th>WeekNo</th>\n",
       "      <th>ID</th>\n",
       "      <th>VALUE</th>\n",
       "    </tr>\n",
       "  </thead>\n",
       "  <tbody>\n",
       "    <tr>\n",
       "      <th>775</th>\n",
       "      <td>2023</td>\n",
       "      <td>47</td>\n",
       "      <td>1</td>\n",
       "      <td>465137</td>\n",
       "    </tr>\n",
       "    <tr>\n",
       "      <th>776</th>\n",
       "      <td>2023</td>\n",
       "      <td>47</td>\n",
       "      <td>2</td>\n",
       "      <td>452163</td>\n",
       "    </tr>\n",
       "    <tr>\n",
       "      <th>777</th>\n",
       "      <td>2023</td>\n",
       "      <td>48</td>\n",
       "      <td>0</td>\n",
       "      <td>1084541</td>\n",
       "    </tr>\n",
       "    <tr>\n",
       "      <th>778</th>\n",
       "      <td>2023</td>\n",
       "      <td>48</td>\n",
       "      <td>1</td>\n",
       "      <td>556742</td>\n",
       "    </tr>\n",
       "    <tr>\n",
       "      <th>779</th>\n",
       "      <td>2023</td>\n",
       "      <td>48</td>\n",
       "      <td>2</td>\n",
       "      <td>527799</td>\n",
       "    </tr>\n",
       "  </tbody>\n",
       "</table>\n",
       "</div>"
      ],
      "text/plain": [
       "     Year  WeekNo  ID    VALUE\n",
       "775  2023      47   1   465137\n",
       "776  2023      47   2   452163\n",
       "777  2023      48   0  1084541\n",
       "778  2023      48   1   556742\n",
       "779  2023      48   2   527799"
      ]
     },
     "execution_count": 33,
     "metadata": {},
     "output_type": "execute_result"
    }
   ],
   "source": [
    "df_luas_totals.tail()"
   ]
  },
  {
   "cell_type": "code",
   "execution_count": 34,
   "id": "8db67b8a",
   "metadata": {},
   "outputs": [
    {
     "data": {
      "text/plain": [
       "Text(0.5, 1.0, 'Total Passengers For Each Line by Year')"
      ]
     },
     "execution_count": 34,
     "metadata": {},
     "output_type": "execute_result"
    },
    {
     "data": {
      "image/png": "[encoded data removed]",
      "text/plain": [
       "<Figure size 640x480 with 1 Axes>"
      ]
     },
     "metadata": {},
     "output_type": "display_data"
    }
   ],
   "source": [
    "# EDA Step 9. Plot different features against one another\n",
    "# https://www.statology.org/pandas-sum-column-with-condition/\n",
    "# https://www.w3schools.com/python/numpy/numpy_creating_arrays.asp\n",
    "all_passengers_2019 = df_luas_totals.loc[(df_luas_totals['Year'] == 2019) & (df_luas_totals['ID'] == 0), 'VALUE'].sum()\n",
    "all_passengers_2020 = df_luas_totals.loc[(df_luas_totals['Year'] == 2020) & (df_luas_totals['ID'] == 0), 'VALUE'].sum()\n",
    "all_passengers_2021 = df_luas_totals.loc[(df_luas_totals['Year'] == 2021) & (df_luas_totals['ID'] == 0), 'VALUE'].sum()\n",
    "all_passengers_2022 = df_luas_totals.loc[(df_luas_totals['Year'] == 2022) & (df_luas_totals['ID'] == 0), 'VALUE'].sum()\n",
    "all_passengers_2023 = df_luas_totals.loc[(df_luas_totals['Year'] == 2023) & (df_luas_totals['ID'] == 0), 'VALUE'].sum()\n",
    "all_arr = np.array([all_passengers_2019, all_passengers_2020, all_passengers_2021, all_passengers_2022, all_passengers_2023])\n",
    "\n",
    "red_passengers_2019 = df_luas_totals.loc[(df_luas_totals['Year'] == 2019) & (df_luas_totals['ID'] == 1), 'VALUE'].sum()\n",
    "red_passengers_2020 = df_luas_totals.loc[(df_luas_totals['Year'] == 2020) & (df_luas_totals['ID'] == 1), 'VALUE'].sum()\n",
    "red_passengers_2021 = df_luas_totals.loc[(df_luas_totals['Year'] == 2021) & (df_luas_totals['ID'] == 1), 'VALUE'].sum()\n",
    "red_passengers_2022 = df_luas_totals.loc[(df_luas_totals['Year'] == 2022) & (df_luas_totals['ID'] == 1), 'VALUE'].sum()\n",
    "red_passengers_2023 = df_luas_totals.loc[(df_luas_totals['Year'] == 2023) & (df_luas_totals['ID'] == 1), 'VALUE'].sum()\n",
    "red_arr = np.array([red_passengers_2019, red_passengers_2020, red_passengers_2021, red_passengers_2022, red_passengers_2023])\n",
    "\n",
    "green_passengers_2019 = df_luas_totals.loc[(df_luas_totals['Year'] == 2019) & (df_luas_totals['ID'] == 2), 'VALUE'].sum()\n",
    "green_passengers_2020 = df_luas_totals.loc[(df_luas_totals['Year'] == 2020) & (df_luas_totals['ID'] == 2), 'VALUE'].sum()\n",
    "green_passengers_2021 = df_luas_totals.loc[(df_luas_totals['Year'] == 2021) & (df_luas_totals['ID'] == 2), 'VALUE'].sum()\n",
    "green_passengers_2022 = df_luas_totals.loc[(df_luas_totals['Year'] == 2022) & (df_luas_totals['ID'] == 2), 'VALUE'].sum()\n",
    "green_passengers_2023 = df_luas_totals.loc[(df_luas_totals['Year'] == 2023) & (df_luas_totals['ID'] == 2), 'VALUE'].sum()\n",
    "green_arr = np.array([green_passengers_2019, green_passengers_2020, green_passengers_2021, green_passengers_2022, green_passengers_2023])\n",
    "\n",
    "# Create a sample dataframe with an text index\n",
    "plotdata = pd.DataFrame({\n",
    "    \"All Passengers\":all_arr,\n",
    "    \"Red Line Passengers\":red_arr,\n",
    "    \"Green Line Passengers\":green_arr\n",
    "    }, \n",
    "    index = df_luas_totals.Year.unique()\n",
    ")\n",
    "plotdata.plot(kind=\"bar\")\n",
    "plt.xlabel(\"Year\")\n",
    "plt.ylabel(\"Passengers * 10 Million\")\n",
    "plt.title(\"Total Passengers For Each Line by Year\")"
   ]
  },
  {
   "cell_type": "code",
   "execution_count": 35,
   "id": "dec68490",
   "metadata": {},
   "outputs": [
    {
     "name": "stdout",
     "output_type": "stream",
     "text": [
      "           2019      2020      2021      2022      2023\n",
      "All    48148506  19397972  19511557  38854633  44344608\n",
      "Red    23945608   9840431  10057708  20319692  23544813\n",
      "Green  24202898   9557549   9453850  18534942  20799794\n"
     ]
    }
   ],
   "source": [
    "# merge arrays into single array\n",
    "# https://www.w3schools.com/python/numpy/numpy_array_join.asp\n",
    "new_arr = np.array([all_arr, red_arr, green_arr])\n",
    "\n",
    "# convert numphy array to dataframe\n",
    "# https://www.geeksforgeeks.org/create-a-dataframe-from-a-numpy-array-and-specify-the-index-column-and-column-headers/\n",
    "# creating a list of index names \n",
    "index_values = ['All', 'Red', 'Green'] \n",
    "   \n",
    "# creating a list of column names \n",
    "column_values = ['2019', '2020', '2021', \n",
    "                '2022', '2023'] \n",
    "  \n",
    "# creating the dataframe \n",
    "df_formatted_luas_totals = pd.DataFrame(data = new_arr,  \n",
    "                  index = index_values,  \n",
    "                  columns = column_values) \n",
    "  \n",
    "# displaying the dataframe \n",
    "print(df_formatted_luas_totals)"
   ]
  },
  {
   "cell_type": "code",
   "execution_count": 36,
   "id": "cf0f24e9",
   "metadata": {},
   "outputs": [
    {
     "data": {
      "text/plain": [
       "Text(0.5, 1.0, 'Total Passengers For Each Line by Year')"
      ]
     },
     "execution_count": 36,
     "metadata": {},
     "output_type": "execute_result"
    },
    {
     "data": {
      "image/png": "[encoded data removed]",
      "text/plain": [
       "<Figure size 2000x1000 with 2 Axes>"
      ]
     },
     "metadata": {},
     "output_type": "display_data"
    }
   ],
   "source": [
    "# Finding the relations between the variables.\n",
    "plt.figure(figsize=(20,10))\n",
    "sns.heatmap(df_formatted_luas_totals,cmap=\"coolwarm\", annot=True, fmt=\"1\")\n",
    "#c\n",
    "#add title\n",
    "plt.title('Total Passengers For Each Line by Year')"
   ]
  },
  {
   "cell_type": "markdown",
   "id": "6e364318",
   "metadata": {},
   "source": [
    "###### File Two: Luas total passengers by month\n",
    "###### File Two Type: json"
   ]
  },
  {
   "cell_type": "code",
   "execution_count": 37,
   "id": "6bbe40ca",
   "metadata": {},
   "outputs": [],
   "source": [
    "# EDA Step 1. Importing the required libraries for EDA\n",
    "import json"
   ]
  },
  {
   "cell_type": "code",
   "execution_count": 38,
   "id": "897dd41d",
   "metadata": {},
   "outputs": [],
   "source": [
    "# EDA Step 2. Loading the data into the data frame\n",
    "# https://www.tutorialspoint.com/how-to-read-json-file-in-python\n",
    "# returns JSON object as a dictionary\n",
    "with open(r\"C:\\Users\\stphn\\Documents\\CCT\\Assessment\\CA2\\TOA11.json\") as f:\n",
    "   json_data = json.load(f)\n",
    "\n",
    "#print(json_data) # print file contents to check correct file has been hooked\n"
   ]
  },
  {
   "cell_type": "code",
   "execution_count": 39,
   "id": "7372baba",
   "metadata": {},
   "outputs": [],
   "source": [
    "# drill into file to find required data\n",
    "#print(json_data[\"dataset\"]['value']) # check for the correct values - should only print total passenger numbers\n",
    "lusa_total_passengers_json_data = json_data[\"dataset\"]['value'] # populate list with numeric values (total passengers) from the json\n",
    "\n",
    "\n",
    "#print(json_data[\"dataset\"]['dimension']['STATISTIC']['category']['label']) # returns the following sting{'TOA11C01': 'Red line', 'TOA11C02': 'Green line', 'TOA11C03': 'All Luas lines'}\n",
    "line_name_1 = json_data[\"dataset\"]['dimension']['STATISTIC']['category']['label']['TOA11C01'] # Red line\n",
    "line_name_2 = json_data[\"dataset\"]['dimension']['STATISTIC']['category']['label']['TOA11C02'] # Green line\n",
    "line_name_3 = json_data[\"dataset\"]['dimension']['STATISTIC']['category']['label']['TOA11C03'] # All Luas lines\n",
    "line_names_list = [line_name_1, line_name_1, line_name_1, line_name_1, line_name_1,\n",
    "                   line_name_2, line_name_2, line_name_2, line_name_2, line_name_2,\n",
    "                   line_name_3, line_name_3, line_name_3, line_name_3, line_name_3]\n",
    "#line_names_list # check for the correct line names and that the list has been populated correctly\n",
    "\n",
    "\n",
    "# navigate through json to get to year values\n",
    "year_2018 = json_data[\"dataset\"]['dimension']['TLIST(A1)']['category']['label']['2018'] # 2018\n",
    "year_2019 = json_data[\"dataset\"]['dimension']['TLIST(A1)']['category']['label']['2019'] # 2019\n",
    "year_2020 = json_data[\"dataset\"]['dimension']['TLIST(A1)']['category']['label']['2020'] # 2020\n",
    "year_2021 = json_data[\"dataset\"]['dimension']['TLIST(A1)']['category']['label']['2021'] # 2021\n",
    "year_2022 = json_data[\"dataset\"]['dimension']['TLIST(A1)']['category']['label']['2022'] # 2022\n",
    "#print(\"The JSON data shows values for years: {}, {}, {}, {}, {}.\".format(year_2018,year_2019,year_2020,year_2021,year_2022))\n",
    "\n",
    "years_list = [year_2018, year_2019, year_2020, year_2021, year_2022,\n",
    "              year_2018, year_2019, year_2020, year_2021, year_2022,\n",
    "              year_2018, year_2019, year_2020, year_2021, year_2022]\n",
    "#years_list # check for the correct years and that the list has been populated correctly"
   ]
  },
  {
   "cell_type": "markdown",
   "id": "cd7023b9",
   "metadata": {},
   "source": [
    "## Programming for DA Tasks\n",
    "#### 4. Testing & Optimisation\n",
    "#### 5.\tData manipulation\n",
    "\n",
    "###### The below cell is a test to see the correct data being extracted from the json file\n",
    "###### The below cell also shows the extracted data being manipulated by being concatenated to form a string"
   ]
  },
  {
   "cell_type": "code",
   "execution_count": 40,
   "id": "37bd09e7",
   "metadata": {},
   "outputs": [
    {
     "name": "stdout",
     "output_type": "stream",
     "text": [
      "The JSON data shows: Luas Passenger Numbers.\n",
      "The data was sourced from: Transport Infrastructure Ireland.\n",
      "The data was last updated on: 2023-11-22T11:00:00Z.\n"
     ]
    }
   ],
   "source": [
    "label = json_data[\"dataset\"]['label']\n",
    "source = json_data[\"dataset\"]['source']\n",
    "updated = json_data[\"dataset\"]['updated']\n",
    "\n",
    "# https://www.freecodecamp.org/news/python-print-variable-how-to-print-a-string-and-variable/\n",
    "print(\"The JSON data shows: {}.\\nThe data was sourced from: {}.\\nThe data was last updated on: {}.\".format(label,source,updated))"
   ]
  },
  {
   "cell_type": "code",
   "execution_count": 41,
   "id": "78880135",
   "metadata": {},
   "outputs": [
    {
     "name": "stdout",
     "output_type": "stream",
     "text": [
      "195\n"
     ]
    }
   ],
   "source": [
    "# count the number values inside the list of total passenger values\n",
    "json_values_list_size = len(lusa_total_passengers_json_data)\n",
    "print(json_values_list_size) # expected result is: 195 as there are 195 values inside json"
   ]
  },
  {
   "cell_type": "code",
   "execution_count": 42,
   "id": "18ed5f22",
   "metadata": {
    "scrolled": false
   },
   "outputs": [],
   "source": [
    "# Red line 2018 All months 21837268 - Element 12\n",
    "# Red line 2019 All months 24045744 - Element 25\n",
    "# Red line 2020 All months 9727187 - Element 38\n",
    "# Red line 2021 All months 10040293 - Element 51\n",
    "# Red line 2022 All months 20275074 - Element 64\n",
    "# Green line 2018 All months 19999700 - Element 77\n",
    "# Green line 2019 All months 24301487 - Element 90\n",
    "# Green line 2020 All months 9448869 - Element 103\n",
    "# Green line 2021 All months 9441025 - Element 116\n",
    "# Green line 2022 All months 18392801 - Element 129\n",
    "# All Luas lines 2018 All months 41836968 - Element 142\n",
    "# All Luas lines 2019 All months 48347231 - Element 155\n",
    "# All Luas lines 2020 All months 19176056 - Element 168\n",
    "# All Luas lines 2021 All months 19481318 - Element 181\n",
    "# All Luas lines 2022 All months 38667875 - Element 194\n",
    "\n",
    "# extract the year total for each line from the list  holding all the total values\n",
    "# https://www.askpython.com/python/list/extract-elements-python-list\n",
    "#print([lusa_total_passengers_json_data[i] for i in (12,25,38,51,64,77,90,103,116,129,142,155,168,181,194)])\n",
    "lusa_total_passengers_json_data = [lusa_total_passengers_json_data[i] for i in (12,25,38,51,64,77,90,103,116,129,142,155,168,181,194)]\n",
    "#lusa_total_passengers_json_data"
   ]
  },
  {
   "cell_type": "code",
   "execution_count": 43,
   "id": "16dafb42",
   "metadata": {},
   "outputs": [
    {
     "name": "stdout",
     "output_type": "stream",
     "text": [
      "[21837268, 24045744, 9727187, 10040293, 20275074, 19999700, 24301487, 9448869, 9441025, 18392801, 41836968, 48347231, 19176056, 19481318, 38667875]\n"
     ]
    }
   ],
   "source": [
    "# convert List from Float to Integer using NumPy Array\n",
    "# https://statisticsglobe.com/convert-list-float-integer-python\n",
    "lusa_total_passengers_json_data = list(map(int, lusa_total_passengers_json_data))\n",
    "print(lusa_total_passengers_json_data)"
   ]
  },
  {
   "cell_type": "code",
   "execution_count": 44,
   "id": "bcbbec90",
   "metadata": {},
   "outputs": [],
   "source": [
    "# Programming for DA Tasks - 4. Testing & Optimisation \n",
    "# check if list are identical using sort() + == operator\n",
    " \n",
    "# initializing lists\n",
    "#test_list1 = lusa_total_passengers_json_data\n",
    "#test_list2 = [21837268, 24045744, 9727187, 10040293, 20275074, 19999700, 24301487, 9448869, 9441025, 18392801, 41836968, 48347231, 19176056, 19481318, 38667875]\n",
    "# \n",
    "## printing lists\n",
    "##print(\"Extracted List : \" + str(test_list1))\n",
    "#print(\"Hard coded list : \" + str(test_list2))\n",
    "# \n",
    "## sorting both the lists\n",
    "#test_list1.sort()\n",
    "#test_list2.sort()\n",
    "# \n",
    "## using == to check if lists are equal\n",
    "#if test_list1 == test_list2:\n",
    "#    print(\"The lists are identical\")\n",
    "#else:\n",
    "#    print(\"The lists are not identical\")"
   ]
  },
  {
   "cell_type": "code",
   "execution_count": 45,
   "id": "bd9a425d",
   "metadata": {},
   "outputs": [
    {
     "name": "stdout",
     "output_type": "stream",
     "text": [
      "[21837268, 24045744, 9727187, 10040293, 20275074, 19999700, 24301487, 9448869, 9441025, 18392801, 41836968, 48347231, 19176056, 19481318, 38667875]\n"
     ]
    }
   ],
   "source": [
    "print(lusa_total_passengers_json_data)"
   ]
  },
  {
   "cell_type": "code",
   "execution_count": 46,
   "id": "2f249d3a",
   "metadata": {},
   "outputs": [
    {
     "name": "stdout",
     "output_type": "stream",
     "text": [
      "              Line  Year     Total\n",
      "0         Red line  2018  21837268\n",
      "1         Red line  2019  24045744\n",
      "2         Red line  2020   9727187\n",
      "3         Red line  2021  10040293\n",
      "4         Red line  2022  20275074\n",
      "5       Green line  2018  19999700\n",
      "6       Green line  2019  24301487\n",
      "7       Green line  2020   9448869\n",
      "8       Green line  2021   9441025\n",
      "9       Green line  2022  18392801\n",
      "10  All Luas lines  2018  41836968\n",
      "11  All Luas lines  2019  48347231\n",
      "12  All Luas lines  2020  19176056\n",
      "13  All Luas lines  2021  19481318\n",
      "14  All Luas lines  2022  38667875\n"
     ]
    }
   ],
   "source": [
    "# Programming for DA Tasks - 5. Data manipulation \n",
    "# three list have been created and populated with data from the json file\n",
    "# convert the three lists into a dataframe\n",
    "# https://www.geeksforgeeks.org/create-a-pandas-dataframe-from-lists/\n",
    "\n",
    "# dictionary of lists\n",
    "dict = {'Line': line_names_list,\n",
    "        'Year': years_list,\n",
    "        'Total': lusa_total_passengers_json_data}\n",
    "    \n",
    "df = pd.DataFrame(dict)\n",
    "    \n",
    "print(df)"
   ]
  },
  {
   "cell_type": "code",
   "execution_count": 47,
   "id": "e336494b",
   "metadata": {},
   "outputs": [
    {
     "data": {
      "text/plain": [
       "Line     object\n",
       "Year     object\n",
       "Total     int64\n",
       "dtype: object"
      ]
     },
     "execution_count": 47,
     "metadata": {},
     "output_type": "execute_result"
    }
   ],
   "source": [
    "# EDA Step 3. Checking the types of data\n",
    "df.dtypes"
   ]
  },
  {
   "cell_type": "code",
   "execution_count": 48,
   "id": "9e37bd9b",
   "metadata": {},
   "outputs": [],
   "source": [
    "# EDA Step 4. Dropping irrelevant columns\n",
    "# irrelevant columns were dropped as the data was being extracted from the json file "
   ]
  },
  {
   "cell_type": "code",
   "execution_count": 49,
   "id": "363bd6ae",
   "metadata": {},
   "outputs": [],
   "source": [
    "# EDA Step 5. Renaming the columns\n",
    "# the columns were renamed when the lists were converted into a dataframe"
   ]
  },
  {
   "cell_type": "code",
   "execution_count": 50,
   "id": "c67bc940",
   "metadata": {},
   "outputs": [],
   "source": [
    "# EDA Step 6. Dropping the duplicate rows\n",
    "# there are no duplicate rows, the dataframe was populated with specific data\n",
    "# tests were ran against the collected data with hardcoded data to ensure the collected data accurate"
   ]
  },
  {
   "cell_type": "code",
   "execution_count": 51,
   "id": "27a0c8a9",
   "metadata": {},
   "outputs": [],
   "source": [
    "# EDA Step 7. Dropping the missing or null values.\n",
    "# there are no null values, the dataframe was populated with specific data"
   ]
  },
  {
   "cell_type": "code",
   "execution_count": 52,
   "id": "67f36fd5",
   "metadata": {},
   "outputs": [
    {
     "data": {
      "text/plain": [
       "Text(0.5, 1.0, 'Detecting Outliers From Total Column')"
      ]
     },
     "execution_count": 52,
     "metadata": {},
     "output_type": "execute_result"
    },
    {
     "data": {
      "image/png": "[encoded data removed]",
      "text/plain": [
       "<Figure size 640x480 with 1 Axes>"
      ]
     },
     "metadata": {},
     "output_type": "display_data"
    }
   ],
   "source": [
    "# EDA Step 8. Detecting Outliers\n",
    "# the seaborn boxplot is a very basic plot. \n",
    "# boxplots are used to visualize distributions.\n",
    "sns.boxplot(x=df['Total'])\n",
    "plt.title(\"Detecting Outliers From Total Column\")"
   ]
  },
  {
   "cell_type": "code",
   "execution_count": 53,
   "id": "46c9e4c2",
   "metadata": {},
   "outputs": [
    {
     "data": {
      "text/html": [
       "<div>\n",
       "<style scoped>\n",
       "    .dataframe tbody tr th:only-of-type {\n",
       "        vertical-align: middle;\n",
       "    }\n",
       "\n",
       "    .dataframe tbody tr th {\n",
       "        vertical-align: top;\n",
       "    }\n",
       "\n",
       "    .dataframe thead th {\n",
       "        text-align: right;\n",
       "    }\n",
       "</style>\n",
       "<table border=\"1\" class=\"dataframe\">\n",
       "  <thead>\n",
       "    <tr style=\"text-align: right;\">\n",
       "      <th></th>\n",
       "      <th>Total</th>\n",
       "    </tr>\n",
       "  </thead>\n",
       "  <tbody>\n",
       "    <tr>\n",
       "      <th>0</th>\n",
       "      <td>21837268</td>\n",
       "    </tr>\n",
       "    <tr>\n",
       "      <th>1</th>\n",
       "      <td>24045744</td>\n",
       "    </tr>\n",
       "    <tr>\n",
       "      <th>2</th>\n",
       "      <td>9727187</td>\n",
       "    </tr>\n",
       "    <tr>\n",
       "      <th>3</th>\n",
       "      <td>10040293</td>\n",
       "    </tr>\n",
       "    <tr>\n",
       "      <th>4</th>\n",
       "      <td>20275074</td>\n",
       "    </tr>\n",
       "    <tr>\n",
       "      <th>5</th>\n",
       "      <td>19999700</td>\n",
       "    </tr>\n",
       "    <tr>\n",
       "      <th>6</th>\n",
       "      <td>24301487</td>\n",
       "    </tr>\n",
       "    <tr>\n",
       "      <th>7</th>\n",
       "      <td>9448869</td>\n",
       "    </tr>\n",
       "    <tr>\n",
       "      <th>8</th>\n",
       "      <td>9441025</td>\n",
       "    </tr>\n",
       "    <tr>\n",
       "      <th>9</th>\n",
       "      <td>18392801</td>\n",
       "    </tr>\n",
       "    <tr>\n",
       "      <th>10</th>\n",
       "      <td>41836968</td>\n",
       "    </tr>\n",
       "    <tr>\n",
       "      <th>11</th>\n",
       "      <td>48347231</td>\n",
       "    </tr>\n",
       "    <tr>\n",
       "      <th>12</th>\n",
       "      <td>19176056</td>\n",
       "    </tr>\n",
       "    <tr>\n",
       "      <th>13</th>\n",
       "      <td>19481318</td>\n",
       "    </tr>\n",
       "    <tr>\n",
       "      <th>14</th>\n",
       "      <td>38667875</td>\n",
       "    </tr>\n",
       "  </tbody>\n",
       "</table>\n",
       "</div>"
      ],
      "text/plain": [
       "       Total\n",
       "0   21837268\n",
       "1   24045744\n",
       "2    9727187\n",
       "3   10040293\n",
       "4   20275074\n",
       "5   19999700\n",
       "6   24301487\n",
       "7    9448869\n",
       "8    9441025\n",
       "9   18392801\n",
       "10  41836968\n",
       "11  48347231\n",
       "12  19176056\n",
       "13  19481318\n",
       "14  38667875"
      ]
     },
     "execution_count": 53,
     "metadata": {},
     "output_type": "execute_result"
    }
   ],
   "source": [
    "# only pass numeric values to IQR to avoid runtime warnings\n",
    "file_two_totals = df.drop(['Line', 'Year'], axis=1)\n",
    "file_two_totals"
   ]
  },
  {
   "cell_type": "code",
   "execution_count": 54,
   "id": "485ffa74",
   "metadata": {},
   "outputs": [
    {
     "name": "stdout",
     "output_type": "stream",
     "text": [
      "Total    9957068.5\n",
      "dtype: float64\n"
     ]
    }
   ],
   "source": [
    "# the IQR is the value of Q3 - Q1. The IQR tells us the range of the middle 50% of the data.\n",
    "Q1 = file_two_totals.quantile(0.25)\n",
    "Q3 = file_two_totals.quantile(0.75)\n",
    "IQR = Q3 - Q1\n",
    "print(IQR)"
   ]
  },
  {
   "cell_type": "code",
   "execution_count": 55,
   "id": "cc5d926b",
   "metadata": {},
   "outputs": [
    {
     "data": {
      "text/plain": [
       "(15, 1)"
      ]
     },
     "execution_count": 55,
     "metadata": {},
     "output_type": "execute_result"
    }
   ],
   "source": [
    "file_two_totals.shape # (15, 1)"
   ]
  },
  {
   "cell_type": "markdown",
   "id": "f5d43595",
   "metadata": {},
   "source": [
    "### Completing the IQR will remove two values from the data frame. These values are needed for a bar chart and heat map so the code to complete the IQR has been commented out"
   ]
  },
  {
   "cell_type": "code",
   "execution_count": 56,
   "id": "5264b462",
   "metadata": {},
   "outputs": [],
   "source": [
    "# the program will use these values to remove our outliers. \n",
    "# the code is commented out as the outliers are actual passenger numbers and accurate\n",
    "# it's just important to know how to use this technique.\n",
    "#file_two_totals = file_two_totals[~((file_two_totals < (Q1-1.5 * IQR)) | (file_two_totals > (Q3 + 1.5 * IQR))).any(axis=1)]"
   ]
  },
  {
   "cell_type": "code",
   "execution_count": 57,
   "id": "f9c85ab8",
   "metadata": {},
   "outputs": [
    {
     "data": {
      "text/plain": [
       "(15, 1)"
      ]
     },
     "execution_count": 57,
     "metadata": {},
     "output_type": "execute_result"
    }
   ],
   "source": [
    "# if IQR is ran result is: (13, 1)\n",
    "# else if IQR is not ran then the result is: (15, 1)\n",
    "#file_two_totals.shape # (13, 1)\n",
    "file_two_totals.shape # (15, 1)"
   ]
  },
  {
   "cell_type": "code",
   "execution_count": 58,
   "id": "28886c57",
   "metadata": {},
   "outputs": [
    {
     "data": {
      "text/html": [
       "<div>\n",
       "<style scoped>\n",
       "    .dataframe tbody tr th:only-of-type {\n",
       "        vertical-align: middle;\n",
       "    }\n",
       "\n",
       "    .dataframe tbody tr th {\n",
       "        vertical-align: top;\n",
       "    }\n",
       "\n",
       "    .dataframe thead th {\n",
       "        text-align: right;\n",
       "    }\n",
       "</style>\n",
       "<table border=\"1\" class=\"dataframe\">\n",
       "  <thead>\n",
       "    <tr style=\"text-align: right;\">\n",
       "      <th></th>\n",
       "      <th>Line</th>\n",
       "      <th>Year</th>\n",
       "      <th>Total</th>\n",
       "    </tr>\n",
       "  </thead>\n",
       "  <tbody>\n",
       "    <tr>\n",
       "      <th>0</th>\n",
       "      <td>Red line</td>\n",
       "      <td>2018</td>\n",
       "      <td>21837268</td>\n",
       "    </tr>\n",
       "    <tr>\n",
       "      <th>1</th>\n",
       "      <td>Red line</td>\n",
       "      <td>2019</td>\n",
       "      <td>24045744</td>\n",
       "    </tr>\n",
       "    <tr>\n",
       "      <th>2</th>\n",
       "      <td>Red line</td>\n",
       "      <td>2020</td>\n",
       "      <td>9727187</td>\n",
       "    </tr>\n",
       "    <tr>\n",
       "      <th>3</th>\n",
       "      <td>Red line</td>\n",
       "      <td>2021</td>\n",
       "      <td>10040293</td>\n",
       "    </tr>\n",
       "    <tr>\n",
       "      <th>4</th>\n",
       "      <td>Red line</td>\n",
       "      <td>2022</td>\n",
       "      <td>20275074</td>\n",
       "    </tr>\n",
       "    <tr>\n",
       "      <th>5</th>\n",
       "      <td>Green line</td>\n",
       "      <td>2018</td>\n",
       "      <td>19999700</td>\n",
       "    </tr>\n",
       "    <tr>\n",
       "      <th>6</th>\n",
       "      <td>Green line</td>\n",
       "      <td>2019</td>\n",
       "      <td>24301487</td>\n",
       "    </tr>\n",
       "    <tr>\n",
       "      <th>7</th>\n",
       "      <td>Green line</td>\n",
       "      <td>2020</td>\n",
       "      <td>9448869</td>\n",
       "    </tr>\n",
       "    <tr>\n",
       "      <th>8</th>\n",
       "      <td>Green line</td>\n",
       "      <td>2021</td>\n",
       "      <td>9441025</td>\n",
       "    </tr>\n",
       "    <tr>\n",
       "      <th>9</th>\n",
       "      <td>Green line</td>\n",
       "      <td>2022</td>\n",
       "      <td>18392801</td>\n",
       "    </tr>\n",
       "    <tr>\n",
       "      <th>10</th>\n",
       "      <td>All Luas lines</td>\n",
       "      <td>2018</td>\n",
       "      <td>41836968</td>\n",
       "    </tr>\n",
       "    <tr>\n",
       "      <th>11</th>\n",
       "      <td>All Luas lines</td>\n",
       "      <td>2019</td>\n",
       "      <td>48347231</td>\n",
       "    </tr>\n",
       "    <tr>\n",
       "      <th>12</th>\n",
       "      <td>All Luas lines</td>\n",
       "      <td>2020</td>\n",
       "      <td>19176056</td>\n",
       "    </tr>\n",
       "    <tr>\n",
       "      <th>13</th>\n",
       "      <td>All Luas lines</td>\n",
       "      <td>2021</td>\n",
       "      <td>19481318</td>\n",
       "    </tr>\n",
       "    <tr>\n",
       "      <th>14</th>\n",
       "      <td>All Luas lines</td>\n",
       "      <td>2022</td>\n",
       "      <td>38667875</td>\n",
       "    </tr>\n",
       "  </tbody>\n",
       "</table>\n",
       "</div>"
      ],
      "text/plain": [
       "              Line  Year     Total\n",
       "0         Red line  2018  21837268\n",
       "1         Red line  2019  24045744\n",
       "2         Red line  2020   9727187\n",
       "3         Red line  2021  10040293\n",
       "4         Red line  2022  20275074\n",
       "5       Green line  2018  19999700\n",
       "6       Green line  2019  24301487\n",
       "7       Green line  2020   9448869\n",
       "8       Green line  2021   9441025\n",
       "9       Green line  2022  18392801\n",
       "10  All Luas lines  2018  41836968\n",
       "11  All Luas lines  2019  48347231\n",
       "12  All Luas lines  2020  19176056\n",
       "13  All Luas lines  2021  19481318\n",
       "14  All Luas lines  2022  38667875"
      ]
     },
     "execution_count": 58,
     "metadata": {},
     "output_type": "execute_result"
    }
   ],
   "source": [
    "# EDA Step 9. Plot different features against one another\n",
    "df"
   ]
  },
  {
   "cell_type": "code",
   "execution_count": 59,
   "id": "4696ad5d",
   "metadata": {},
   "outputs": [],
   "source": [
    "import array\n",
    "\n",
    "# populate variable with dataframe values\n",
    "red_arr = df['Total'].iloc[0:5] \n",
    "green_arr = df['Total'].iloc[5:10]\n",
    "all_arr = df['Total'].iloc[10:15]\n",
    "\n",
    "# convert variable to arrays to be passed to bar chart and heat map\n",
    "red_arr = array.array('i', red_arr)\n",
    "green_arr = array.array('i', green_arr)\n",
    "all_arr = array.array('i', all_arr)"
   ]
  },
  {
   "cell_type": "code",
   "execution_count": 60,
   "id": "8f91d3ac",
   "metadata": {},
   "outputs": [
    {
     "data": {
      "text/plain": [
       "Text(0.5, 1.0, 'Total Passengers For Each Line by Year')"
      ]
     },
     "execution_count": 60,
     "metadata": {},
     "output_type": "execute_result"
    },
    {
     "data": {
      "image/png": "[encoded data removed]",
      "text/plain": [
       "<Figure size 640x480 with 1 Axes>"
      ]
     },
     "metadata": {},
     "output_type": "display_data"
    }
   ],
   "source": [
    "# Create a sample dataframe with an text index\n",
    "plotdata = pd.DataFrame({\n",
    "    \"All Passengers\":all_arr,\n",
    "    \"Red Line Passengers\":red_arr,\n",
    "    \"Green Line Passengers\":green_arr\n",
    "    }, \n",
    "    index = df_luas_totals.Year.unique()\n",
    ")\n",
    "plotdata.plot(kind=\"bar\")\n",
    "plt.xlabel(\"Year\")\n",
    "plt.ylabel(\"Passengers * 10 Million\")\n",
    "plt.title(\"Total Passengers For Each Line by Year\")"
   ]
  },
  {
   "cell_type": "code",
   "execution_count": 61,
   "id": "e105714b",
   "metadata": {},
   "outputs": [
    {
     "name": "stdout",
     "output_type": "stream",
     "text": [
      "           2018      2019      2020      2021      2022\n",
      "All    41836968  48347231  19176056  19481318  38667875\n",
      "Red    21837268  24045744   9727187  10040293  20275074\n",
      "Green  19999700  24301487   9448869   9441025  18392801\n"
     ]
    }
   ],
   "source": [
    "# merge arrays into single array\n",
    "# https://www.w3schools.com/python/numpy/numpy_array_join.asp\n",
    "new_arr = np.array([all_arr, red_arr, green_arr])\n",
    "\n",
    "# convert numphy array to dataframe\n",
    "# https://www.geeksforgeeks.org/create-a-dataframe-from-a-numpy-array-and-specify-the-index-column-and-column-headers/\n",
    "# creating a list of index names \n",
    "index_values = ['All', 'Red', 'Green'] \n",
    "   \n",
    "# creating a list of column names \n",
    "column_values = ['2018', '2019', '2020', \n",
    "                '2021', '2022'] \n",
    "  \n",
    "# creating the dataframe \n",
    "df_formatted_luas_totals = pd.DataFrame(data = new_arr,  \n",
    "                  index = index_values,  \n",
    "                  columns = column_values) \n",
    "  \n",
    "# displaying the dataframe \n",
    "print(df_formatted_luas_totals)"
   ]
  },
  {
   "cell_type": "code",
   "execution_count": 62,
   "id": "a3334d4f",
   "metadata": {},
   "outputs": [
    {
     "data": {
      "text/plain": [
       "Text(0.5, 1.0, 'Total Passengers For Each Line by Year')"
      ]
     },
     "execution_count": 62,
     "metadata": {},
     "output_type": "execute_result"
    },
    {
     "data": {
      "image/png": "[encoded data removed]",
      "text/plain": [
       "<Figure size 2000x1000 with 2 Axes>"
      ]
     },
     "metadata": {},
     "output_type": "display_data"
    }
   ],
   "source": [
    "# finding the relations between the variables.\n",
    "plt.figure(figsize=(20,10))\n",
    "sns.heatmap(df_formatted_luas_totals,cmap=\"coolwarm\", annot=True, fmt=\"1\")\n",
    "plt.title('Total Passengers For Each Line by Year') #add title"
   ]
  },
  {
   "cell_type": "markdown",
   "id": "b2075e1c",
   "metadata": {},
   "source": [
    "###### File Three: Passenger journeys on light rail, trams and undergrounds by system: Great Britain (GB)\n",
    "###### File Three Type: ods"
   ]
  },
  {
   "cell_type": "code",
   "execution_count": 63,
   "id": "94aefd71",
   "metadata": {},
   "outputs": [],
   "source": [
    "# EDA Step 1. Importing the required libraries for EDA\n",
    "#!pip install odfpy\n"
   ]
  },
  {
   "cell_type": "code",
   "execution_count": 64,
   "id": "4711fb3e",
   "metadata": {},
   "outputs": [],
   "source": [
    "# EDA Step 2. Loading the data into the data frame.\n",
    "# Read Excel(OpenDocument ODS) with Python Pandas \n",
    "# https://datascientyst.com/read-excel-opendocument-ods-python-pandas/\n",
    "\n",
    "# the first 7 row are descriptive tet about the dataset\n",
    "# drop the first 7 rows when reading in the file\n",
    "# https://www.statology.org/pandas-read-excel-skip-rows/\n",
    "df_GB_data = pd.read_excel(r\"C:\\Users\\stphn\\Documents\\CCT\\Assessment\\CA2\\lrt0101.ods\", sheet_name=\"LRT0101\", engine='odf', skiprows=7)"
   ]
  },
  {
   "cell_type": "code",
   "execution_count": 65,
   "id": "0842f306",
   "metadata": {},
   "outputs": [
    {
     "data": {
      "text/html": [
       "<div>\n",
       "<style scoped>\n",
       "    .dataframe tbody tr th:only-of-type {\n",
       "        vertical-align: middle;\n",
       "    }\n",
       "\n",
       "    .dataframe tbody tr th {\n",
       "        vertical-align: top;\n",
       "    }\n",
       "\n",
       "    .dataframe thead th {\n",
       "        text-align: right;\n",
       "    }\n",
       "</style>\n",
       "<table border=\"1\" class=\"dataframe\">\n",
       "  <thead>\n",
       "    <tr style=\"text-align: right;\">\n",
       "      <th></th>\n",
       "      <th>Financial year ending March</th>\n",
       "      <th>Docklands Light Railway</th>\n",
       "      <th>London Trams</th>\n",
       "      <th>Nottingham Express Transit</th>\n",
       "      <th>West Midlands Metro [notes 1, 2, 4]</th>\n",
       "      <th>Sheffield Supertram</th>\n",
       "      <th>Tyne and Wear Metro</th>\n",
       "      <th>Manchester Metrolink [note 3]</th>\n",
       "      <th>Blackpool Tramway</th>\n",
       "      <th>England outside of London [note 5]</th>\n",
       "      <th>England [note 5]</th>\n",
       "      <th>Edinburgh Trams</th>\n",
       "      <th>Great Britain [note 5]</th>\n",
       "      <th>London Underground</th>\n",
       "      <th>Glasgow Subway</th>\n",
       "    </tr>\n",
       "  </thead>\n",
       "  <tbody>\n",
       "    <tr>\n",
       "      <th>0</th>\n",
       "      <td>1984</td>\n",
       "      <td>[w]</td>\n",
       "      <td>[w]</td>\n",
       "      <td>[w]</td>\n",
       "      <td>[w]</td>\n",
       "      <td>[w]</td>\n",
       "      <td>49.8</td>\n",
       "      <td>[w]</td>\n",
       "      <td>6.2</td>\n",
       "      <td>56.0</td>\n",
       "      <td>56.0</td>\n",
       "      <td>[w]</td>\n",
       "      <td>56.0</td>\n",
       "      <td>[w]</td>\n",
       "      <td>12.3</td>\n",
       "    </tr>\n",
       "    <tr>\n",
       "      <th>1</th>\n",
       "      <td>1985</td>\n",
       "      <td>[w]</td>\n",
       "      <td>[w]</td>\n",
       "      <td>[w]</td>\n",
       "      <td>[w]</td>\n",
       "      <td>[w]</td>\n",
       "      <td>57.2</td>\n",
       "      <td>[w]</td>\n",
       "      <td>6.0</td>\n",
       "      <td>63.2</td>\n",
       "      <td>63.2</td>\n",
       "      <td>[w]</td>\n",
       "      <td>63.2</td>\n",
       "      <td>[w]</td>\n",
       "      <td>12.7</td>\n",
       "    </tr>\n",
       "    <tr>\n",
       "      <th>2</th>\n",
       "      <td>1986</td>\n",
       "      <td>[w]</td>\n",
       "      <td>[w]</td>\n",
       "      <td>[w]</td>\n",
       "      <td>[w]</td>\n",
       "      <td>[w]</td>\n",
       "      <td>59.1</td>\n",
       "      <td>[w]</td>\n",
       "      <td>6.2</td>\n",
       "      <td>65.3</td>\n",
       "      <td>65.3</td>\n",
       "      <td>[w]</td>\n",
       "      <td>65.3</td>\n",
       "      <td>[w]</td>\n",
       "      <td>13.1</td>\n",
       "    </tr>\n",
       "    <tr>\n",
       "      <th>3</th>\n",
       "      <td>1987</td>\n",
       "      <td>[w]</td>\n",
       "      <td>[w]</td>\n",
       "      <td>[w]</td>\n",
       "      <td>[w]</td>\n",
       "      <td>[w]</td>\n",
       "      <td>46.4</td>\n",
       "      <td>[w]</td>\n",
       "      <td>6.2</td>\n",
       "      <td>52.6</td>\n",
       "      <td>52.6</td>\n",
       "      <td>[w]</td>\n",
       "      <td>52.6</td>\n",
       "      <td>[w]</td>\n",
       "      <td>13.7</td>\n",
       "    </tr>\n",
       "    <tr>\n",
       "      <th>4</th>\n",
       "      <td>1988</td>\n",
       "      <td>[w]</td>\n",
       "      <td>[w]</td>\n",
       "      <td>[w]</td>\n",
       "      <td>[w]</td>\n",
       "      <td>[w]</td>\n",
       "      <td>44.9</td>\n",
       "      <td>[w]</td>\n",
       "      <td>5.4</td>\n",
       "      <td>50.3</td>\n",
       "      <td>50.3</td>\n",
       "      <td>[w]</td>\n",
       "      <td>50.3</td>\n",
       "      <td>[w]</td>\n",
       "      <td>13.6</td>\n",
       "    </tr>\n",
       "  </tbody>\n",
       "</table>\n",
       "</div>"
      ],
      "text/plain": [
       "   Financial year ending March Docklands Light Railway London Trams  \\\n",
       "0                         1984                     [w]          [w]   \n",
       "1                         1985                     [w]          [w]   \n",
       "2                         1986                     [w]          [w]   \n",
       "3                         1987                     [w]          [w]   \n",
       "4                         1988                     [w]          [w]   \n",
       "\n",
       "  Nottingham Express Transit West Midlands Metro [notes 1, 2, 4]  \\\n",
       "0                        [w]                                 [w]   \n",
       "1                        [w]                                 [w]   \n",
       "2                        [w]                                 [w]   \n",
       "3                        [w]                                 [w]   \n",
       "4                        [w]                                 [w]   \n",
       "\n",
       "  Sheffield Supertram  Tyne and Wear Metro Manchester Metrolink [note 3]  \\\n",
       "0                 [w]                 49.8                           [w]   \n",
       "1                 [w]                 57.2                           [w]   \n",
       "2                 [w]                 59.1                           [w]   \n",
       "3                 [w]                 46.4                           [w]   \n",
       "4                 [w]                 44.9                           [w]   \n",
       "\n",
       "   Blackpool Tramway  England outside of London [note 5]  England [note 5]  \\\n",
       "0                6.2                                56.0              56.0   \n",
       "1                6.0                                63.2              63.2   \n",
       "2                6.2                                65.3              65.3   \n",
       "3                6.2                                52.6              52.6   \n",
       "4                5.4                                50.3              50.3   \n",
       "\n",
       "  Edinburgh Trams  Great Britain [note 5] London Underground  Glasgow Subway  \n",
       "0             [w]                    56.0                [w]            12.3  \n",
       "1             [w]                    63.2                [w]            12.7  \n",
       "2             [w]                    65.3                [w]            13.1  \n",
       "3             [w]                    52.6                [w]            13.7  \n",
       "4             [w]                    50.3                [w]            13.6  "
      ]
     },
     "execution_count": 65,
     "metadata": {},
     "output_type": "execute_result"
    }
   ],
   "source": [
    "# To display the top 5 rows\n",
    "df_GB_data.head()"
   ]
  },
  {
   "cell_type": "code",
   "execution_count": 66,
   "id": "cc359e14",
   "metadata": {},
   "outputs": [
    {
     "data": {
      "text/html": [
       "<div>\n",
       "<style scoped>\n",
       "    .dataframe tbody tr th:only-of-type {\n",
       "        vertical-align: middle;\n",
       "    }\n",
       "\n",
       "    .dataframe tbody tr th {\n",
       "        vertical-align: top;\n",
       "    }\n",
       "\n",
       "    .dataframe thead th {\n",
       "        text-align: right;\n",
       "    }\n",
       "</style>\n",
       "<table border=\"1\" class=\"dataframe\">\n",
       "  <thead>\n",
       "    <tr style=\"text-align: right;\">\n",
       "      <th></th>\n",
       "      <th>Financial year ending March</th>\n",
       "      <th>Docklands Light Railway</th>\n",
       "      <th>London Trams</th>\n",
       "      <th>Nottingham Express Transit</th>\n",
       "      <th>West Midlands Metro [notes 1, 2, 4]</th>\n",
       "      <th>Sheffield Supertram</th>\n",
       "      <th>Tyne and Wear Metro</th>\n",
       "      <th>Manchester Metrolink [note 3]</th>\n",
       "      <th>Blackpool Tramway</th>\n",
       "      <th>England outside of London [note 5]</th>\n",
       "      <th>England [note 5]</th>\n",
       "      <th>Edinburgh Trams</th>\n",
       "      <th>Great Britain [note 5]</th>\n",
       "      <th>London Underground</th>\n",
       "      <th>Glasgow Subway</th>\n",
       "    </tr>\n",
       "  </thead>\n",
       "  <tbody>\n",
       "    <tr>\n",
       "      <th>35</th>\n",
       "      <td>2019</td>\n",
       "      <td>121.8</td>\n",
       "      <td>28.7</td>\n",
       "      <td>18.8</td>\n",
       "      <td>8.3</td>\n",
       "      <td>11.9</td>\n",
       "      <td>36.4</td>\n",
       "      <td>43.7</td>\n",
       "      <td>5.2</td>\n",
       "      <td>124.4</td>\n",
       "      <td>274.8</td>\n",
       "      <td>7.5</td>\n",
       "      <td>282.3</td>\n",
       "      <td>1384</td>\n",
       "      <td>13.1</td>\n",
       "    </tr>\n",
       "    <tr>\n",
       "      <th>36</th>\n",
       "      <td>2020</td>\n",
       "      <td>116.8</td>\n",
       "      <td>27.2</td>\n",
       "      <td>18.7</td>\n",
       "      <td>8</td>\n",
       "      <td>10.5</td>\n",
       "      <td>33.1</td>\n",
       "      <td>44.3</td>\n",
       "      <td>4.8</td>\n",
       "      <td>119.4</td>\n",
       "      <td>263.4</td>\n",
       "      <td>7.1</td>\n",
       "      <td>270.6</td>\n",
       "      <td>1337</td>\n",
       "      <td>12.7</td>\n",
       "    </tr>\n",
       "    <tr>\n",
       "      <th>37</th>\n",
       "      <td>2021</td>\n",
       "      <td>39.7</td>\n",
       "      <td>11.6</td>\n",
       "      <td>3.4</td>\n",
       "      <td>3.4</td>\n",
       "      <td>2.8</td>\n",
       "      <td>9.4</td>\n",
       "      <td>10.3</td>\n",
       "      <td>1.1</td>\n",
       "      <td>30.4</td>\n",
       "      <td>81.7</td>\n",
       "      <td>0.9</td>\n",
       "      <td>82.6</td>\n",
       "      <td>296.1</td>\n",
       "      <td>2.5</td>\n",
       "    </tr>\n",
       "    <tr>\n",
       "      <th>38</th>\n",
       "      <td>2022</td>\n",
       "      <td>77.2</td>\n",
       "      <td>19.1</td>\n",
       "      <td>9.1</td>\n",
       "      <td>4.7</td>\n",
       "      <td>6.9</td>\n",
       "      <td>24.3</td>\n",
       "      <td>26</td>\n",
       "      <td>4.2</td>\n",
       "      <td>75.2</td>\n",
       "      <td>171.5</td>\n",
       "      <td>2.8</td>\n",
       "      <td>174.3</td>\n",
       "      <td>748</td>\n",
       "      <td>8.0</td>\n",
       "    </tr>\n",
       "    <tr>\n",
       "      <th>39</th>\n",
       "      <td>2023</td>\n",
       "      <td>92.3</td>\n",
       "      <td>20.9</td>\n",
       "      <td>14.4</td>\n",
       "      <td>5.4</td>\n",
       "      <td>8.4</td>\n",
       "      <td>29.3</td>\n",
       "      <td>36</td>\n",
       "      <td>4.9</td>\n",
       "      <td>98.3</td>\n",
       "      <td>211.5</td>\n",
       "      <td>5.3</td>\n",
       "      <td>216.8</td>\n",
       "      <td>1065.1</td>\n",
       "      <td>11.9</td>\n",
       "    </tr>\n",
       "  </tbody>\n",
       "</table>\n",
       "</div>"
      ],
      "text/plain": [
       "    Financial year ending March Docklands Light Railway London Trams  \\\n",
       "35                         2019                   121.8         28.7   \n",
       "36                         2020                   116.8         27.2   \n",
       "37                         2021                    39.7         11.6   \n",
       "38                         2022                    77.2         19.1   \n",
       "39                         2023                    92.3         20.9   \n",
       "\n",
       "   Nottingham Express Transit West Midlands Metro [notes 1, 2, 4]  \\\n",
       "35                       18.8                                 8.3   \n",
       "36                       18.7                                   8   \n",
       "37                        3.4                                 3.4   \n",
       "38                        9.1                                 4.7   \n",
       "39                       14.4                                 5.4   \n",
       "\n",
       "   Sheffield Supertram  Tyne and Wear Metro Manchester Metrolink [note 3]  \\\n",
       "35                11.9                 36.4                          43.7   \n",
       "36                10.5                 33.1                          44.3   \n",
       "37                 2.8                  9.4                          10.3   \n",
       "38                 6.9                 24.3                            26   \n",
       "39                 8.4                 29.3                            36   \n",
       "\n",
       "    Blackpool Tramway  England outside of London [note 5]  England [note 5]  \\\n",
       "35                5.2                               124.4             274.8   \n",
       "36                4.8                               119.4             263.4   \n",
       "37                1.1                                30.4              81.7   \n",
       "38                4.2                                75.2             171.5   \n",
       "39                4.9                                98.3             211.5   \n",
       "\n",
       "   Edinburgh Trams  Great Britain [note 5] London Underground  Glasgow Subway  \n",
       "35             7.5                   282.3               1384            13.1  \n",
       "36             7.1                   270.6               1337            12.7  \n",
       "37             0.9                    82.6              296.1             2.5  \n",
       "38             2.8                   174.3                748             8.0  \n",
       "39             5.3                   216.8             1065.1            11.9  "
      ]
     },
     "execution_count": 66,
     "metadata": {},
     "output_type": "execute_result"
    }
   ],
   "source": [
    "# To display the bottom 5 rows\n",
    "df_GB_data.tail(5)"
   ]
  },
  {
   "cell_type": "code",
   "execution_count": 67,
   "id": "2059fbaf",
   "metadata": {},
   "outputs": [
    {
     "data": {
      "text/plain": [
       "Financial year ending March              int64\n",
       "Docklands Light Railway                 object\n",
       "London Trams                            object\n",
       "Nottingham Express Transit              object\n",
       "West Midlands Metro [notes 1, 2, 4]     object\n",
       "Sheffield Supertram                     object\n",
       "Tyne and Wear Metro                    float64\n",
       "Manchester Metrolink [note 3]           object\n",
       "Blackpool Tramway                      float64\n",
       "England outside of London [note 5]     float64\n",
       "England [note 5]                       float64\n",
       "Edinburgh Trams                         object\n",
       "Great Britain [note 5]                 float64\n",
       "London Underground                      object\n",
       "Glasgow Subway                         float64\n",
       "dtype: object"
      ]
     },
     "execution_count": 67,
     "metadata": {},
     "output_type": "execute_result"
    }
   ],
   "source": [
    "# EDA Step 3. Checking the types of data\n",
    "df_GB_data.dtypes"
   ]
  },
  {
   "cell_type": "code",
   "execution_count": 68,
   "id": "e7004b8b",
   "metadata": {},
   "outputs": [
    {
     "data": {
      "text/html": [
       "<div>\n",
       "<style scoped>\n",
       "    .dataframe tbody tr th:only-of-type {\n",
       "        vertical-align: middle;\n",
       "    }\n",
       "\n",
       "    .dataframe tbody tr th {\n",
       "        vertical-align: top;\n",
       "    }\n",
       "\n",
       "    .dataframe thead th {\n",
       "        text-align: right;\n",
       "    }\n",
       "</style>\n",
       "<table border=\"1\" class=\"dataframe\">\n",
       "  <thead>\n",
       "    <tr style=\"text-align: right;\">\n",
       "      <th></th>\n",
       "      <th>Financial year ending March</th>\n",
       "      <th>London Trams</th>\n",
       "      <th>Nottingham Express Transit</th>\n",
       "      <th>Sheffield Supertram</th>\n",
       "      <th>Manchester Metrolink [note 3]</th>\n",
       "      <th>Blackpool Tramway</th>\n",
       "      <th>Edinburgh Trams</th>\n",
       "    </tr>\n",
       "  </thead>\n",
       "  <tbody>\n",
       "    <tr>\n",
       "      <th>0</th>\n",
       "      <td>1984</td>\n",
       "      <td>[w]</td>\n",
       "      <td>[w]</td>\n",
       "      <td>[w]</td>\n",
       "      <td>[w]</td>\n",
       "      <td>6.2</td>\n",
       "      <td>[w]</td>\n",
       "    </tr>\n",
       "    <tr>\n",
       "      <th>1</th>\n",
       "      <td>1985</td>\n",
       "      <td>[w]</td>\n",
       "      <td>[w]</td>\n",
       "      <td>[w]</td>\n",
       "      <td>[w]</td>\n",
       "      <td>6.0</td>\n",
       "      <td>[w]</td>\n",
       "    </tr>\n",
       "    <tr>\n",
       "      <th>2</th>\n",
       "      <td>1986</td>\n",
       "      <td>[w]</td>\n",
       "      <td>[w]</td>\n",
       "      <td>[w]</td>\n",
       "      <td>[w]</td>\n",
       "      <td>6.2</td>\n",
       "      <td>[w]</td>\n",
       "    </tr>\n",
       "    <tr>\n",
       "      <th>3</th>\n",
       "      <td>1987</td>\n",
       "      <td>[w]</td>\n",
       "      <td>[w]</td>\n",
       "      <td>[w]</td>\n",
       "      <td>[w]</td>\n",
       "      <td>6.2</td>\n",
       "      <td>[w]</td>\n",
       "    </tr>\n",
       "    <tr>\n",
       "      <th>4</th>\n",
       "      <td>1988</td>\n",
       "      <td>[w]</td>\n",
       "      <td>[w]</td>\n",
       "      <td>[w]</td>\n",
       "      <td>[w]</td>\n",
       "      <td>5.4</td>\n",
       "      <td>[w]</td>\n",
       "    </tr>\n",
       "  </tbody>\n",
       "</table>\n",
       "</div>"
      ],
      "text/plain": [
       "   Financial year ending March London Trams Nottingham Express Transit  \\\n",
       "0                         1984          [w]                        [w]   \n",
       "1                         1985          [w]                        [w]   \n",
       "2                         1986          [w]                        [w]   \n",
       "3                         1987          [w]                        [w]   \n",
       "4                         1988          [w]                        [w]   \n",
       "\n",
       "  Sheffield Supertram Manchester Metrolink [note 3]  Blackpool Tramway  \\\n",
       "0                 [w]                           [w]                6.2   \n",
       "1                 [w]                           [w]                6.0   \n",
       "2                 [w]                           [w]                6.2   \n",
       "3                 [w]                           [w]                6.2   \n",
       "4                 [w]                           [w]                5.4   \n",
       "\n",
       "  Edinburgh Trams  \n",
       "0             [w]  \n",
       "1             [w]  \n",
       "2             [w]  \n",
       "3             [w]  \n",
       "4             [w]  "
      ]
     },
     "execution_count": 68,
     "metadata": {},
     "output_type": "execute_result"
    }
   ],
   "source": [
    "# EDA Step 4. Dropping irrelevant columns\n",
    "# drop columns that do not deal with trams (subway, underground)\n",
    "\n",
    "# Dropping irrelevant columns\n",
    "df_GB_data = df_GB_data.drop(['Docklands Light Railway', 'West Midlands Metro [notes 1, 2, 4]', 'Tyne and Wear Metro',\n",
    "                              'England outside of London [note 5]', 'England [note 5]', 'Great Britain [note 5]',\n",
    "                              'London Underground', 'Glasgow Subway'], axis=1)\n",
    "df_GB_data.head(5)"
   ]
  },
  {
   "cell_type": "code",
   "execution_count": 69,
   "id": "11728ada",
   "metadata": {},
   "outputs": [
    {
     "data": {
      "text/html": [
       "<div>\n",
       "<style scoped>\n",
       "    .dataframe tbody tr th:only-of-type {\n",
       "        vertical-align: middle;\n",
       "    }\n",
       "\n",
       "    .dataframe tbody tr th {\n",
       "        vertical-align: top;\n",
       "    }\n",
       "\n",
       "    .dataframe thead th {\n",
       "        text-align: right;\n",
       "    }\n",
       "</style>\n",
       "<table border=\"1\" class=\"dataframe\">\n",
       "  <thead>\n",
       "    <tr style=\"text-align: right;\">\n",
       "      <th></th>\n",
       "      <th>Year</th>\n",
       "      <th>London</th>\n",
       "      <th>Nottingham</th>\n",
       "      <th>Sheffield</th>\n",
       "      <th>Manchester</th>\n",
       "      <th>Blackpool</th>\n",
       "      <th>Edinburgh</th>\n",
       "    </tr>\n",
       "  </thead>\n",
       "  <tbody>\n",
       "    <tr>\n",
       "      <th>0</th>\n",
       "      <td>1984</td>\n",
       "      <td>[w]</td>\n",
       "      <td>[w]</td>\n",
       "      <td>[w]</td>\n",
       "      <td>[w]</td>\n",
       "      <td>6.2</td>\n",
       "      <td>[w]</td>\n",
       "    </tr>\n",
       "    <tr>\n",
       "      <th>1</th>\n",
       "      <td>1985</td>\n",
       "      <td>[w]</td>\n",
       "      <td>[w]</td>\n",
       "      <td>[w]</td>\n",
       "      <td>[w]</td>\n",
       "      <td>6.0</td>\n",
       "      <td>[w]</td>\n",
       "    </tr>\n",
       "    <tr>\n",
       "      <th>2</th>\n",
       "      <td>1986</td>\n",
       "      <td>[w]</td>\n",
       "      <td>[w]</td>\n",
       "      <td>[w]</td>\n",
       "      <td>[w]</td>\n",
       "      <td>6.2</td>\n",
       "      <td>[w]</td>\n",
       "    </tr>\n",
       "    <tr>\n",
       "      <th>3</th>\n",
       "      <td>1987</td>\n",
       "      <td>[w]</td>\n",
       "      <td>[w]</td>\n",
       "      <td>[w]</td>\n",
       "      <td>[w]</td>\n",
       "      <td>6.2</td>\n",
       "      <td>[w]</td>\n",
       "    </tr>\n",
       "    <tr>\n",
       "      <th>4</th>\n",
       "      <td>1988</td>\n",
       "      <td>[w]</td>\n",
       "      <td>[w]</td>\n",
       "      <td>[w]</td>\n",
       "      <td>[w]</td>\n",
       "      <td>5.4</td>\n",
       "      <td>[w]</td>\n",
       "    </tr>\n",
       "  </tbody>\n",
       "</table>\n",
       "</div>"
      ],
      "text/plain": [
       "   Year London Nottingham Sheffield Manchester  Blackpool Edinburgh\n",
       "0  1984    [w]        [w]       [w]        [w]        6.2       [w]\n",
       "1  1985    [w]        [w]       [w]        [w]        6.0       [w]\n",
       "2  1986    [w]        [w]       [w]        [w]        6.2       [w]\n",
       "3  1987    [w]        [w]       [w]        [w]        6.2       [w]\n",
       "4  1988    [w]        [w]       [w]        [w]        5.4       [w]"
      ]
     },
     "execution_count": 69,
     "metadata": {},
     "output_type": "execute_result"
    }
   ],
   "source": [
    "# EDA Step 5. Renaming the columns\n",
    "\n",
    "# Renaming the column names\n",
    "df_GB_data = df_GB_data.rename(columns={\"Financial year ending March\": \"Year\", \"London Trams\": \"London\",\n",
    "                                        \"Nottingham Express Transit\": \"Nottingham\", \"Sheffield Supertram\": \"Sheffield\",\n",
    "                                        \"Manchester Metrolink [note 3]\": \"Manchester\", \"Blackpool Tramway\": \"Blackpool\",\n",
    "                                        \"Edinburgh Trams\": \"Edinburgh\"})\n",
    "df_GB_data.head(5)"
   ]
  },
  {
   "cell_type": "code",
   "execution_count": 70,
   "id": "24b745cc",
   "metadata": {},
   "outputs": [
    {
     "data": {
      "text/plain": [
       "(40, 7)"
      ]
     },
     "execution_count": 70,
     "metadata": {},
     "output_type": "execute_result"
    }
   ],
   "source": [
    "# EDA Step 6. Dropping the duplicate rows\n",
    "# Total number of rows and columns\n",
    "df_GB_data.shape"
   ]
  },
  {
   "cell_type": "code",
   "execution_count": 71,
   "id": "d389dc5e",
   "metadata": {
    "scrolled": true
   },
   "outputs": [
    {
     "name": "stdout",
     "output_type": "stream",
     "text": [
      "number of duplicate rows:  (0, 7)\n"
     ]
    }
   ],
   "source": [
    "# Rows containing duplicate data\n",
    "duplicate_rows_df = df_GB_data[df_GB_data.duplicated()]\n",
    "print(\"number of duplicate rows: \", duplicate_rows_df.shape)"
   ]
  },
  {
   "cell_type": "code",
   "execution_count": 72,
   "id": "fe79240a",
   "metadata": {},
   "outputs": [
    {
     "name": "stdout",
     "output_type": "stream",
     "text": [
      "Year          0\n",
      "London        0\n",
      "Nottingham    0\n",
      "Sheffield     0\n",
      "Manchester    0\n",
      "Blackpool     0\n",
      "Edinburgh     0\n",
      "dtype: int64\n"
     ]
    }
   ],
   "source": [
    "# EDA Step 7. Dropping the missing or null values.\n",
    "# Finding the null values.\n",
    "print(df_GB_data.isnull().sum())"
   ]
  },
  {
   "cell_type": "code",
   "execution_count": 73,
   "id": "1b78fb46",
   "metadata": {
    "scrolled": true
   },
   "outputs": [
    {
     "data": {
      "text/html": [
       "<div>\n",
       "<style scoped>\n",
       "    .dataframe tbody tr th:only-of-type {\n",
       "        vertical-align: middle;\n",
       "    }\n",
       "\n",
       "    .dataframe tbody tr th {\n",
       "        vertical-align: top;\n",
       "    }\n",
       "\n",
       "    .dataframe thead th {\n",
       "        text-align: right;\n",
       "    }\n",
       "</style>\n",
       "<table border=\"1\" class=\"dataframe\">\n",
       "  <thead>\n",
       "    <tr style=\"text-align: right;\">\n",
       "      <th></th>\n",
       "      <th>Year</th>\n",
       "      <th>London</th>\n",
       "      <th>Nottingham</th>\n",
       "      <th>Sheffield</th>\n",
       "      <th>Manchester</th>\n",
       "      <th>Blackpool</th>\n",
       "      <th>Edinburgh</th>\n",
       "    </tr>\n",
       "  </thead>\n",
       "  <tbody>\n",
       "    <tr>\n",
       "      <th>0</th>\n",
       "      <td>1984</td>\n",
       "      <td>0.0</td>\n",
       "      <td>0.0</td>\n",
       "      <td>0.0</td>\n",
       "      <td>0.0</td>\n",
       "      <td>6.2</td>\n",
       "      <td>0.0</td>\n",
       "    </tr>\n",
       "    <tr>\n",
       "      <th>1</th>\n",
       "      <td>1985</td>\n",
       "      <td>0.0</td>\n",
       "      <td>0.0</td>\n",
       "      <td>0.0</td>\n",
       "      <td>0.0</td>\n",
       "      <td>6.0</td>\n",
       "      <td>0.0</td>\n",
       "    </tr>\n",
       "    <tr>\n",
       "      <th>2</th>\n",
       "      <td>1986</td>\n",
       "      <td>0.0</td>\n",
       "      <td>0.0</td>\n",
       "      <td>0.0</td>\n",
       "      <td>0.0</td>\n",
       "      <td>6.2</td>\n",
       "      <td>0.0</td>\n",
       "    </tr>\n",
       "    <tr>\n",
       "      <th>3</th>\n",
       "      <td>1987</td>\n",
       "      <td>0.0</td>\n",
       "      <td>0.0</td>\n",
       "      <td>0.0</td>\n",
       "      <td>0.0</td>\n",
       "      <td>6.2</td>\n",
       "      <td>0.0</td>\n",
       "    </tr>\n",
       "    <tr>\n",
       "      <th>4</th>\n",
       "      <td>1988</td>\n",
       "      <td>0.0</td>\n",
       "      <td>0.0</td>\n",
       "      <td>0.0</td>\n",
       "      <td>0.0</td>\n",
       "      <td>5.4</td>\n",
       "      <td>0.0</td>\n",
       "    </tr>\n",
       "  </tbody>\n",
       "</table>\n",
       "</div>"
      ],
      "text/plain": [
       "   Year  London  Nottingham  Sheffield  Manchester  Blackpool  Edinburgh\n",
       "0  1984     0.0         0.0        0.0         0.0        6.2        0.0\n",
       "1  1985     0.0         0.0        0.0         0.0        6.0        0.0\n",
       "2  1986     0.0         0.0        0.0         0.0        6.2        0.0\n",
       "3  1987     0.0         0.0        0.0         0.0        6.2        0.0\n",
       "4  1988     0.0         0.0        0.0         0.0        5.4        0.0"
      ]
     },
     "execution_count": 73,
     "metadata": {},
     "output_type": "execute_result"
    }
   ],
   "source": [
    "# there are no null values found\n",
    "# the dataset does state: The symbol \"[w]\" is used to denote no data.\n",
    "# the symbol \"[w]\" will be replaced with zero\n",
    "df_GB_data = df_GB_data.replace('[w]', 0)\n",
    "df_GB_data.head()"
   ]
  },
  {
   "cell_type": "code",
   "execution_count": 74,
   "id": "76f8763c",
   "metadata": {},
   "outputs": [
    {
     "data": {
      "text/plain": [
       "Text(0.5, 1.0, 'The figures in this table are presented in millions')"
      ]
     },
     "execution_count": 74,
     "metadata": {},
     "output_type": "execute_result"
    },
    {
     "data": {
      "image/png": "[encoded data removed]",
      "text/plain": [
       "<Figure size 640x480 with 1 Axes>"
      ]
     },
     "metadata": {},
     "output_type": "display_data"
    }
   ],
   "source": [
    "# EDA Step 8. Detecting Outliers\n",
    "\n",
    "# selecting blackpool because Blackpool is the only city with values for every recorded year\n",
    "# set title for boxplot\n",
    "# https://stackoverflow.com/questions/42406233/how-to-add-a-title-to-a-seaborn-boxplot\n",
    "sns.boxplot(x=df_GB_data['Blackpool']).set_title(\"The figures in this table are presented in millions\")"
   ]
  },
  {
   "cell_type": "markdown",
   "id": "e1f45852",
   "metadata": {},
   "source": [
    "# Will skip IQR calculations as there is no need for it\n",
    "### From viewing the dataset there are no outliers that would skew/dwarf the data"
   ]
  },
  {
   "cell_type": "code",
   "execution_count": 75,
   "id": "6f13206f",
   "metadata": {},
   "outputs": [
    {
     "data": {
      "text/html": [
       "<div>\n",
       "<style scoped>\n",
       "    .dataframe tbody tr th:only-of-type {\n",
       "        vertical-align: middle;\n",
       "    }\n",
       "\n",
       "    .dataframe tbody tr th {\n",
       "        vertical-align: top;\n",
       "    }\n",
       "\n",
       "    .dataframe thead th {\n",
       "        text-align: right;\n",
       "    }\n",
       "</style>\n",
       "<table border=\"1\" class=\"dataframe\">\n",
       "  <thead>\n",
       "    <tr style=\"text-align: right;\">\n",
       "      <th></th>\n",
       "      <th>Year</th>\n",
       "      <th>London</th>\n",
       "      <th>Nottingham</th>\n",
       "      <th>Sheffield</th>\n",
       "      <th>Manchester</th>\n",
       "      <th>Blackpool</th>\n",
       "      <th>Edinburgh</th>\n",
       "    </tr>\n",
       "  </thead>\n",
       "  <tbody>\n",
       "    <tr>\n",
       "      <th>0</th>\n",
       "      <td>1984</td>\n",
       "      <td>0.0</td>\n",
       "      <td>0.0</td>\n",
       "      <td>0.0</td>\n",
       "      <td>0.0</td>\n",
       "      <td>6.2</td>\n",
       "      <td>0.0</td>\n",
       "    </tr>\n",
       "    <tr>\n",
       "      <th>1</th>\n",
       "      <td>1985</td>\n",
       "      <td>0.0</td>\n",
       "      <td>0.0</td>\n",
       "      <td>0.0</td>\n",
       "      <td>0.0</td>\n",
       "      <td>6.0</td>\n",
       "      <td>0.0</td>\n",
       "    </tr>\n",
       "    <tr>\n",
       "      <th>2</th>\n",
       "      <td>1986</td>\n",
       "      <td>0.0</td>\n",
       "      <td>0.0</td>\n",
       "      <td>0.0</td>\n",
       "      <td>0.0</td>\n",
       "      <td>6.2</td>\n",
       "      <td>0.0</td>\n",
       "    </tr>\n",
       "    <tr>\n",
       "      <th>3</th>\n",
       "      <td>1987</td>\n",
       "      <td>0.0</td>\n",
       "      <td>0.0</td>\n",
       "      <td>0.0</td>\n",
       "      <td>0.0</td>\n",
       "      <td>6.2</td>\n",
       "      <td>0.0</td>\n",
       "    </tr>\n",
       "    <tr>\n",
       "      <th>4</th>\n",
       "      <td>1988</td>\n",
       "      <td>0.0</td>\n",
       "      <td>0.0</td>\n",
       "      <td>0.0</td>\n",
       "      <td>0.0</td>\n",
       "      <td>5.4</td>\n",
       "      <td>0.0</td>\n",
       "    </tr>\n",
       "  </tbody>\n",
       "</table>\n",
       "</div>"
      ],
      "text/plain": [
       "   Year  London  Nottingham  Sheffield  Manchester  Blackpool  Edinburgh\n",
       "0  1984     0.0         0.0        0.0         0.0        6.2        0.0\n",
       "1  1985     0.0         0.0        0.0         0.0        6.0        0.0\n",
       "2  1986     0.0         0.0        0.0         0.0        6.2        0.0\n",
       "3  1987     0.0         0.0        0.0         0.0        6.2        0.0\n",
       "4  1988     0.0         0.0        0.0         0.0        5.4        0.0"
      ]
     },
     "execution_count": 75,
     "metadata": {},
     "output_type": "execute_result"
    }
   ],
   "source": [
    "df_GB_data.head()"
   ]
  },
  {
   "cell_type": "code",
   "execution_count": 76,
   "id": "9f8f239d",
   "metadata": {},
   "outputs": [],
   "source": [
    "# drop rows for years before 2015\n",
    "# years after 2015 have data for all selected cities\n",
    "GB_data_year_2015_onward = df_GB_data.truncate(before=31)"
   ]
  },
  {
   "cell_type": "code",
   "execution_count": 77,
   "id": "f4419ef4",
   "metadata": {},
   "outputs": [
    {
     "data": {
      "text/html": [
       "<div>\n",
       "<style scoped>\n",
       "    .dataframe tbody tr th:only-of-type {\n",
       "        vertical-align: middle;\n",
       "    }\n",
       "\n",
       "    .dataframe tbody tr th {\n",
       "        vertical-align: top;\n",
       "    }\n",
       "\n",
       "    .dataframe thead th {\n",
       "        text-align: right;\n",
       "    }\n",
       "</style>\n",
       "<table border=\"1\" class=\"dataframe\">\n",
       "  <thead>\n",
       "    <tr style=\"text-align: right;\">\n",
       "      <th></th>\n",
       "      <th>Year</th>\n",
       "      <th>London</th>\n",
       "      <th>Nottingham</th>\n",
       "      <th>Sheffield</th>\n",
       "      <th>Manchester</th>\n",
       "      <th>Blackpool</th>\n",
       "      <th>Edinburgh</th>\n",
       "    </tr>\n",
       "  </thead>\n",
       "  <tbody>\n",
       "    <tr>\n",
       "      <th>31</th>\n",
       "      <td>2015</td>\n",
       "      <td>30.7</td>\n",
       "      <td>8.1</td>\n",
       "      <td>11.5</td>\n",
       "      <td>31.2</td>\n",
       "      <td>4.1</td>\n",
       "      <td>4.1</td>\n",
       "    </tr>\n",
       "    <tr>\n",
       "      <th>32</th>\n",
       "      <td>2016</td>\n",
       "      <td>27.0</td>\n",
       "      <td>12.2</td>\n",
       "      <td>11.6</td>\n",
       "      <td>34.3</td>\n",
       "      <td>4.9</td>\n",
       "      <td>5.3</td>\n",
       "    </tr>\n",
       "    <tr>\n",
       "      <th>33</th>\n",
       "      <td>2017</td>\n",
       "      <td>29.5</td>\n",
       "      <td>16.4</td>\n",
       "      <td>12.6</td>\n",
       "      <td>37.8</td>\n",
       "      <td>5.1</td>\n",
       "      <td>5.8</td>\n",
       "    </tr>\n",
       "    <tr>\n",
       "      <th>34</th>\n",
       "      <td>2018</td>\n",
       "      <td>29.1</td>\n",
       "      <td>17.8</td>\n",
       "      <td>12.3</td>\n",
       "      <td>41.2</td>\n",
       "      <td>5.2</td>\n",
       "      <td>6.8</td>\n",
       "    </tr>\n",
       "    <tr>\n",
       "      <th>35</th>\n",
       "      <td>2019</td>\n",
       "      <td>28.7</td>\n",
       "      <td>18.8</td>\n",
       "      <td>11.9</td>\n",
       "      <td>43.7</td>\n",
       "      <td>5.2</td>\n",
       "      <td>7.5</td>\n",
       "    </tr>\n",
       "    <tr>\n",
       "      <th>36</th>\n",
       "      <td>2020</td>\n",
       "      <td>27.2</td>\n",
       "      <td>18.7</td>\n",
       "      <td>10.5</td>\n",
       "      <td>44.3</td>\n",
       "      <td>4.8</td>\n",
       "      <td>7.1</td>\n",
       "    </tr>\n",
       "    <tr>\n",
       "      <th>37</th>\n",
       "      <td>2021</td>\n",
       "      <td>11.6</td>\n",
       "      <td>3.4</td>\n",
       "      <td>2.8</td>\n",
       "      <td>10.3</td>\n",
       "      <td>1.1</td>\n",
       "      <td>0.9</td>\n",
       "    </tr>\n",
       "    <tr>\n",
       "      <th>38</th>\n",
       "      <td>2022</td>\n",
       "      <td>19.1</td>\n",
       "      <td>9.1</td>\n",
       "      <td>6.9</td>\n",
       "      <td>26.0</td>\n",
       "      <td>4.2</td>\n",
       "      <td>2.8</td>\n",
       "    </tr>\n",
       "    <tr>\n",
       "      <th>39</th>\n",
       "      <td>2023</td>\n",
       "      <td>20.9</td>\n",
       "      <td>14.4</td>\n",
       "      <td>8.4</td>\n",
       "      <td>36.0</td>\n",
       "      <td>4.9</td>\n",
       "      <td>5.3</td>\n",
       "    </tr>\n",
       "  </tbody>\n",
       "</table>\n",
       "</div>"
      ],
      "text/plain": [
       "    Year  London  Nottingham  Sheffield  Manchester  Blackpool  Edinburgh\n",
       "31  2015    30.7         8.1       11.5        31.2        4.1        4.1\n",
       "32  2016    27.0        12.2       11.6        34.3        4.9        5.3\n",
       "33  2017    29.5        16.4       12.6        37.8        5.1        5.8\n",
       "34  2018    29.1        17.8       12.3        41.2        5.2        6.8\n",
       "35  2019    28.7        18.8       11.9        43.7        5.2        7.5\n",
       "36  2020    27.2        18.7       10.5        44.3        4.8        7.1\n",
       "37  2021    11.6         3.4        2.8        10.3        1.1        0.9\n",
       "38  2022    19.1         9.1        6.9        26.0        4.2        2.8\n",
       "39  2023    20.9        14.4        8.4        36.0        4.9        5.3"
      ]
     },
     "execution_count": 77,
     "metadata": {},
     "output_type": "execute_result"
    }
   ],
   "source": [
    "GB_data_year_2015_onward"
   ]
  },
  {
   "cell_type": "code",
   "execution_count": 79,
   "id": "2f2a0559",
   "metadata": {},
   "outputs": [
    {
     "data": {
      "text/plain": [
       "array('f', [30.700000762939453, 27.0, 29.5, 29.100000381469727, 28.700000762939453, 27.200000762939453, 11.600000381469727, 19.100000381469727, 20.899999618530273])"
      ]
     },
     "execution_count": 79,
     "metadata": {},
     "output_type": "execute_result"
    }
   ],
   "source": [
    "london_arr = GB_data_year_2015_onward['London']\n",
    "nottingham_arr = GB_data_year_2015_onward['Nottingham']\n",
    "sheffield_arr = GB_data_year_2015_onward['Sheffield']\n",
    "manchester_arr = GB_data_year_2015_onward['Manchester']\n",
    "blackpool_arr = GB_data_year_2015_onward['Blackpool']\n",
    "edinburgh_arr = GB_data_year_2015_onward['Edinburgh']\n",
    "#edinburgh_arr\n",
    "\n",
    "# convert variable to type float array to be passed to bar chart and heat map\n",
    "# https://pythonexamples.org/python-create-a-float-array/\n",
    "london_arr = array.array('f', round(london_arr, 1))\n",
    "nottingham_arr = array.array('f', nottingham_arr)\n",
    "sheffield_arr = array.array('f', sheffield_arr)\n",
    "manchester_arr = array.array('f', manchester_arr)\n",
    "blackpool_arr = array.array('f', blackpool_arr)\n",
    "edinburgh_arr = array.array('f', edinburgh_arr)\n",
    "#edinburgh_arr"
   ]
  },
  {
   "cell_type": "code",
   "execution_count": 80,
   "id": "ce5b2f71",
   "metadata": {
    "scrolled": true
   },
   "outputs": [
    {
     "data": {
      "text/plain": [
       "<matplotlib.legend.Legend at 0x15aab18de90>"
      ]
     },
     "execution_count": 80,
     "metadata": {},
     "output_type": "execute_result"
    },
    {
     "data": {
      "image/png": "[encoded data removed]",
      "text/plain": [
       "<Figure size 2000x600 with 1 Axes>"
      ]
     },
     "metadata": {},
     "output_type": "display_data"
    }
   ],
   "source": [
    "# EDA Step 9. Plot different features against one another\n",
    "\n",
    "# Create a sample dataframe with an text index\n",
    "plotdata = pd.DataFrame({\n",
    "    \"London\":london_arr,\n",
    "    \"Nottingham\":nottingham_arr,\n",
    "    \"Sheffield\":sheffield_arr,\n",
    "    \"Manchester\":manchester_arr,\n",
    "    \"Blackpool\":blackpool_arr,\n",
    "    \"Edinburgh\":edinburgh_arr\n",
    "    }, \n",
    "    index = GB_data_year_2015_onward.Year.unique()\n",
    ")\n",
    "plotdata.plot(kind=\"bar\", figsize=(20, 6))\n",
    "plt.xlabel(\"Year\")\n",
    "plt.ylabel(\"Passengers * Millions\")\n",
    "plt.title(\"Total Passengers For Each Line by Year\")\n",
    "\n",
    "# https://stackoverflow.com/questions/23556153/how-to-put-legend-outside-the-plot-with-pandas\n",
    "plt.legend(loc='center left', bbox_to_anchor=(1.0, 0.5))\n"
   ]
  },
  {
   "cell_type": "code",
   "execution_count": 81,
   "id": "f98656c5",
   "metadata": {},
   "outputs": [],
   "source": [
    "# merge arrays into single array\n",
    "# https://www.w3schools.com/python/numpy/numpy_array_join.asp\n",
    "gb_data_new_arr = np.array([london_arr, nottingham_arr, sheffield_arr,manchester_arr,blackpool_arr,edinburgh_arr])\n",
    "\n",
    "# convert numphy array to dataframe\n",
    "# https://www.geeksforgeeks.org/create-a-dataframe-from-a-numpy-array-and-specify-the-index-column-and-column-headers/\n",
    "# creating a list of index names \n",
    "index_values = ['London', 'Nottingham', 'Sheffield', 'Manchester', 'Blackpool', 'Edinburgh'] \n",
    "   \n",
    "# creating a list of column names \n",
    "column_values = ['2015', '2016', '2017', '2018', '2019', '2020', \n",
    "                '2021', '2022', '2023'] \n",
    "  \n",
    "# creating the dataframe \n",
    "df_formatted_gb_totals = pd.DataFrame(data = gb_data_new_arr,  \n",
    "                  index = index_values,  \n",
    "                  columns = column_values) \n",
    "  \n",
    "# displaying the dataframe \n",
    "#print(df_formatted_gb_totals)"
   ]
  },
  {
   "cell_type": "code",
   "execution_count": 82,
   "id": "eeefdb57",
   "metadata": {},
   "outputs": [
    {
     "data": {
      "text/plain": [
       "Text(0.5, 1.0, 'Total Passengers For Each City by Year')"
      ]
     },
     "execution_count": 82,
     "metadata": {},
     "output_type": "execute_result"
    },
    {
     "data": {
      "image/png": "[encoded data removed]",
      "text/plain": [
       "<Figure size 2000x1000 with 2 Axes>"
      ]
     },
     "metadata": {},
     "output_type": "display_data"
    }
   ],
   "source": [
    "# finding the relations between the variables.\n",
    "plt.figure(figsize=(20,10))\n",
    "sns.heatmap(df_formatted_gb_totals,cmap=\"coolwarm\", annot=True, fmt=\".1f\")\n",
    "plt.title('Total Passengers For Each City by Year') #add title"
   ]
  },
  {
   "cell_type": "markdown",
   "id": "54d4506d",
   "metadata": {},
   "source": [
    "# Descriptive statistics and appropriate visualisations in order to summarise the dataset"
   ]
  },
  {
   "cell_type": "code",
   "execution_count": 83,
   "id": "421b4ca5",
   "metadata": {},
   "outputs": [
    {
     "data": {
      "text/html": [
       "<div>\n",
       "<style scoped>\n",
       "    .dataframe tbody tr th:only-of-type {\n",
       "        vertical-align: middle;\n",
       "    }\n",
       "\n",
       "    .dataframe tbody tr th {\n",
       "        vertical-align: top;\n",
       "    }\n",
       "\n",
       "    .dataframe thead th {\n",
       "        text-align: right;\n",
       "    }\n",
       "</style>\n",
       "<table border=\"1\" class=\"dataframe\">\n",
       "  <thead>\n",
       "    <tr style=\"text-align: right;\">\n",
       "      <th></th>\n",
       "      <th>STATISTIC</th>\n",
       "      <th>Statistic Label</th>\n",
       "      <th>TLIST(W1)</th>\n",
       "      <th>Week</th>\n",
       "      <th>C03132V03784</th>\n",
       "      <th>Luas Line</th>\n",
       "      <th>UNIT</th>\n",
       "      <th>VALUE</th>\n",
       "    </tr>\n",
       "  </thead>\n",
       "  <tbody>\n",
       "    <tr>\n",
       "      <th>0</th>\n",
       "      <td>TII03C01</td>\n",
       "      <td>Passenger Journeys</td>\n",
       "      <td>2019W01</td>\n",
       "      <td>2019 Week 01</td>\n",
       "      <td>-</td>\n",
       "      <td>All Luas lines</td>\n",
       "      <td>Number</td>\n",
       "      <td>549533.0</td>\n",
       "    </tr>\n",
       "    <tr>\n",
       "      <th>1</th>\n",
       "      <td>TII03C01</td>\n",
       "      <td>Passenger Journeys</td>\n",
       "      <td>2019W01</td>\n",
       "      <td>2019 Week 01</td>\n",
       "      <td>1</td>\n",
       "      <td>Red line</td>\n",
       "      <td>Number</td>\n",
       "      <td>274139.0</td>\n",
       "    </tr>\n",
       "    <tr>\n",
       "      <th>2</th>\n",
       "      <td>TII03C01</td>\n",
       "      <td>Passenger Journeys</td>\n",
       "      <td>2019W01</td>\n",
       "      <td>2019 Week 01</td>\n",
       "      <td>2</td>\n",
       "      <td>Green line</td>\n",
       "      <td>Number</td>\n",
       "      <td>275394.0</td>\n",
       "    </tr>\n",
       "    <tr>\n",
       "      <th>3</th>\n",
       "      <td>TII03C01</td>\n",
       "      <td>Passenger Journeys</td>\n",
       "      <td>2019W02</td>\n",
       "      <td>2019 Week 02</td>\n",
       "      <td>-</td>\n",
       "      <td>All Luas lines</td>\n",
       "      <td>Number</td>\n",
       "      <td>839022.0</td>\n",
       "    </tr>\n",
       "    <tr>\n",
       "      <th>4</th>\n",
       "      <td>TII03C01</td>\n",
       "      <td>Passenger Journeys</td>\n",
       "      <td>2019W02</td>\n",
       "      <td>2019 Week 02</td>\n",
       "      <td>1</td>\n",
       "      <td>Red line</td>\n",
       "      <td>Number</td>\n",
       "      <td>408199.0</td>\n",
       "    </tr>\n",
       "  </tbody>\n",
       "</table>\n",
       "</div>"
      ],
      "text/plain": [
       "  STATISTIC     Statistic Label TLIST(W1)          Week C03132V03784  \\\n",
       "0  TII03C01  Passenger Journeys   2019W01  2019 Week 01            -   \n",
       "1  TII03C01  Passenger Journeys   2019W01  2019 Week 01            1   \n",
       "2  TII03C01  Passenger Journeys   2019W01  2019 Week 01            2   \n",
       "3  TII03C01  Passenger Journeys   2019W02  2019 Week 02            -   \n",
       "4  TII03C01  Passenger Journeys   2019W02  2019 Week 02            1   \n",
       "\n",
       "        Luas Line    UNIT     VALUE  \n",
       "0  All Luas lines  Number  549533.0  \n",
       "1        Red line  Number  274139.0  \n",
       "2      Green line  Number  275394.0  \n",
       "3  All Luas lines  Number  839022.0  \n",
       "4        Red line  Number  408199.0  "
      ]
     },
     "execution_count": 83,
     "metadata": {},
     "output_type": "execute_result"
    }
   ],
   "source": [
    "# Display first 5 rows of dataframe containing total passengers\n",
    "df_luas_totals_all_data.head()"
   ]
  },
  {
   "cell_type": "code",
   "execution_count": 84,
   "id": "f5ab68be",
   "metadata": {},
   "outputs": [
    {
     "data": {
      "text/plain": [
       "pandas.core.frame.DataFrame"
      ]
     },
     "execution_count": 84,
     "metadata": {},
     "output_type": "execute_result"
    }
   ],
   "source": [
    "# Check to see what data type the df variable is\n",
    "type(df_luas_totals_all_data)"
   ]
  },
  {
   "cell_type": "code",
   "execution_count": 85,
   "id": "b7f096ac",
   "metadata": {},
   "outputs": [
    {
     "data": {
      "text/plain": [
       "STATISTIC           object\n",
       "Statistic Label     object\n",
       "TLIST(W1)           object\n",
       "Week                object\n",
       "C03132V03784        object\n",
       "Luas Line           object\n",
       "UNIT                object\n",
       "VALUE              float64\n",
       "dtype: object"
      ]
     },
     "execution_count": 85,
     "metadata": {},
     "output_type": "execute_result"
    }
   ],
   "source": [
    "# Check to see what data types the df variable holds\n",
    "df_luas_totals_all_data.dtypes"
   ]
  },
  {
   "cell_type": "code",
   "execution_count": 86,
   "id": "99cbfbc6",
   "metadata": {},
   "outputs": [
    {
     "data": {
      "text/plain": [
       "Index(['STATISTIC', 'Statistic Label', 'TLIST(W1)', 'Week', 'C03132V03784',\n",
       "       'Luas Line', 'UNIT', 'VALUE'],\n",
       "      dtype='object')"
      ]
     },
     "execution_count": 86,
     "metadata": {},
     "output_type": "execute_result"
    }
   ],
   "source": [
    "# Check the dataframes column names\n",
    "df_luas_totals_all_data.columns"
   ]
  },
  {
   "cell_type": "code",
   "execution_count": 87,
   "id": "64a92d74",
   "metadata": {},
   "outputs": [
    {
     "data": {
      "text/plain": [
       "array(['All Luas lines', 'Red line', 'Green line'], dtype=object)"
      ]
     },
     "execution_count": 87,
     "metadata": {},
     "output_type": "execute_result"
    }
   ],
   "source": [
    "pd.unique(df_luas_totals_all_data['Luas Line'])"
   ]
  },
  {
   "cell_type": "code",
   "execution_count": 88,
   "id": "c793be05",
   "metadata": {},
   "outputs": [
    {
     "data": {
      "text/plain": [
       "count        771\n",
       "mean      441653\n",
       "std       268321\n",
       "min        19727\n",
       "25%       232184\n",
       "50%       425858\n",
       "75%       532630\n",
       "max      1173473\n",
       "Name: VALUE, dtype: object"
      ]
     },
     "execution_count": 88,
     "metadata": {},
     "output_type": "execute_result"
    }
   ],
   "source": [
    "# https://stackoverflow.com/questions/55394854/how-to-change-the-format-of-describe-output\n",
    "# Format describe output\n",
    "df_luas_totals_all_data['VALUE'].describe().apply(\"{0:.0f}\".format)"
   ]
  },
  {
   "cell_type": "code",
   "execution_count": 89,
   "id": "759f1441",
   "metadata": {},
   "outputs": [
    {
     "data": {
      "text/plain": [
       "771"
      ]
     },
     "execution_count": 89,
     "metadata": {},
     "output_type": "execute_result"
    }
   ],
   "source": [
    "df_luas_totals_all_data['VALUE'].min()\n",
    "df_luas_totals_all_data['VALUE'].max()\n",
    "df_luas_totals_all_data['VALUE'].mean()\n",
    "df_luas_totals_all_data['VALUE'].std()\n",
    "df_luas_totals_all_data['VALUE'].count()"
   ]
  },
  {
   "cell_type": "code",
   "execution_count": 90,
   "id": "dcd3e152",
   "metadata": {},
   "outputs": [],
   "source": [
    "# Group data by sex\n",
    "grouped_data = df_luas_totals_all_data.groupby('VALUE')"
   ]
  },
  {
   "cell_type": "code",
   "execution_count": 91,
   "id": "0b916886",
   "metadata": {},
   "outputs": [
    {
     "data": {
      "text/html": [
       "<div>\n",
       "<style scoped>\n",
       "    .dataframe tbody tr th:only-of-type {\n",
       "        vertical-align: middle;\n",
       "    }\n",
       "\n",
       "    .dataframe tbody tr th {\n",
       "        vertical-align: top;\n",
       "    }\n",
       "\n",
       "    .dataframe thead th {\n",
       "        text-align: right;\n",
       "    }\n",
       "</style>\n",
       "<table border=\"1\" class=\"dataframe\">\n",
       "  <thead>\n",
       "    <tr style=\"text-align: right;\">\n",
       "      <th></th>\n",
       "    </tr>\n",
       "    <tr>\n",
       "      <th>VALUE</th>\n",
       "    </tr>\n",
       "  </thead>\n",
       "  <tbody>\n",
       "    <tr>\n",
       "      <th>19727.0</th>\n",
       "    </tr>\n",
       "    <tr>\n",
       "      <th>19793.0</th>\n",
       "    </tr>\n",
       "    <tr>\n",
       "      <th>21298.0</th>\n",
       "    </tr>\n",
       "    <tr>\n",
       "      <th>21657.0</th>\n",
       "    </tr>\n",
       "    <tr>\n",
       "      <th>22958.0</th>\n",
       "    </tr>\n",
       "    <tr>\n",
       "      <th>...</th>\n",
       "    </tr>\n",
       "    <tr>\n",
       "      <th>1085573.0</th>\n",
       "    </tr>\n",
       "    <tr>\n",
       "      <th>1106246.0</th>\n",
       "    </tr>\n",
       "    <tr>\n",
       "      <th>1113668.0</th>\n",
       "    </tr>\n",
       "    <tr>\n",
       "      <th>1151098.0</th>\n",
       "    </tr>\n",
       "    <tr>\n",
       "      <th>1173473.0</th>\n",
       "    </tr>\n",
       "  </tbody>\n",
       "</table>\n",
       "<p>768 rows × 0 columns</p>\n",
       "</div>"
      ],
      "text/plain": [
       "Empty DataFrame\n",
       "Columns: []\n",
       "Index: [19727.0, 19793.0, 21298.0, 21657.0, 22958.0, 24953.0, 28056.0, 29666.0, 30357.0, 30363.0, 31902.0, 33589.0, 37373.0, 39490.0, 42233.0, 45190.0, 49393.0, 50356.0, 50934.0, 51655.0, 51695.0, 53321.0, 55246.0, 57828.0, 62327.0, 64188.0, 64278.0, 64705.0, 65704.0, 66098.0, 68329.0, 68364.0, 69184.0, 70211.0, 70288.0, 70689.0, 70711.0, 71440.0, 73357.0, 77471.0, 77563.0, 80488.0, 82245.0, 82639.0, 83202.0, 83766.0, 84355.0, 84576.0, 85601.0, 86266.0, 86518.0, 86775.0, 87285.0, 88872.0, 90954.0, 91498.0, 93298.0, 94591.0, 94942.0, 95896.0, 97318.0, 97816.0, 99907.0, 100098.0, 100606.0, 102521.0, 103504.0, 104351.0, 104694.0, 104738.0, 109378.0, 109435.0, 111451.0, 111503.0, 112233.0, 113419.0, 113452.0, 113900.0, 114833.0, 116454.0, 118170.0, 118595.0, 121645.0, 124527.0, 125669.0, 125944.0, 126802.0, 127505.0, 127756.0, 129279.0, 129443.0, 132545.0, 133829.0, 134146.0, 135020.0, 138343.0, 141651.0, 141825.0, 144676.0, 145295.0, ...]\n",
       "\n",
       "[768 rows x 0 columns]"
      ]
     },
     "execution_count": 91,
     "metadata": {},
     "output_type": "execute_result"
    }
   ],
   "source": [
    "# Summary statistics for all numeric columns by VALUE\n",
    "#grouped_data.describe()\n",
    "# Provide the mean for each numeric column by VALUE\n",
    "grouped_data.mean(numeric_only=True)"
   ]
  },
  {
   "cell_type": "code",
   "execution_count": 92,
   "id": "9b1d8395",
   "metadata": {},
   "outputs": [
    {
     "ename": "NameError",
     "evalue": "name 'species_counts' is not defined",
     "output_type": "error",
     "traceback": [
      "\u001b[1;31m---------------------------------------------------------------------------\u001b[0m",
      "\u001b[1;31mNameError\u001b[0m                                 Traceback (most recent call last)",
      "Cell \u001b[1;32mIn[92], line 4\u001b[0m\n\u001b[0;32m      2\u001b[0m get_ipython()\u001b[38;5;241m.\u001b[39mrun_line_magic(\u001b[38;5;124m'\u001b[39m\u001b[38;5;124mmatplotlib\u001b[39m\u001b[38;5;124m'\u001b[39m, \u001b[38;5;124m'\u001b[39m\u001b[38;5;124minline\u001b[39m\u001b[38;5;124m'\u001b[39m)\n\u001b[0;32m      3\u001b[0m \u001b[38;5;66;03m# Create a quick bar chart\u001b[39;00m\n\u001b[1;32m----> 4\u001b[0m species_counts\u001b[38;5;241m.\u001b[39mplot(kind\u001b[38;5;241m=\u001b[39m\u001b[38;5;124m'\u001b[39m\u001b[38;5;124mbar\u001b[39m\u001b[38;5;124m'\u001b[39m)\n",
      "\u001b[1;31mNameError\u001b[0m: name 'species_counts' is not defined"
     ]
    }
   ],
   "source": [
    "# Make sure figures appear inline in Ipython Notebook\n",
    "%matplotlib inline\n",
    "# Create a quick bar chart\n",
    "species_counts.plot(kind='bar');"
   ]
  }
 ],
 "metadata": {
  "kernelspec": {
   "display_name": "Python 3 (ipykernel)",
   "language": "python",
   "name": "python3"
  },
  "language_info": {
   "codemirror_mode": {
    "name": "ipython",
    "version": 3
   },
   "file_extension": ".py",
   "mimetype": "text/x-python",
   "name": "python",
   "nbconvert_exporter": "python",
   "pygments_lexer": "ipython3",
   "version": "3.11.4"
  }
 },
 "nbformat": 4,
 "nbformat_minor": 5
}
