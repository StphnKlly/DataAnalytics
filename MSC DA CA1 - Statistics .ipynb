{
 "cells": [
  {
   "cell_type": "markdown",
   "id": "886e3e8a",
   "metadata": {},
   "source": [
    "# Descriptive Statistics \n",
    "\n",
    "### Question 1\n",
    "Summarise your dataset clearly, using relevant descriptive statistics and appropriate plots. These should be carefully motivated and justified, and clearly presented. You should critically analyse your findings, in addition to including the necessary Python code, output and plots in the report. You are required to plot at least three graphs. [0-35]"
   ]
  },
  {
   "cell_type": "code",
   "execution_count": 1,
   "id": "7e7d7da3",
   "metadata": {},
   "outputs": [],
   "source": [
    "##IMPORTING LIBRARIES\n",
    "import pandas as pd\n",
    "import statistics as stats\n",
    "import numpy as np\n",
    "import matplotlib.pyplot as plt\n",
    "import seaborn as sns"
   ]
  },
  {
   "cell_type": "code",
   "execution_count": 2,
   "id": "add152d2",
   "metadata": {},
   "outputs": [],
   "source": [
    "# Importing the dataset\n",
    "df_all_data = pd.read_excel(r\"C:\\Users\\stphn\\Documents\\CCT\\Assessment\\PEA25_estimated_population.xlsx\", sheet_name=\"Unpivoted\")"
   ]
  },
  {
   "cell_type": "code",
   "execution_count": 3,
   "id": "f97b5c1e",
   "metadata": {},
   "outputs": [
    {
     "data": {
      "text/html": [
       "<div>\n",
       "<style scoped>\n",
       "    .dataframe tbody tr th:only-of-type {\n",
       "        vertical-align: middle;\n",
       "    }\n",
       "\n",
       "    .dataframe tbody tr th {\n",
       "        vertical-align: top;\n",
       "    }\n",
       "\n",
       "    .dataframe thead th {\n",
       "        text-align: right;\n",
       "    }\n",
       "</style>\n",
       "<table border=\"1\" class=\"dataframe\">\n",
       "  <thead>\n",
       "    <tr style=\"text-align: right;\">\n",
       "      <th></th>\n",
       "      <th>Statistic Label</th>\n",
       "      <th>Year</th>\n",
       "      <th>Sex</th>\n",
       "      <th>Citizenship</th>\n",
       "      <th>UNIT</th>\n",
       "      <th>VALUE</th>\n",
       "    </tr>\n",
       "  </thead>\n",
       "  <tbody>\n",
       "    <tr>\n",
       "      <th>0</th>\n",
       "      <td>Estimated Population</td>\n",
       "      <td>2006</td>\n",
       "      <td>Both sexes</td>\n",
       "      <td>All Countries</td>\n",
       "      <td>Thousand</td>\n",
       "      <td>4232.9</td>\n",
       "    </tr>\n",
       "    <tr>\n",
       "      <th>1</th>\n",
       "      <td>Estimated Population</td>\n",
       "      <td>2006</td>\n",
       "      <td>Both sexes</td>\n",
       "      <td>EU14 excl Irl (countries in the EU pre 2004 ex...</td>\n",
       "      <td>Thousand</td>\n",
       "      <td>43.8</td>\n",
       "    </tr>\n",
       "    <tr>\n",
       "      <th>2</th>\n",
       "      <td>Estimated Population</td>\n",
       "      <td>2006</td>\n",
       "      <td>Both sexes</td>\n",
       "      <td>EU15 to EU27 (accession countries joined post ...</td>\n",
       "      <td>Thousand</td>\n",
       "      <td>132.5</td>\n",
       "    </tr>\n",
       "    <tr>\n",
       "      <th>3</th>\n",
       "      <td>Estimated Population</td>\n",
       "      <td>2006</td>\n",
       "      <td>Both sexes</td>\n",
       "      <td>United Kingdom</td>\n",
       "      <td>Thousand</td>\n",
       "      <td>115.5</td>\n",
       "    </tr>\n",
       "    <tr>\n",
       "      <th>4</th>\n",
       "      <td>Estimated Population</td>\n",
       "      <td>2006</td>\n",
       "      <td>Both sexes</td>\n",
       "      <td>Ireland</td>\n",
       "      <td>Thousand</td>\n",
       "      <td>3802.4</td>\n",
       "    </tr>\n",
       "  </tbody>\n",
       "</table>\n",
       "</div>"
      ],
      "text/plain": [
       "        Statistic Label  Year         Sex  \\\n",
       "0  Estimated Population  2006  Both sexes   \n",
       "1  Estimated Population  2006  Both sexes   \n",
       "2  Estimated Population  2006  Both sexes   \n",
       "3  Estimated Population  2006  Both sexes   \n",
       "4  Estimated Population  2006  Both sexes   \n",
       "\n",
       "                                         Citizenship      UNIT   VALUE  \n",
       "0                                      All Countries  Thousand  4232.9  \n",
       "1  EU14 excl Irl (countries in the EU pre 2004 ex...  Thousand    43.8  \n",
       "2  EU15 to EU27 (accession countries joined post ...  Thousand   132.5  \n",
       "3                                     United Kingdom  Thousand   115.5  \n",
       "4                                            Ireland  Thousand  3802.4  "
      ]
     },
     "execution_count": 3,
     "metadata": {},
     "output_type": "execute_result"
    }
   ],
   "source": [
    "df_all_data.head()"
   ]
  },
  {
   "cell_type": "code",
   "execution_count": 4,
   "id": "8c4d675f",
   "metadata": {},
   "outputs": [
    {
     "data": {
      "text/html": [
       "<div>\n",
       "<style scoped>\n",
       "    .dataframe tbody tr th:only-of-type {\n",
       "        vertical-align: middle;\n",
       "    }\n",
       "\n",
       "    .dataframe tbody tr th {\n",
       "        vertical-align: top;\n",
       "    }\n",
       "\n",
       "    .dataframe thead th {\n",
       "        text-align: right;\n",
       "    }\n",
       "</style>\n",
       "<table border=\"1\" class=\"dataframe\">\n",
       "  <thead>\n",
       "    <tr style=\"text-align: right;\">\n",
       "      <th></th>\n",
       "      <th>Year</th>\n",
       "      <th>VALUE</th>\n",
       "    </tr>\n",
       "  </thead>\n",
       "  <tbody>\n",
       "    <tr>\n",
       "      <th>count</th>\n",
       "      <td>324.000000</td>\n",
       "      <td>324.000000</td>\n",
       "    </tr>\n",
       "    <tr>\n",
       "      <th>mean</th>\n",
       "      <td>2014.500000</td>\n",
       "      <td>1052.622531</td>\n",
       "    </tr>\n",
       "    <tr>\n",
       "      <th>std</th>\n",
       "      <td>5.196152</td>\n",
       "      <td>1492.635331</td>\n",
       "    </tr>\n",
       "    <tr>\n",
       "      <th>min</th>\n",
       "      <td>2006.000000</td>\n",
       "      <td>21.300000</td>\n",
       "    </tr>\n",
       "    <tr>\n",
       "      <th>25%</th>\n",
       "      <td>2010.000000</td>\n",
       "      <td>58.975000</td>\n",
       "    </tr>\n",
       "    <tr>\n",
       "      <th>50%</th>\n",
       "      <td>2014.500000</td>\n",
       "      <td>121.350000</td>\n",
       "    </tr>\n",
       "    <tr>\n",
       "      <th>75%</th>\n",
       "      <td>2019.000000</td>\n",
       "      <td>2145.400000</td>\n",
       "    </tr>\n",
       "    <tr>\n",
       "      <th>max</th>\n",
       "      <td>2023.000000</td>\n",
       "      <td>5281.600000</td>\n",
       "    </tr>\n",
       "  </tbody>\n",
       "</table>\n",
       "</div>"
      ],
      "text/plain": [
       "              Year        VALUE\n",
       "count   324.000000   324.000000\n",
       "mean   2014.500000  1052.622531\n",
       "std       5.196152  1492.635331\n",
       "min    2006.000000    21.300000\n",
       "25%    2010.000000    58.975000\n",
       "50%    2014.500000   121.350000\n",
       "75%    2019.000000  2145.400000\n",
       "max    2023.000000  5281.600000"
      ]
     },
     "execution_count": 4,
     "metadata": {},
     "output_type": "execute_result"
    }
   ],
   "source": [
    "df_all_data.describe()"
   ]
  },
  {
   "cell_type": "code",
   "execution_count": 5,
   "id": "165fd4d2",
   "metadata": {},
   "outputs": [
    {
     "data": {
      "text/plain": [
       "2006    18\n",
       "2007    18\n",
       "2022    18\n",
       "2021    18\n",
       "2020    18\n",
       "2019    18\n",
       "2018    18\n",
       "2017    18\n",
       "2016    18\n",
       "2015    18\n",
       "2014    18\n",
       "2013    18\n",
       "2012    18\n",
       "2011    18\n",
       "2010    18\n",
       "2009    18\n",
       "2008    18\n",
       "2023    18\n",
       "Name: Year, dtype: int64"
      ]
     },
     "execution_count": 5,
     "metadata": {},
     "output_type": "execute_result"
    }
   ],
   "source": [
    "df_all_data.Year.value_counts()"
   ]
  },
  {
   "cell_type": "code",
   "execution_count": 6,
   "id": "92f0c514",
   "metadata": {},
   "outputs": [],
   "source": [
    "#We count the values\n",
    "year_counts = df_all_data['Year'].value_counts()\n",
    "relative_frequencies = year_counts / len(df_all_data)"
   ]
  },
  {
   "cell_type": "code",
   "execution_count": 7,
   "id": "1d38c545",
   "metadata": {},
   "outputs": [
    {
     "data": {
      "text/html": [
       "<div>\n",
       "<style scoped>\n",
       "    .dataframe tbody tr th:only-of-type {\n",
       "        vertical-align: middle;\n",
       "    }\n",
       "\n",
       "    .dataframe tbody tr th {\n",
       "        vertical-align: top;\n",
       "    }\n",
       "\n",
       "    .dataframe thead th {\n",
       "        text-align: right;\n",
       "    }\n",
       "</style>\n",
       "<table border=\"1\" class=\"dataframe\">\n",
       "  <thead>\n",
       "    <tr style=\"text-align: right;\">\n",
       "      <th></th>\n",
       "      <th>State</th>\n",
       "      <th>Frequency</th>\n",
       "      <th>Relative Frequency</th>\n",
       "    </tr>\n",
       "  </thead>\n",
       "  <tbody>\n",
       "    <tr>\n",
       "      <th>0</th>\n",
       "      <td>2006</td>\n",
       "      <td>18</td>\n",
       "      <td>0.055556</td>\n",
       "    </tr>\n",
       "    <tr>\n",
       "      <th>1</th>\n",
       "      <td>2007</td>\n",
       "      <td>18</td>\n",
       "      <td>0.055556</td>\n",
       "    </tr>\n",
       "    <tr>\n",
       "      <th>2</th>\n",
       "      <td>2022</td>\n",
       "      <td>18</td>\n",
       "      <td>0.055556</td>\n",
       "    </tr>\n",
       "    <tr>\n",
       "      <th>3</th>\n",
       "      <td>2021</td>\n",
       "      <td>18</td>\n",
       "      <td>0.055556</td>\n",
       "    </tr>\n",
       "    <tr>\n",
       "      <th>4</th>\n",
       "      <td>2020</td>\n",
       "      <td>18</td>\n",
       "      <td>0.055556</td>\n",
       "    </tr>\n",
       "    <tr>\n",
       "      <th>5</th>\n",
       "      <td>2019</td>\n",
       "      <td>18</td>\n",
       "      <td>0.055556</td>\n",
       "    </tr>\n",
       "    <tr>\n",
       "      <th>6</th>\n",
       "      <td>2018</td>\n",
       "      <td>18</td>\n",
       "      <td>0.055556</td>\n",
       "    </tr>\n",
       "    <tr>\n",
       "      <th>7</th>\n",
       "      <td>2017</td>\n",
       "      <td>18</td>\n",
       "      <td>0.055556</td>\n",
       "    </tr>\n",
       "    <tr>\n",
       "      <th>8</th>\n",
       "      <td>2016</td>\n",
       "      <td>18</td>\n",
       "      <td>0.055556</td>\n",
       "    </tr>\n",
       "    <tr>\n",
       "      <th>9</th>\n",
       "      <td>2015</td>\n",
       "      <td>18</td>\n",
       "      <td>0.055556</td>\n",
       "    </tr>\n",
       "    <tr>\n",
       "      <th>10</th>\n",
       "      <td>2014</td>\n",
       "      <td>18</td>\n",
       "      <td>0.055556</td>\n",
       "    </tr>\n",
       "    <tr>\n",
       "      <th>11</th>\n",
       "      <td>2013</td>\n",
       "      <td>18</td>\n",
       "      <td>0.055556</td>\n",
       "    </tr>\n",
       "    <tr>\n",
       "      <th>12</th>\n",
       "      <td>2012</td>\n",
       "      <td>18</td>\n",
       "      <td>0.055556</td>\n",
       "    </tr>\n",
       "    <tr>\n",
       "      <th>13</th>\n",
       "      <td>2011</td>\n",
       "      <td>18</td>\n",
       "      <td>0.055556</td>\n",
       "    </tr>\n",
       "    <tr>\n",
       "      <th>14</th>\n",
       "      <td>2010</td>\n",
       "      <td>18</td>\n",
       "      <td>0.055556</td>\n",
       "    </tr>\n",
       "    <tr>\n",
       "      <th>15</th>\n",
       "      <td>2009</td>\n",
       "      <td>18</td>\n",
       "      <td>0.055556</td>\n",
       "    </tr>\n",
       "    <tr>\n",
       "      <th>16</th>\n",
       "      <td>2008</td>\n",
       "      <td>18</td>\n",
       "      <td>0.055556</td>\n",
       "    </tr>\n",
       "    <tr>\n",
       "      <th>17</th>\n",
       "      <td>2023</td>\n",
       "      <td>18</td>\n",
       "      <td>0.055556</td>\n",
       "    </tr>\n",
       "  </tbody>\n",
       "</table>\n",
       "</div>"
      ],
      "text/plain": [
       "    State  Frequency  Relative Frequency\n",
       "0    2006         18            0.055556\n",
       "1    2007         18            0.055556\n",
       "2    2022         18            0.055556\n",
       "3    2021         18            0.055556\n",
       "4    2020         18            0.055556\n",
       "5    2019         18            0.055556\n",
       "6    2018         18            0.055556\n",
       "7    2017         18            0.055556\n",
       "8    2016         18            0.055556\n",
       "9    2015         18            0.055556\n",
       "10   2014         18            0.055556\n",
       "11   2013         18            0.055556\n",
       "12   2012         18            0.055556\n",
       "13   2011         18            0.055556\n",
       "14   2010         18            0.055556\n",
       "15   2009         18            0.055556\n",
       "16   2008         18            0.055556\n",
       "17   2023         18            0.055556"
      ]
     },
     "execution_count": 7,
     "metadata": {},
     "output_type": "execute_result"
    }
   ],
   "source": [
    "#We create the subtable to find the relative frequency\n",
    "subtable = pd.DataFrame({'State': year_counts.index, \n",
    "                         'Frequency': year_counts.values, \n",
    "                         'Relative Frequency': relative_frequencies.values})\n",
    "subtable"
   ]
  },
  {
   "cell_type": "code",
   "execution_count": 8,
   "id": "09a11473",
   "metadata": {},
   "outputs": [
    {
     "name": "stdout",
     "output_type": "stream",
     "text": [
      "1052.6225308641976\n"
     ]
    }
   ],
   "source": [
    "mean_value_col = df_all_data['VALUE'].mean()\n",
    "print(mean_value_col)"
   ]
  },
  {
   "cell_type": "code",
   "execution_count": 9,
   "id": "4751a6c6",
   "metadata": {},
   "outputs": [
    {
     "name": "stdout",
     "output_type": "stream",
     "text": [
      "121.35\n"
     ]
    }
   ],
   "source": [
    "median_value_col = df_all_data['VALUE'].median()\n",
    "print(median_value_col)"
   ]
  },
  {
   "cell_type": "code",
   "execution_count": 10,
   "id": "ab5b4550",
   "metadata": {},
   "outputs": [
    {
     "name": "stdout",
     "output_type": "stream",
     "text": [
      "0    115.5\n",
      "Name: VALUE, dtype: float64\n"
     ]
    }
   ],
   "source": [
    "mode = df_all_data['VALUE'].mode()\n",
    "print(mode)"
   ]
  },
  {
   "cell_type": "code",
   "execution_count": 11,
   "id": "7f043337",
   "metadata": {},
   "outputs": [
    {
     "data": {
      "text/plain": [
       "0      4232.9\n",
       "1        43.8\n",
       "2       132.5\n",
       "3       115.5\n",
       "4      3802.4\n",
       "        ...  \n",
       "319      50.0\n",
       "320     122.6\n",
       "321      40.5\n",
       "322    2287.5\n",
       "323     174.7\n",
       "Name: VALUE, Length: 324, dtype: float64"
      ]
     },
     "execution_count": 11,
     "metadata": {},
     "output_type": "execute_result"
    }
   ],
   "source": [
    "df_all_data['VALUE']"
   ]
  },
  {
   "cell_type": "code",
   "execution_count": 12,
   "id": "92720a34",
   "metadata": {},
   "outputs": [
    {
     "data": {
      "text/plain": [
       "[Text(0.5, 0, 'Population'),\n",
       " Text(0, 0.5, 'Num of cells with a value in this range'),\n",
       " Text(0.5, 1.0, 'Population Values Histogram')]"
      ]
     },
     "execution_count": 12,
     "metadata": {},
     "output_type": "execute_result"
    },
    {
     "data": {
      "image/png": "[encoded data removed]",
      "text/plain": [
       "<Figure size 640x480 with 1 Axes>"
      ]
     },
     "metadata": {},
     "output_type": "display_data"
    }
   ],
   "source": [
    "ax = sns.histplot(df_all_data.VALUE)\n",
    "ax.set(xlabel='Population', ylabel='Num of cells with a value in this range', title ='Population Values Histogram')"
   ]
  },
  {
   "cell_type": "code",
   "execution_count": 13,
   "id": "b199c5e0",
   "metadata": {},
   "outputs": [
    {
     "data": {
      "text/plain": [
       "[Text(0.5, 0, 'Population'),\n",
       " Text(0, 0.5, 'Num of cells with a value in this range'),\n",
       " Text(0.5, 1.0, 'Population Values Histogram')]"
      ]
     },
     "execution_count": 13,
     "metadata": {},
     "output_type": "execute_result"
    },
    {
     "data": {
      "image/png": "[encoded data removed]",
      "text/plain": [
       "<Figure size 640x480 with 1 Axes>"
      ]
     },
     "metadata": {},
     "output_type": "display_data"
    }
   ],
   "source": [
    "# A kernel density estimate (KDE) plot is a method for visualizing the distribution of observations in a dataset, analogous to a histogram.\n",
    "ax = sns.histplot(df_all_data.VALUE, kde=True, color ='green')\n",
    "ax.set(xlabel='Population', ylabel='Num of cells with a value in this range', title ='Population Values Histogram')"
   ]
  },
  {
   "cell_type": "code",
   "execution_count": 14,
   "id": "69503c64",
   "metadata": {},
   "outputs": [
    {
     "data": {
      "image/png": "[encoded data removed]",
      "text/plain": [
       "<Figure size 640x480 with 1 Axes>"
      ]
     },
     "metadata": {},
     "output_type": "display_data"
    }
   ],
   "source": [
    "sns.boxplot(x = 'Sex', y ='VALUE', data=df_all_data, hue = 'Sex')\n",
    "plt.title('Box plot for population growth by sex', fontsize=15)\n",
    "#plt.legend([], [], frameon=False)\n",
    "plt.show()"
   ]
  },
  {
   "cell_type": "code",
   "execution_count": 15,
   "id": "cc3dd853",
   "metadata": {},
   "outputs": [
    {
     "data": {
      "text/html": [
       "<div>\n",
       "<style scoped>\n",
       "    .dataframe tbody tr th:only-of-type {\n",
       "        vertical-align: middle;\n",
       "    }\n",
       "\n",
       "    .dataframe tbody tr th {\n",
       "        vertical-align: top;\n",
       "    }\n",
       "\n",
       "    .dataframe thead th {\n",
       "        text-align: right;\n",
       "    }\n",
       "</style>\n",
       "<table border=\"1\" class=\"dataframe\">\n",
       "  <thead>\n",
       "    <tr style=\"text-align: right;\">\n",
       "      <th></th>\n",
       "      <th>VALUE</th>\n",
       "    </tr>\n",
       "    <tr>\n",
       "      <th>Sex</th>\n",
       "      <th></th>\n",
       "    </tr>\n",
       "  </thead>\n",
       "  <tbody>\n",
       "    <tr>\n",
       "      <th>Both sexes</th>\n",
       "      <td>170524.9</td>\n",
       "    </tr>\n",
       "    <tr>\n",
       "      <th>Female</th>\n",
       "      <td>85940.5</td>\n",
       "    </tr>\n",
       "    <tr>\n",
       "      <th>Male</th>\n",
       "      <td>84584.3</td>\n",
       "    </tr>\n",
       "  </tbody>\n",
       "</table>\n",
       "</div>"
      ],
      "text/plain": [
       "               VALUE\n",
       "Sex                 \n",
       "Both sexes  170524.9\n",
       "Female       85940.5\n",
       "Male         84584.3"
      ]
     },
     "execution_count": 15,
     "metadata": {},
     "output_type": "execute_result"
    }
   ],
   "source": [
    "total_pop_by_category = df_all_data.drop([\"Year\", \"Statistic Label\", \"Citizenship\", \"UNIT\"], axis=1)\n",
    "total_pop_by_category = total_pop_by_category.groupby('Sex', axis = 0).sum()\n",
    "total_pop_by_category"
   ]
  },
  {
   "cell_type": "code",
   "execution_count": 16,
   "id": "0bf22948",
   "metadata": {},
   "outputs": [
    {
     "data": {
      "image/png": "[encoded data removed]",
      "text/plain": [
       "<Figure size 640x480 with 1 Axes>"
      ]
     },
     "metadata": {},
     "output_type": "display_data"
    }
   ],
   "source": [
    "Sex = ['Both sexes', 'Female', 'Male']\n",
    "total_pop_by_category['VALUE'].plot(kind='pie', labels = Sex, radius=1, autopct='%1.1f%%', shadow = True)\n",
    "plt.title('Poulation Growth by Sex')\n",
    "plt.ylabel(\"\")\n",
    "plt.tight_layout()"
   ]
  },
  {
   "cell_type": "code",
   "execution_count": 17,
   "id": "9240ec1d",
   "metadata": {},
   "outputs": [
    {
     "data": {
      "text/html": [
       "<div>\n",
       "<style scoped>\n",
       "    .dataframe tbody tr th:only-of-type {\n",
       "        vertical-align: middle;\n",
       "    }\n",
       "\n",
       "    .dataframe tbody tr th {\n",
       "        vertical-align: top;\n",
       "    }\n",
       "\n",
       "    .dataframe thead th {\n",
       "        text-align: right;\n",
       "    }\n",
       "</style>\n",
       "<table border=\"1\" class=\"dataframe\">\n",
       "  <thead>\n",
       "    <tr style=\"text-align: right;\">\n",
       "      <th></th>\n",
       "      <th>VALUE</th>\n",
       "    </tr>\n",
       "    <tr>\n",
       "      <th>Sex</th>\n",
       "      <th></th>\n",
       "    </tr>\n",
       "  </thead>\n",
       "  <tbody>\n",
       "    <tr>\n",
       "      <th>Both sexes</th>\n",
       "      <td>170524.9</td>\n",
       "    </tr>\n",
       "    <tr>\n",
       "      <th>Female</th>\n",
       "      <td>85940.5</td>\n",
       "    </tr>\n",
       "    <tr>\n",
       "      <th>Male</th>\n",
       "      <td>84584.3</td>\n",
       "    </tr>\n",
       "  </tbody>\n",
       "</table>\n",
       "</div>"
      ],
      "text/plain": [
       "               VALUE\n",
       "Sex                 \n",
       "Both sexes  170524.9\n",
       "Female       85940.5\n",
       "Male         84584.3"
      ]
     },
     "execution_count": 17,
     "metadata": {},
     "output_type": "execute_result"
    }
   ],
   "source": [
    "total_pop_by_category"
   ]
  },
  {
   "cell_type": "code",
   "execution_count": 18,
   "id": "ccfa4330",
   "metadata": {},
   "outputs": [
    {
     "data": {
      "text/html": [
       "<div>\n",
       "<style scoped>\n",
       "    .dataframe tbody tr th:only-of-type {\n",
       "        vertical-align: middle;\n",
       "    }\n",
       "\n",
       "    .dataframe tbody tr th {\n",
       "        vertical-align: top;\n",
       "    }\n",
       "\n",
       "    .dataframe thead th {\n",
       "        text-align: right;\n",
       "    }\n",
       "</style>\n",
       "<table border=\"1\" class=\"dataframe\">\n",
       "  <thead>\n",
       "    <tr style=\"text-align: right;\">\n",
       "      <th></th>\n",
       "      <th>Sex</th>\n",
       "      <th>VALUE</th>\n",
       "    </tr>\n",
       "  </thead>\n",
       "  <tbody>\n",
       "    <tr>\n",
       "      <th>0</th>\n",
       "      <td>Both sexes</td>\n",
       "      <td>170524.9</td>\n",
       "    </tr>\n",
       "    <tr>\n",
       "      <th>1</th>\n",
       "      <td>Female</td>\n",
       "      <td>85940.5</td>\n",
       "    </tr>\n",
       "    <tr>\n",
       "      <th>2</th>\n",
       "      <td>Male</td>\n",
       "      <td>84584.3</td>\n",
       "    </tr>\n",
       "  </tbody>\n",
       "</table>\n",
       "</div>"
      ],
      "text/plain": [
       "          Sex     VALUE\n",
       "0  Both sexes  170524.9\n",
       "1      Female   85940.5\n",
       "2        Male   84584.3"
      ]
     },
     "execution_count": 18,
     "metadata": {},
     "output_type": "execute_result"
    }
   ],
   "source": [
    "total_pop_by_category.reset_index(inplace=True)\n",
    "total_pop_by_category"
   ]
  },
  {
   "cell_type": "code",
   "execution_count": 19,
   "id": "c49dc5c7",
   "metadata": {},
   "outputs": [
    {
     "data": {
      "image/png": "[encoded data removed]",
      "text/plain": [
       "<Figure size 800x600 with 1 Axes>"
      ]
     },
     "metadata": {},
     "output_type": "display_data"
    }
   ],
   "source": [
    "plt.figure(figsize=(8, 6))\n",
    "ax = sns.barplot(x=\"Sex\", y=\"VALUE\", data=total_pop_by_category)"
   ]
  },
  {
   "cell_type": "markdown",
   "id": "14307043",
   "metadata": {},
   "source": [
    "### Question 2\n",
    "\n",
    "Use two discrete distributions (Binomial and/or Poisson) in order to explain/identify some information about your dataset. You must explain your reasoning and the techniques you have used. Visualise your data and explain what happens with the large samples in these cases. You must work with Python and your mathematical reasoning must be documented in your report. [0-30]"
   ]
  },
  {
   "cell_type": "markdown",
   "id": "1730b4ea",
   "metadata": {},
   "source": [
    "### Binomial Distribution"
   ]
  },
  {
   "cell_type": "code",
   "execution_count": 20,
   "id": "78c1708e",
   "metadata": {},
   "outputs": [
    {
     "name": "stdout",
     "output_type": "stream",
     "text": [
      "Requirement already satisfied: matplotlib in c:\\users\\stphn\\anaconda3\\lib\\site-packages (3.7.1)\n",
      "Requirement already satisfied: contourpy>=1.0.1 in c:\\users\\stphn\\anaconda3\\lib\\site-packages (from matplotlib) (1.0.5)\n",
      "Requirement already satisfied: cycler>=0.10 in c:\\users\\stphn\\anaconda3\\lib\\site-packages (from matplotlib) (0.11.0)\n",
      "Requirement already satisfied: fonttools>=4.22.0 in c:\\users\\stphn\\anaconda3\\lib\\site-packages (from matplotlib) (4.25.0)\n",
      "Requirement already satisfied: kiwisolver>=1.0.1 in c:\\users\\stphn\\anaconda3\\lib\\site-packages (from matplotlib) (1.4.4)\n",
      "Requirement already satisfied: numpy>=1.20 in c:\\users\\stphn\\anaconda3\\lib\\site-packages (from matplotlib) (1.24.3)\n",
      "Requirement already satisfied: packaging>=20.0 in c:\\users\\stphn\\anaconda3\\lib\\site-packages (from matplotlib) (23.0)\n",
      "Requirement already satisfied: pillow>=6.2.0 in c:\\users\\stphn\\anaconda3\\lib\\site-packages (from matplotlib) (9.4.0)\n",
      "Requirement already satisfied: pyparsing>=2.3.1 in c:\\users\\stphn\\anaconda3\\lib\\site-packages (from matplotlib) (3.0.9)\n",
      "Requirement already satisfied: python-dateutil>=2.7 in c:\\users\\stphn\\anaconda3\\lib\\site-packages (from matplotlib) (2.8.2)\n",
      "Requirement already satisfied: six>=1.5 in c:\\users\\stphn\\anaconda3\\lib\\site-packages (from python-dateutil>=2.7->matplotlib) (1.16.0)\n",
      "Requirement already satisfied: scipy in c:\\users\\stphn\\anaconda3\\lib\\site-packages (1.10.1)\n",
      "Requirement already satisfied: numpy<1.27.0,>=1.19.5 in c:\\users\\stphn\\anaconda3\\lib\\site-packages (from scipy) (1.24.3)\n"
     ]
    }
   ],
   "source": [
    "!pip install matplotlib\n",
    "!pip install scipy"
   ]
  },
  {
   "cell_type": "code",
   "execution_count": 21,
   "id": "6d0de198",
   "metadata": {},
   "outputs": [],
   "source": [
    "from scipy.stats import binom"
   ]
  },
  {
   "cell_type": "code",
   "execution_count": 22,
   "id": "25391615",
   "metadata": {},
   "outputs": [
    {
     "name": "stdout",
     "output_type": "stream",
     "text": [
      "Probability of 3 out of 10 random people being female 0.11%\n"
     ]
    }
   ],
   "source": [
    "total_pop_both_sexs_2023 = df_all_data[((df_all_data['Sex'] == \"Both sexes\") & (df_all_data['Citizenship'] == \"All Countries\") & (df_all_data['Year'] == 2023))]\n",
    "total_pop_both_sexs_2023 = total_pop_both_sexs_2023['VALUE']  # returns total population for both sexs in all countries for 2023\n",
    "total_pop_both_sexs_2023 # 5281.6 total population for both sexs in 2023\n",
    "total_pop_both_sexs_2023 = int(total_pop_both_sexs_2023) # Convert returned value to an int\n",
    "#total_pop_both_sexs_2023\n",
    "\n",
    "total_pop_female_2023 = df_all_data[((df_all_data['Sex'] == \"Female\") & (df_all_data['Citizenship'] == \"All Countries\") & (df_all_data['Year'] == 2023))]\n",
    "total_pop_female_2023 = total_pop_female_2023['VALUE']  # returns total female population in all countries for 2023\n",
    "total_pop_female_2023 # 2675.4 total female population for 2023\n",
    "total_pop_female_2023 = int(total_pop_female_2023) # Convert returned value to an int\n",
    "#total_pop_female_2023\n",
    "\n",
    "probability_of_female = total_pop_female_2023 / total_pop_both_sexs_2023\n",
    "#probability_of_female # 0.506551045137837\n",
    "\n",
    "\n",
    "# The PMF is a probability measure that gives us probabilities of the possible values for a random variable.\n",
    "result = binom.pmf(k = 3, n= 10, p = probability_of_female)\n",
    "print(\"Probability of 3 out of 10 random people being female \" + str(round(result,2)) + \"%\")"
   ]
  },
  {
   "cell_type": "code",
   "execution_count": 23,
   "id": "f42b5bd6",
   "metadata": {},
   "outputs": [
    {
     "data": {
      "image/png": "[encoded data removed]",
      "text/plain": [
       "<Figure size 1000x500 with 1 Axes>"
      ]
     },
     "metadata": {},
     "output_type": "display_data"
    }
   ],
   "source": [
    "# setting the values of n and p \n",
    "n = 10\n",
    "p = probability_of_female\n",
    "# defining list of r values \n",
    "r_values = list(range(n + 1)) \n",
    "# list of pmf values \n",
    "dist = [binom.pmf(r, n, p) for r in r_values ] \n",
    "# plotting the graph  \n",
    "plt.figure(figsize=(10,5))\n",
    "plt.bar(r_values, dist) \n",
    "plt.title(\"Probability of 3 out of 10 random people being female 0.11%\")\n",
    "plt.show()"
   ]
  },
  {
   "cell_type": "code",
   "execution_count": 24,
   "id": "5c29a006",
   "metadata": {},
   "outputs": [
    {
     "name": "stdout",
     "output_type": "stream",
     "text": [
      "Probability of less then 3 out of 10 random people being female 0.05%\n"
     ]
    }
   ],
   "source": [
    "# The binomial cumulative distribution function lets you obtain the probability of observing less than or equal to x \n",
    "# successes in n trials, with the probability p of success on a single trial.\n",
    "result = binom.cdf(k = 2, n= 10, p = probability_of_female)\n",
    "print(\"Probability of less then 3 out of 10 random people being female \" + str(round(result,2)) + \"%\")"
   ]
  },
  {
   "cell_type": "code",
   "execution_count": 25,
   "id": "4a8f97da",
   "metadata": {},
   "outputs": [
    {
     "data": {
      "image/png": "[encoded data removed]",
      "text/plain": [
       "<Figure size 1000x500 with 1 Axes>"
      ]
     },
     "metadata": {},
     "output_type": "display_data"
    }
   ],
   "source": [
    "# setting the values of n and p \n",
    "n = 10\n",
    "p = probability_of_female\n",
    "r = 2\n",
    "# defining list of r values\n",
    "r_values = list(range(n + 1)) \n",
    "# list of pmf values \n",
    "dist = [binom.cdf(r, n, p) for r in r_values ] \n",
    "# plotting the graph  \n",
    "plt.figure(figsize=(10,5))\n",
    "plt.bar(r_values, dist) \n",
    "plt.title(\"Probability of less then 3 out of 10 random people being female 0.05%\")\n",
    "plt.show()"
   ]
  },
  {
   "cell_type": "code",
   "execution_count": 26,
   "id": "78aa1ce3",
   "metadata": {},
   "outputs": [
    {
     "name": "stdout",
     "output_type": "stream",
     "text": [
      "Probability of 3 or less people out of 10 random people being female 0.16%\n"
     ]
    }
   ],
   "source": [
    "# The binomial cumulative distribution function lets you obtain the probability of observing less than or equal to x \n",
    "# successes in n trials, with the probability p of success on a single trial.\n",
    "result = binom.cdf(k = 3, n= 10, p = probability_of_female)\n",
    "print(\"Probability of 3 or less people out of 10 random people being female \" + str(round(result,2)) + \"%\")"
   ]
  },
  {
   "cell_type": "code",
   "execution_count": 27,
   "id": "5ca573fe",
   "metadata": {},
   "outputs": [
    {
     "data": {
      "image/png": "[encoded data removed]",
      "text/plain": [
       "<Figure size 1000x500 with 1 Axes>"
      ]
     },
     "metadata": {},
     "output_type": "display_data"
    }
   ],
   "source": [
    "# setting the values of n and p \n",
    "n = 10\n",
    "p = probability_of_female\n",
    "r = 3\n",
    "# defining list of r values\n",
    "r_values = list(range(n + 1)) \n",
    "# list of pmf values \n",
    "dist = [binom.cdf(r, n, p) for r in r_values ] \n",
    "# plotting the graph  \n",
    "plt.figure(figsize=(10,5))\n",
    "plt.bar(r_values, dist) \n",
    "plt.title(\"Probability of 3 or less people out of 10 random people being female 0.16%\")\n",
    "plt.show()"
   ]
  },
  {
   "cell_type": "code",
   "execution_count": 28,
   "id": "f50d936e",
   "metadata": {},
   "outputs": [
    {
     "name": "stdout",
     "output_type": "stream",
     "text": [
      "Probability of more then 3 out of 10 random people being female 0.84%\n"
     ]
    }
   ],
   "source": [
    "# calculates the probability of having more than k out of n iterations\n",
    "# Survival function (1-cdf — sometimes more accurate).\n",
    "result = binom.sf(k = 3, n = 10, p = probability_of_female)\n",
    "print(\"Probability of more then 3 out of 10 random people being female \" + str(round(result,2)) + \"%\")"
   ]
  },
  {
   "cell_type": "code",
   "execution_count": 29,
   "id": "f80de576",
   "metadata": {
    "scrolled": true
   },
   "outputs": [
    {
     "data": {
      "image/png": "[encoded data removed]",
      "text/plain": [
       "<Figure size 1000x500 with 1 Axes>"
      ]
     },
     "metadata": {},
     "output_type": "display_data"
    }
   ],
   "source": [
    "# setting the values of n and p \n",
    "n = 10\n",
    "p = probability_of_female\n",
    "# defining list of r values\n",
    "r_values = list(range(n + 1)) \n",
    "# list of pmf values \n",
    "dist = [binom.sf(r, n, p) for r in r_values ] \n",
    "# plotting the graph  \n",
    "plt.figure(figsize=(10,5))\n",
    "plt.bar(r_values, dist) \n",
    "plt.title(\"Probability of more then 3 out of 10 random people being female 0.84%\")\n",
    "plt.show()"
   ]
  },
  {
   "cell_type": "markdown",
   "id": "a8cc7f9e",
   "metadata": {},
   "source": [
    "### Poisson distribution"
   ]
  },
  {
   "cell_type": "markdown",
   "id": "e8ffd4eb",
   "metadata": {},
   "source": [
    "Find the average poulation growth for all years so it can be used as mu inside of poisson calculations"
   ]
  },
  {
   "cell_type": "code",
   "execution_count": 62,
   "id": "85f4748d",
   "metadata": {},
   "outputs": [
    {
     "name": "stdout",
     "output_type": "stream",
     "text": [
      "Unique year values inside of dataset: [2006 2007 2008 2009 2010 2011 2012 2013 2014 2015 2016 2017 2018 2019\n",
      " 2020 2021 2022 2023]\n",
      "Number of elements inside of unique year values array: 18\n",
      "Total population values by year: [4232.9 4375.8 4485.1 4533.4 4554.8 4574.9 4593.7 4614.7 4645.4 4687.8\n",
      " 4739.6 4810.9 4884.9 4958.5 5029.9 5074.7 5184.  5281.6]\n",
      "Number of elements inside of total population values by year array: 18\n",
      "List without 2023 value:  [4232.9, 4375.8, 4485.1, 4533.4, 4554.8, 4574.9, 4593.7, 4614.7, 4645.4, 4687.8, 4739.6, 4810.9, 4884.9, 4958.5, 5029.9, 5074.7, 5184.0]\n",
      "List without 2023 value:  17\n",
      "List without 2023 value:  [4375.8, 4485.1, 4533.4, 4554.8, 4574.9, 4593.7, 4614.7, 4645.4, 4687.8, 4739.6, 4810.9, 4884.9, 4958.5, 5029.9, 5074.7, 5184.0, 5281.6]\n",
      "List without 2023 value:  17\n",
      "List with subtracted values values:  ['142.9', '109.3', '48.3', '21.4', '20.1', '18.8', '21.0', '30.7', '42.4', '51.8', '71.3', '74.0', '73.6', '71.4', '44.8', '109.3', '97.6']\n",
      "List with subtracted values length:  17\n",
      "Modified list is:  [142.9, 109.3, 48.3, 21.4, 20.1, 18.8, 21.0, 30.7, 42.4, 51.8, 71.3, 74.0, 73.6, 71.4, 44.8, 109.3, 97.6]\n",
      "Sum of population growth for all years:  1048.70\n",
      "Average population growth for all years:  61.69\n"
     ]
    }
   ],
   "source": [
    "df_all_years_unique = df_all_data.Year.unique()\n",
    "print(\"Unique year values inside of dataset: \" + str(df_all_years_unique))\n",
    "print(\"Number of elements inside of unique year values array: \" + str(df_all_years_unique.size)) # 18\n",
    "\n",
    "# Two columns can be dropped as they do not give any value to further calculations\n",
    "df_columns_dropped = df_all_data.drop([\"Statistic Label\", \"UNIT\"], axis=1)\n",
    "df_columns_dropped.head(5) # Print first five rows to ensure the correct columns were dropped\n",
    "\n",
    "total_pop_by_year = df_columns_dropped[((df_all_data['Sex'] == \"Both sexes\") & (df_columns_dropped['Citizenship'] == \"All Countries\"))]\n",
    "total_pop_by_year = total_pop_by_year.drop([\"Year\", \"Sex\", \"Citizenship\"], axis=1)\n",
    "total_pop_by_year = total_pop_by_year.to_numpy()\n",
    "total_pop_by_year = total_pop_by_year.flatten()\n",
    "print(\"Total population values by year: \" + str(total_pop_by_year))\n",
    "print(\"Number of elements inside of total population values by year array: \" + str(total_pop_by_year.size)) # 18\n",
    "\n",
    "# remove last total population value\n",
    "total_pop_without_2023_val = total_pop_by_year.tolist()\n",
    "total_pop_without_2023_val.pop()\n",
    "print(\"List without 2023 value: \", total_pop_without_2023_val) # print the new list that does not have the 2023 value\n",
    "print(\"List without 2023 value: \", len(total_pop_without_2023_val)) # 17\n",
    "\n",
    "# remove first total population value\n",
    "total_pop_without_first_val = total_pop_by_year.tolist()\n",
    "total_pop_without_first_val.pop(0)\n",
    "print(\"List without 2023 value: \", total_pop_without_first_val) # print the new list that does not have the 2023 value\n",
    "print(\"List without 2023 value: \", len(total_pop_without_first_val)) # 17\n",
    "\n",
    "difference_in_yearly_pop_growth_str = []\n",
    "for i in range(len(total_pop_without_first_val)):\n",
    "    value = total_pop_without_first_val[i] - total_pop_without_2023_val[i]\n",
    "    difference_in_yearly_pop_growth_str.append(\"{:.1f}\".format(value))\n",
    "print(\"List with subtracted values values: \", difference_in_yearly_pop_growth_str)\n",
    "print(\"List with subtracted values length: \", len(difference_in_yearly_pop_growth_str)) # 17\n",
    "\n",
    "int_list = [eval(i) for i in result]\n",
    "print(\"Modified list is: \", int_list)\n",
    "\n",
    "sum_of_pop_growth = sum(res)\n",
    "print(\"Sum of population growth for all years: \", \"{:.2f}\".format(sum_of_pop_growth)) # 1048.70 thousand\n",
    "\n",
    "average_growth = Sum / 17\n",
    "print(\"Average population growth for all years: \", \"{:.2f}\".format(average_growth)) # 61.69 thousand\n"
   ]
  },
  {
   "cell_type": "code",
   "execution_count": 86,
   "id": "2e85c9fb",
   "metadata": {},
   "outputs": [],
   "source": [
    "from scipy.stats import poisson"
   ]
  },
  {
   "cell_type": "code",
   "execution_count": 87,
   "id": "6c5870ac",
   "metadata": {},
   "outputs": [
    {
     "name": "stdout",
     "output_type": "stream",
     "text": [
      "Probability of population growing 100 thousand on a given year: 0.0000018%\n"
     ]
    }
   ],
   "source": [
    "# The PMF is a probability measure that gives us probabilities of the possible values for a random variable.\n",
    "# Population in Ireland grows 61.69 thousand per year on average. \n",
    "# What is the probability that the population will grow 100 thousand on a given year?\n",
    "result = poisson.pmf(k = 100, mu = 61.69)\n",
    "# Python f-strings, or formatted string literals, were introduced in Python 3.6.\n",
    "print(f\"Probability of population growing 100 thousand on a given year: {result:.7f}%\")\n"
   ]
  },
  {
   "cell_type": "code",
   "execution_count": 104,
   "id": "653f2ead",
   "metadata": {},
   "outputs": [
    {
     "data": {
      "text/plain": [
       "(array([1.57456472e-06, 1.71990916e-05, 9.90310371e-05, 3.06585920e-04,\n",
       "        4.86964421e-04, 3.97032551e-04, 1.64905375e-04, 3.65026495e-05,\n",
       "        3.96669190e-06, 2.42240727e-07]),\n",
       " array([613803. , 614463.5, 615124. , 615784.5, 616445. , 617105.5,\n",
       "        617766. , 618426.5, 619087. , 619747.5, 620408. ]),\n",
       " <BarContainer object of 10 artists>)"
      ]
     },
     "execution_count": 104,
     "metadata": {},
     "output_type": "execute_result"
    },
    {
     "data": {
      "image/png": "[encoded data removed]",
      "text/plain": [
       "<Figure size 640x480 with 1 Axes>"
      ]
     },
     "metadata": {},
     "output_type": "display_data"
    }
   ],
   "source": [
    "#generate Poisson distribution with sample size 10000\n",
    "x = poisson.rvs(mu=616900, size=100000)\n",
    "\n",
    "#create plot of Poisson distribution\n",
    "plt.hist(x, density=True, edgecolor='black')"
   ]
  },
  {
   "cell_type": "code",
   "execution_count": 98,
   "id": "8e68724c",
   "metadata": {},
   "outputs": [
    {
     "name": "stdout",
     "output_type": "stream",
     "text": [
      "Probability of population growth being 40 thousand or less on a given year: 0.0021375%\n"
     ]
    }
   ],
   "source": [
    "# The Poisson cumulative distribution function lets you obtain the probability of an event occurring within a given time \n",
    "# or space interval less than or equal to x times if on average the event occurs λ times within that interval.\n",
    "\n",
    "# Population in Ireland grows 61.69 thousand per year on average. \n",
    "# What is the probability that population growth will be 40 thousand or less on a given year?\n",
    "result = poisson.cdf(k = 40, mu = 61.69)\n",
    "# Python f-strings, or formatted string literals, were introduced in Python 3.6.\n",
    "print(f\"Probability of population growth being 40 thousand or less on a given year: {result:.7f}%\")"
   ]
  },
  {
   "cell_type": "code",
   "execution_count": null,
   "id": "6d1d59c7",
   "metadata": {},
   "outputs": [],
   "source": [
    "# The Poisson cumulative distribution function lets you obtain the probability of an event occurring within a given time \n",
    "# or space interval less than or equal to x times if on average the event occurs λ times within that interval.\n",
    "\n",
    "# Population in Ireland grows 61.69 thousand per year on average. \n",
    "# What is the probability that population growth will be 40 thousand or less on a given year?\n",
    "result = poisson.cdf(k = 40, mu = 61.69)\n",
    "# Python f-strings, or formatted string literals, were introduced in Python 3.6.\n",
    "print(f\"Probability of population growth being 40 thousand or less on a given year: {result:.7f}%\")"
   ]
  },
  {
   "cell_type": "code",
   "execution_count": 101,
   "id": "ed081cd3",
   "metadata": {},
   "outputs": [
    {
     "name": "stdout",
     "output_type": "stream",
     "text": [
      "Probability of population growth being 40 thousand or less on a given year: 0.5011695%\n"
     ]
    }
   ],
   "source": [
    "#Greater than 61.69 thousand --> P( x > 61.69 thousand) or P( X >= num higher then 61.69 thousand)\n",
    "# Survival function (1-cdf — sometimes more accurate).\n",
    "result = poisson.sf(k = 61.69, mu = 61.69)\n",
    "print(f\"Probability of population growing higher then 61.69 thousand on a given year: {result:.7f}%\")"
   ]
  },
  {
   "cell_type": "code",
   "execution_count": 102,
   "id": "b94867c8",
   "metadata": {},
   "outputs": [
    {
     "name": "stdout",
     "output_type": "stream",
     "text": [
      "Probability of population growing between 20 and 50 thousand on a given year: 0.0736097%\n"
     ]
    }
   ],
   "source": [
    "#Between 20 thousand and 50 thousand inclusive\n",
    "# P(x=<50) - P(x=<10)\n",
    "\n",
    "result = poisson.cdf(k = 50, mu = 61.69) - poisson.cdf(k = 10, mu = 61.69)\n",
    "print(f\"Probability of population growing between 20 and 50 thousand on a given year: {result:.7f}%\")"
   ]
  },
  {
   "cell_type": "markdown",
   "id": "b4414e8a",
   "metadata": {},
   "source": [
    "### Question 3\n",
    "\n",
    "Use Normal distribution to explain or identify some information about your dataset. "
   ]
  },
  {
   "cell_type": "code",
   "execution_count": 105,
   "id": "08eb96ff",
   "metadata": {},
   "outputs": [
    {
     "data": {
      "text/plain": [
       "array([4232.9, 4375.8, 4485.1, 4533.4, 4554.8, 4574.9, 4593.7, 4614.7,\n",
       "       4645.4, 4687.8, 4739.6, 4810.9, 4884.9, 4958.5, 5029.9, 5074.7,\n",
       "       5184. , 5281.6])"
      ]
     },
     "execution_count": 105,
     "metadata": {},
     "output_type": "execute_result"
    }
   ],
   "source": [
    "# dataset has already been prepared in question 2\n",
    "total_pop_by_year"
   ]
  },
  {
   "cell_type": "code",
   "execution_count": 145,
   "id": "392441de",
   "metadata": {},
   "outputs": [
    {
     "name": "stdout",
     "output_type": "stream",
     "text": [
      "<class 'numpy.ndarray'>\n",
      "     VALUE\n",
      "0   4232.9\n",
      "1   4375.8\n",
      "2   4485.1\n",
      "3   4533.4\n",
      "4   4554.8\n",
      "5   4574.9\n",
      "6   4593.7\n",
      "7   4614.7\n",
      "8   4645.4\n",
      "9   4687.8\n",
      "10  4739.6\n",
      "11  4810.9\n",
      "12  4884.9\n",
      "13  4958.5\n",
      "14  5029.9\n",
      "15  5074.7\n",
      "16  5184.0\n",
      "17  5281.6\n",
      "<class 'pandas.core.frame.DataFrame'>\n"
     ]
    }
   ],
   "source": [
    "# Convert a NumPy Array to Pandas DataFrame\n",
    "print(type(total_pop_by_year))\n",
    "\n",
    "dataset = pd.DataFrame(total_pop_by_year, columns = ['VALUE'])\n",
    "print(dataset)\n",
    "print(type(dataset))"
   ]
  },
  {
   "cell_type": "code",
   "execution_count": 146,
   "id": "54f50dde",
   "metadata": {},
   "outputs": [
    {
     "data": {
      "text/html": [
       "<div>\n",
       "<style scoped>\n",
       "    .dataframe tbody tr th:only-of-type {\n",
       "        vertical-align: middle;\n",
       "    }\n",
       "\n",
       "    .dataframe tbody tr th {\n",
       "        vertical-align: top;\n",
       "    }\n",
       "\n",
       "    .dataframe thead th {\n",
       "        text-align: right;\n",
       "    }\n",
       "</style>\n",
       "<table border=\"1\" class=\"dataframe\">\n",
       "  <thead>\n",
       "    <tr style=\"text-align: right;\">\n",
       "      <th></th>\n",
       "      <th>VALUE</th>\n",
       "    </tr>\n",
       "  </thead>\n",
       "  <tbody>\n",
       "    <tr>\n",
       "      <th>count</th>\n",
       "      <td>18.000000</td>\n",
       "    </tr>\n",
       "    <tr>\n",
       "      <th>mean</th>\n",
       "      <td>4736.811111</td>\n",
       "    </tr>\n",
       "    <tr>\n",
       "      <th>std</th>\n",
       "      <td>283.662942</td>\n",
       "    </tr>\n",
       "    <tr>\n",
       "      <th>min</th>\n",
       "      <td>4232.900000</td>\n",
       "    </tr>\n",
       "    <tr>\n",
       "      <th>25%</th>\n",
       "      <td>4559.825000</td>\n",
       "    </tr>\n",
       "    <tr>\n",
       "      <th>50%</th>\n",
       "      <td>4666.600000</td>\n",
       "    </tr>\n",
       "    <tr>\n",
       "      <th>75%</th>\n",
       "      <td>4940.100000</td>\n",
       "    </tr>\n",
       "    <tr>\n",
       "      <th>max</th>\n",
       "      <td>5281.600000</td>\n",
       "    </tr>\n",
       "  </tbody>\n",
       "</table>\n",
       "</div>"
      ],
      "text/plain": [
       "             VALUE\n",
       "count    18.000000\n",
       "mean   4736.811111\n",
       "std     283.662942\n",
       "min    4232.900000\n",
       "25%    4559.825000\n",
       "50%    4666.600000\n",
       "75%    4940.100000\n",
       "max    5281.600000"
      ]
     },
     "execution_count": 146,
     "metadata": {},
     "output_type": "execute_result"
    }
   ],
   "source": [
    "# Find the mean and the std\n",
    "dataset.describe()"
   ]
  },
  {
   "cell_type": "code",
   "execution_count": 160,
   "id": "4b69039e",
   "metadata": {},
   "outputs": [],
   "source": [
    "from scipy.stats import norm\n",
    "\n",
    "mean = 4737\n",
    "std_dev = 284"
   ]
  },
  {
   "cell_type": "code",
   "execution_count": 161,
   "id": "ca6a7c79",
   "metadata": {},
   "outputs": [
    {
     "name": "stdout",
     "output_type": "stream",
     "text": [
      "Probability that we are on the same range of growth as other years: 0.9835705%\n"
     ]
    }
   ],
   "source": [
    "# X = Average yearly population growth for years 2006 -> 2023 is: 61.69 thousand\n",
    "# X = total population 2023 (5281.6) + average population growth over 18 years (61.69) = 5,343.29 thousand\n",
    "result = norm.cdf(5343,mean, std_dev)\n",
    "print(f\"Probability that we are on the same range of growth as other years: {result:.7f}%\")"
   ]
  },
  {
   "cell_type": "markdown",
   "id": "7d36f813",
   "metadata": {},
   "source": [
    "10 years have been selected. To check the probability that more than 4 years grow less than 61.69 thousand in population?\n",
    "\n",
    "Y = number of years that grew less than 61.69 thousand\n",
    "n = 10; p = 0.98"
   ]
  },
  {
   "cell_type": "code",
   "execution_count": 170,
   "id": "cf825b50",
   "metadata": {},
   "outputs": [
    {
     "name": "stdout",
     "output_type": "stream",
     "text": [
      "Probability that we are on the same range of growth as other years: 0.99999999%\n"
     ]
    }
   ],
   "source": [
    "#P(Y > 4)\n",
    "result = binom.sf(k = 4, n = 10, p = 0.98)\n",
    "print(f\"Probability that we are on the same range of growth as other years: {result:.8f}%\")"
   ]
  },
  {
   "cell_type": "markdown",
   "id": "4faeae0a",
   "metadata": {},
   "source": [
    "To check the probability of finding 5 years with growth over a 10 year period\n",
    "n = 10, p = 0.98"
   ]
  },
  {
   "cell_type": "code",
   "execution_count": 169,
   "id": "e6fdb865",
   "metadata": {},
   "outputs": [
    {
     "name": "stdout",
     "output_type": "stream",
     "text": [
      "Probability that we are on the same range of growth as other years: 0.0001438%\n"
     ]
    }
   ],
   "source": [
    "result = binom.pmf(k = 5, n = 10, p = 0.06)\n",
    "print(f\"Probability that we are on the same range of growth as other years: {result:.7f}%\")"
   ]
  },
  {
   "cell_type": "code",
   "execution_count": 159,
   "id": "6965a1b5",
   "metadata": {},
   "outputs": [
    {
     "data": {
      "image/png": "[encoded data removed]",
      "text/plain": [
       "<Figure size 1000x500 with 1 Axes>"
      ]
     },
     "metadata": {},
     "output_type": "display_data"
    }
   ],
   "source": [
    "# setting the values of n and p \n",
    "n = 10\n",
    "p = 0.98\n",
    "# defining list of r values\n",
    "r_values = list(range(n)) \n",
    "# list of pmf values \n",
    "dist = [binom.sf(r, n, p) for r in r_values ] \n",
    "# plotting the graph  \n",
    "plt.figure(figsize=(10,5))\n",
    "plt.bar(r_values, dist) \n",
    "plt.title(\"Probability that more than 4 years grow less than 61.69 thousand in population\")\n",
    "plt.show()"
   ]
  },
  {
   "cell_type": "code",
   "execution_count": null,
   "id": "05f8623a",
   "metadata": {},
   "outputs": [],
   "source": []
  }
 ],
 "metadata": {
  "kernelspec": {
   "display_name": "Python 3 (ipykernel)",
   "language": "python",
   "name": "python3"
  },
  "language_info": {
   "codemirror_mode": {
    "name": "ipython",
    "version": 3
   },
   "file_extension": ".py",
   "mimetype": "text/x-python",
   "name": "python",
   "nbconvert_exporter": "python",
   "pygments_lexer": "ipython3",
   "version": "3.11.4"
  }
 },
 "nbformat": 4,
 "nbformat_minor": 5
}
